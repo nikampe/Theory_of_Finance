{
 "cells": [
  {
   "cell_type": "markdown",
   "metadata": {},
   "source": [
    "# Problem Set 2: Risk Measures"
   ]
  },
  {
   "cell_type": "markdown",
   "metadata": {},
   "source": [
    "## Task 1: Estimation, Interpretation"
   ]
  },
  {
   "cell_type": "markdown",
   "metadata": {},
   "source": [
    "### a)"
   ]
  },
  {
   "cell_type": "code",
   "execution_count": 24,
   "metadata": {},
   "outputs": [],
   "source": [
    "import pandas as pd\n",
    "import numpy as np\n",
    "from scipy.stats import norm, kurtosis, skew\n",
    "import matplotlib.pyplot as plt\n",
    "import statsmodels.api as sm\n",
    "import datetime as dt\n",
    "from dateutil.relativedelta import relativedelta"
   ]
  },
  {
   "cell_type": "code",
   "execution_count": 2,
   "metadata": {},
   "outputs": [],
   "source": [
    "confidence_level = 0.95"
   ]
  },
  {
   "cell_type": "code",
   "execution_count": 3,
   "metadata": {},
   "outputs": [
    {
     "name": "stdout",
     "output_type": "stream",
     "text": [
      "            JP_MORGAN_CHASE  EXXON_MOBIL     INTEL    PFIZER    BOEING  \\\n",
      "date                                                                     \n",
      "1973-01-03        -0.002300     0.012800 -0.009900  0.002900  0.023900   \n",
      "1973-01-04         0.000000     0.002765 -0.009999  0.011367 -0.009278   \n",
      "1973-01-05        -0.002406     0.005612  0.000000  0.005718 -0.018927   \n",
      "1973-01-08         0.002411     0.004210  0.010100 -0.022547  0.014469   \n",
      "1973-01-09        -0.007016     0.000000  0.029997  0.000000 -0.014263   \n",
      "\n",
      "                 RF  \n",
      "date                 \n",
      "1973-01-03  0.00021  \n",
      "1973-01-04  0.00021  \n",
      "1973-01-05  0.00021  \n",
      "1973-01-08  0.00021  \n",
      "1973-01-09  0.00021  \n"
     ]
    }
   ],
   "source": [
    "data = pd.read_csv(r'PS2 - Data.csv', index_col = 0)\n",
    "data.set_index('date', drop = True, inplace = True)\n",
    "print(data.head(n = 5))"
   ]
  },
  {
   "cell_type": "code",
   "execution_count": 4,
   "metadata": {},
   "outputs": [
    {
     "name": "stdout",
     "output_type": "stream",
     "text": [
      "            PORTFOLIO RETURN\n",
      "1973-01-03          0.005480\n",
      "1973-01-04         -0.001029\n",
      "1973-01-05         -0.002000\n",
      "1973-01-08          0.001729\n",
      "1973-01-09          0.001744\n",
      "...                      ...\n",
      "2021-07-20          0.022429\n",
      "2021-07-21          0.019044\n",
      "2021-07-22         -0.005043\n",
      "2021-07-23         -0.009607\n",
      "2021-07-26          0.015867\n",
      "\n",
      "[12248 rows x 1 columns]\n"
     ]
    }
   ],
   "source": [
    "weights = [1/5, 1/5, 1/5, 1/5, 1/5]\n",
    "\n",
    "dates = np.array(data.index)\n",
    "stocks = np.array(data.columns[0:5])\n",
    "\n",
    "portfolio = pd.DataFrame()\n",
    "for date in dates:\n",
    "    portfolio_return = 0\n",
    "    for stock, weight in zip(stocks, weights):\n",
    "        portfolio_return += data.loc[date, stock] * weight\n",
    "    portfolio.loc[date, 'PORTFOLIO RETURN'] = portfolio_return\n",
    "print(portfolio)"
   ]
  },
  {
   "cell_type": "code",
   "execution_count": 8,
   "metadata": {},
   "outputs": [
    {
     "name": "stdout",
     "output_type": "stream",
     "text": [
      "\n",
      "Quantile Check of N(0,1): -1.66\n",
      "\n",
      "                        PORTFOLIO JP_MORGAN_CHASE EXXON_MOBIL    INTEL  \\\n",
      "Mean Absolute Deviation   0.00979         0.01435     0.01052  0.01865   \n",
      "Semi Std                  0.00993         0.01486     0.01054  0.01889   \n",
      "Empirical VaR             0.02051         0.03047     0.02191  0.03847   \n",
      "Empirical ES              0.03094         0.04741     0.03286  0.05986   \n",
      "\n",
      "                          PFIZER   BOEING  \n",
      "Mean Absolute Deviation  0.01239  0.01455  \n",
      "Semi Std                 0.01204  0.01451  \n",
      "Empirical VaR            0.02559   0.0299  \n",
      "Empirical ES             0.03801  0.04564  \n"
     ]
    }
   ],
   "source": [
    "assets = np.concatenate([['PORTFOLIO'], stocks])\n",
    "measures = np.array(['Mean Absolute Deviation', 'Semi Std', 'Empirical VaR', 'Empirical ES'])\n",
    "\n",
    "data_agg = pd.concat([portfolio, data], axis = 1)\n",
    "data_agg.drop('RF', axis = 1, inplace = True)\n",
    "data_agg.rename(columns = {'PORTFOLIO RETURN': 'PORTFOLIO'}, inplace = True)\n",
    "risk_measures = pd.DataFrame(index = measures, columns = assets)\n",
    "\n",
    "periods = len(data_agg.index)\n",
    "dates = np.array(data_agg.index)\n",
    "assets = np.array(data_agg.columns)\n",
    "\n",
    "# Quantile Generation Check\n",
    "normal_dist = pd.Series(np.random.normal(loc = 0.0, scale = 1.0, size = 100000))\n",
    "return_quantile_normal = normal_dist.quantile(q = 1-confidence_level)\n",
    "\n",
    "print(f'\\nQuantile Check of N(0,1): {round(return_quantile_normal, 2)}\\n')\n",
    "\n",
    "for asset in assets:\n",
    "    return_mean = data_agg[asset].mean()\n",
    "    return_variance = data_agg[asset].var()\n",
    "    return_quantile = data_agg[asset].quantile(q = 1-confidence_level)\n",
    "    absolute_deviation = 0\n",
    "    semi_variance = 0\n",
    "    for date in dates:\n",
    "        if data_agg.loc[date, asset] <= return_mean:\n",
    "            delta = 1\n",
    "        else:\n",
    "            delta = 0\n",
    "        absolute_deviation += np.absolute(data_agg.loc[date, asset] - return_mean)\n",
    "        semi_variance += delta * ((data_agg.loc[date, asset] - return_mean)**2)\n",
    "    mean_absolute_deviation = absolute_deviation / periods\n",
    "    semi_variance = semi_variance / periods\n",
    "    semi_std = np.sqrt(semi_variance)\n",
    "    # empirical_var = -(return_mean + (return_quantile * np.sqrt(return_variance)))\n",
    "    empirical_var = -return_quantile\n",
    "    deltas = 0\n",
    "    empirical_es = 0\n",
    "    for date in dates:\n",
    "        if data_agg.loc[date, asset] <= -empirical_var:\n",
    "            delta = 1\n",
    "        else:\n",
    "            delta = 0\n",
    "        deltas += delta\n",
    "        empirical_es += delta * data_agg.loc[date, asset]\n",
    "    empirical_es = (-1/deltas) * empirical_es\n",
    "    risk_measures.loc['Mean Absolute Deviation', asset] = round(mean_absolute_deviation, 5)\n",
    "    risk_measures.loc['Semi Std', asset] = round(semi_std, 5)\n",
    "    risk_measures.loc['Empirical VaR', asset] = round(empirical_var, 5)\n",
    "    risk_measures.loc['Empirical ES', asset] = round(empirical_es, 5)\n",
    "    \n",
    "print(risk_measures)"
   ]
  },
  {
   "cell_type": "markdown",
   "metadata": {},
   "source": [
    "### b)"
   ]
  },
  {
   "cell_type": "markdown",
   "metadata": {},
   "source": [
    "seen in the solution sheet"
   ]
  },
  {
   "cell_type": "markdown",
   "metadata": {},
   "source": [
    "### c)"
   ]
  },
  {
   "cell_type": "code",
   "execution_count": 10,
   "metadata": {},
   "outputs": [
    {
     "name": "stdout",
     "output_type": "stream",
     "text": [
      "            MONTHLY PORTFOLIO RETURN\n",
      "1973-02-02                 -0.056548\n",
      "1973-02-05                 -0.063560\n",
      "1973-02-06                 -0.072307\n",
      "1973-02-07                 -0.084580\n",
      "1973-02-08                 -0.082514\n",
      "...                              ...\n",
      "2021-07-20                 -0.018334\n",
      "2021-07-21                 -0.020397\n",
      "2021-07-22                 -0.028526\n",
      "2021-07-23                 -0.035449\n",
      "2021-07-26                 -0.031808\n",
      "\n",
      "[12227 rows x 1 columns]\n"
     ]
    }
   ],
   "source": [
    "dates = np.array(portfolio.index)\n",
    "\n",
    "portfolio_value = 100\n",
    "monthly_portfolio = pd.DataFrame(index = dates, columns = ['PORTFOLIO VALUE'])\n",
    "for date in dates:\n",
    "    daily_return = portfolio.loc[date, 'PORTFOLIO RETURN']\n",
    "    portfolio_value = portfolio_value * (1 + daily_return)\n",
    "    monthly_portfolio.loc[date, 'PORTFOLIO VALUE'] = portfolio_value\n",
    "\n",
    "monthly_portfolio['MONTHLY PORTFOLIO RETURN'] = monthly_portfolio['PORTFOLIO VALUE'].pct_change(periods = 21)\n",
    "monthly_portfolio.drop('PORTFOLIO VALUE', axis = 1, inplace = True)\n",
    "monthly_portfolio.dropna(axis = 0, inplace = True)\n",
    "    \n",
    "print(monthly_portfolio)"
   ]
  },
  {
   "cell_type": "code",
   "execution_count": 7,
   "metadata": {},
   "outputs": [
    {
     "name": "stdout",
     "output_type": "stream",
     "text": [
      "                MONTHLY PORTFOLIO RETURN\n",
      "Empirical VaR                     0.0299\n",
      "Theoretical VaR                  0.08235\n",
      "Empirical ES                      0.0545\n",
      "Theoretical ES                   0.02073\n"
     ]
    }
   ],
   "source": [
    "monthly_measures = pd.DataFrame(index = ['Empirical VaR', 'Theoretical VaR', 'Empirical ES', 'Theoretical ES'], columns = ['MONTHLY PORTFOLIO RETURN'])\n",
    "dates = np.array(monthly_portfolio.index)\n",
    "\n",
    "normal_dist = pd.Series(np.random.normal(loc = 0.0, scale = 1.0, size = 100000))\n",
    "return_quantile_normal = normal_dist.quantile(q = 1-confidence_level)\n",
    "\n",
    "monthly_return_mean = monthly_portfolio['MONTHLY PORTFOLIO RETURN'].mean()\n",
    "monthly_return_variance = monthly_portfolio['MONTHLY PORTFOLIO RETURN'].var()\n",
    "monthly_return_quantile = monthly_portfolio['MONTHLY PORTFOLIO RETURN'].quantile(q = 1-confidence_level)\n",
    "\n",
    "empirical_var = -return_quantile\n",
    "theoretical_var = -(monthly_return_mean + (return_quantile_normal * np.sqrt(monthly_return_variance)))\n",
    "\n",
    "empirical_es = 0\n",
    "for date in dates:\n",
    "    if monthly_portfolio.loc[date, 'MONTHLY PORTFOLIO RETURN'] <= -empirical_var:\n",
    "        delta = 1\n",
    "    else:\n",
    "        delta = 0\n",
    "    deltas += delta\n",
    "    empirical_es += delta * monthly_portfolio.loc[date, 'MONTHLY PORTFOLIO RETURN']\n",
    "empirical_es = (-1/deltas) * empirical_es\n",
    "\n",
    "theoretical_es = 0\n",
    "for date in dates:\n",
    "    if monthly_portfolio.loc[date, 'MONTHLY PORTFOLIO RETURN'] <= -theoretical_var:\n",
    "        delta = 1\n",
    "    else:\n",
    "        delta = 0\n",
    "    deltas += delta\n",
    "    theoretical_es += delta * monthly_portfolio.loc[date, 'MONTHLY PORTFOLIO RETURN']\n",
    "theoretical_es = (-1/deltas) * theoretical_es\n",
    "\n",
    "monthly_measures.loc['Empirical VaR', 'MONTHLY PORTFOLIO RETURN'] = round(empirical_var, 5)\n",
    "monthly_measures.loc['Theoretical VaR', 'MONTHLY PORTFOLIO RETURN'] = round(theoretical_var, 5)\n",
    "monthly_measures.loc['Empirical ES', 'MONTHLY PORTFOLIO RETURN'] = round(empirical_es, 5)\n",
    "monthly_measures.loc['Theoretical ES', 'MONTHLY PORTFOLIO RETURN'] = round(theoretical_es, 5)\n",
    "    \n",
    "print(monthly_measures)"
   ]
  },
  {
   "cell_type": "markdown",
   "metadata": {},
   "source": [
    "### d)"
   ]
  },
  {
   "cell_type": "code",
   "execution_count": 9,
   "metadata": {},
   "outputs": [],
   "source": [
    "dates = [dt.datetime.strptime(i, '%Y-%m-%d').date() for i in np.array(monthly_portfolio.index)]\n",
    "monthly_portfolio.index = [dt.datetime.strptime(j, '%Y-%m-%d').date() for j in np.array(monthly_portfolio.index)]\n",
    "portfolio.index = [dt.datetime.strptime(k, '%Y-%m-%d').date() for k in np.array(portfolio.index)]"
   ]
  },
  {
   "cell_type": "code",
   "execution_count": 9,
   "metadata": {},
   "outputs": [
    {
     "name": "stdout",
     "output_type": "stream",
     "text": [
      "           LOG PRICES  SEMI STD\n",
      "1973-02-02        NaN       NaN\n",
      "1973-02-05        NaN       NaN\n",
      "1973-02-06        NaN       NaN\n",
      "1973-02-07        NaN       NaN\n",
      "1973-02-08        NaN       NaN\n",
      "...               ...       ...\n",
      "2021-07-20   0.566714  0.051648\n",
      "2021-07-21   0.583126  0.051634\n",
      "2021-07-22   0.588607  0.051627\n",
      "2021-07-23   0.575171  0.051619\n",
      "2021-07-26   0.595709  0.051617\n",
      "\n",
      "[12227 rows x 2 columns]\n"
     ]
    }
   ],
   "source": [
    "log_prices = np.log(monthly_portfolio['MONTHLY PORTFOLIO RETURN'] + 1)\n",
    "plot_data = pd.DataFrame(index = np.array(monthly_portfolio.index), columns = ['LOG PRICES', 'SEMI STD'])\n",
    "\n",
    "first_date = dates[0] + relativedelta(years = 5)\n",
    "for date in dates:\n",
    "    if date < first_date:\n",
    "        plot_data.loc[date, 'LOG PRICES'] = np.nan\n",
    "        plot_data.loc[date, 'SEMI STD'] = np.nan\n",
    "    else:\n",
    "        end_date = date\n",
    "        start_date = end_date - relativedelta(years = 5)\n",
    "        after_start_date = monthly_portfolio.index >= start_date\n",
    "        before_end_date = monthly_portfolio.index <= end_date\n",
    "        between_start_end_date = after_start_date & before_end_date\n",
    "        rolling_monthly_portfolio = monthly_portfolio.loc[between_start_end_date]\n",
    "\n",
    "        rolling_dates = np.array(rolling_monthly_portfolio.index)\n",
    "        return_mean = rolling_monthly_portfolio['MONTHLY PORTFOLIO RETURN'].mean()\n",
    "        periods = len(np.array(rolling_monthly_portfolio.index))\n",
    "        \n",
    "        price = 100\n",
    "        semi_variance = 0\n",
    "        for rolling_date in rolling_dates:\n",
    "            price = price * (1 + portfolio.loc[rolling_date, ['PORTFOLIO RETURN']][0])\n",
    "            if rolling_monthly_portfolio.loc[rolling_date, ['MONTHLY PORTFOLIO RETURN']][0] <= return_mean:\n",
    "                delta = 1\n",
    "            else:\n",
    "                delta = 0\n",
    "            semi_variance += delta * ((rolling_monthly_portfolio.loc[rolling_date, ['MONTHLY PORTFOLIO RETURN']][0] - return_mean)**2)\n",
    "        semi_variance = semi_variance / periods\n",
    "        semi_std = np.sqrt(semi_variance)\n",
    "        plot_data.loc[date, 'LOG PRICES'] = np.log(price) - np.log(100)\n",
    "        plot_data.loc[date, 'SEMI STD'] = semi_std\n",
    "\n",
    "print(plot_data)"
   ]
  },
  {
   "cell_type": "code",
   "execution_count": 10,
   "metadata": {
    "collapsed": true,
    "jupyter": {
     "outputs_hidden": true
    }
   },
   "outputs": [
    {
     "ename": "NameError",
     "evalue": "name 'plot_data' is not defined",
     "output_type": "error",
     "traceback": [
      "\u001b[0;31m---------------------------------------------------------------------------\u001b[0m",
      "\u001b[0;31mNameError\u001b[0m                                 Traceback (most recent call last)",
      "\u001b[0;32m<ipython-input-10-d07954c26fc8>\u001b[0m in \u001b[0;36m<module>\u001b[0;34m\u001b[0m\n\u001b[0;32m----> 1\u001b[0;31m \u001b[0mx\u001b[0m \u001b[0;34m=\u001b[0m \u001b[0mplot_data\u001b[0m\u001b[0;34m.\u001b[0m\u001b[0mindex\u001b[0m\u001b[0;34m\u001b[0m\u001b[0;34m\u001b[0m\u001b[0m\n\u001b[0m\u001b[1;32m      2\u001b[0m \u001b[0my_1\u001b[0m \u001b[0;34m=\u001b[0m \u001b[0mplot_data\u001b[0m\u001b[0;34m[\u001b[0m\u001b[0;34m'LOG PRICES'\u001b[0m\u001b[0;34m]\u001b[0m\u001b[0;34m.\u001b[0m\u001b[0mto_numpy\u001b[0m\u001b[0;34m(\u001b[0m\u001b[0;34m)\u001b[0m\u001b[0;34m\u001b[0m\u001b[0;34m\u001b[0m\u001b[0m\n\u001b[1;32m      3\u001b[0m \u001b[0my_2\u001b[0m \u001b[0;34m=\u001b[0m \u001b[0mplot_data\u001b[0m\u001b[0;34m[\u001b[0m\u001b[0;34m'SEMI STD'\u001b[0m\u001b[0;34m]\u001b[0m\u001b[0;34m.\u001b[0m\u001b[0mto_numpy\u001b[0m\u001b[0;34m(\u001b[0m\u001b[0;34m)\u001b[0m\u001b[0;34m\u001b[0m\u001b[0;34m\u001b[0m\u001b[0m\n\u001b[1;32m      4\u001b[0m \u001b[0;34m\u001b[0m\u001b[0m\n\u001b[1;32m      5\u001b[0m \u001b[0mfig\u001b[0m\u001b[0;34m,\u001b[0m \u001b[0max1\u001b[0m \u001b[0;34m=\u001b[0m \u001b[0mplt\u001b[0m\u001b[0;34m.\u001b[0m\u001b[0msubplots\u001b[0m\u001b[0;34m(\u001b[0m\u001b[0;34m)\u001b[0m\u001b[0;34m\u001b[0m\u001b[0;34m\u001b[0m\u001b[0m\n",
      "\u001b[0;31mNameError\u001b[0m: name 'plot_data' is not defined"
     ]
    }
   ],
   "source": [
    "x = plot_data.index\n",
    "y_1 = plot_data['LOG PRICES'].to_numpy()\n",
    "y_2 = plot_data['SEMI STD'].to_numpy()\n",
    "\n",
    "fig, ax1 = plt.subplots()\n",
    "fig.set_size_inches(10, 6)\n",
    "\n",
    "color = 'tab:red'\n",
    "ax1.set_xlabel('Dates', size = 14)\n",
    "ax1.set_ylabel('log Prices', color = color, size = 14)\n",
    "ax1.plot(x, y_1, color = color)\n",
    "ax1.tick_params(axis = 'y', labelcolor = color)\n",
    "\n",
    "ax2 = ax1.twinx()\n",
    "\n",
    "color = 'tab:blue'\n",
    "ax2.set_ylabel('Semi Std Estimations', color = color, size = 14) \n",
    "ax2.plot(x, y_2, color = color)\n",
    "ax2.tick_params(axis = 'y', labelcolor = color)\n",
    "\n",
    "plt.show()"
   ]
  },
  {
   "cell_type": "markdown",
   "metadata": {},
   "source": [
    "### e)"
   ]
  },
  {
   "cell_type": "markdown",
   "metadata": {},
   "source": [
    "see in the solution sheet"
   ]
  },
  {
   "cell_type": "markdown",
   "metadata": {},
   "source": [
    "### f)"
   ]
  },
  {
   "cell_type": "code",
   "execution_count": 13,
   "metadata": {},
   "outputs": [
    {
     "name": "stdout",
     "output_type": "stream",
     "text": [
      "The mean of the return series is  0.01475\n",
      "The median of the return series is  0.01562\n"
     ]
    }
   ],
   "source": [
    "monthly_return_mean = monthly_portfolio['MONTHLY PORTFOLIO RETURN'].mean()\n",
    "monthly_return_median = monthly_portfolio['MONTHLY PORTFOLIO RETURN'].median()\n",
    "\n",
    "print(\"The mean of the return series is \", round(monthly_return_mean, 5))\n",
    "print(\"The median of the return series is \", round(monthly_return_median, 5))"
   ]
  },
  {
   "cell_type": "markdown",
   "metadata": {},
   "source": [
    "### g)"
   ]
  },
  {
   "cell_type": "code",
   "execution_count": 28,
   "metadata": {},
   "outputs": [
    {
     "data": {
      "image/png": "[encoded data removed]",
      "text/plain": [
       "<Figure size 432x288 with 1 Axes>"
      ]
     },
     "metadata": {
      "needs_background": "light"
     },
     "output_type": "display_data"
    }
   ],
   "source": [
    "plot2_mean = monthly_return_mean\n",
    "plot2_std = monthly_portfolio['MONTHLY PORTFOLIO RETURN'].std()\n",
    "plt.hist(monthly_portfolio.to_numpy(), weights=np.ones(len(monthly_portfolio)) / 100, bins=100)\n",
    "xmin, xmax = plt.xlim()\n",
    "x = np.linspace(xmin, xmax, 100)\n",
    "p = norm.pdf(x, plot2_mean, plot2_std)\n",
    "\n",
    "plt.plot(x, p)\n",
    "plt.xlabel('Monthly Returns')\n",
    "plt.ylabel('Number of Months (scaled by 100)')\n",
    "plt.title('Histogram of Monthly Returns')\n",
    "plt.show()"
   ]
  },
  {
   "cell_type": "markdown",
   "metadata": {},
   "source": [
    "### h)"
   ]
  },
  {
   "cell_type": "code",
   "execution_count": 30,
   "metadata": {},
   "outputs": [
    {
     "data": {
      "image/png": "[encoded data removed]",
      "text/plain": [
       "<Figure size 432x288 with 1 Axes>"
      ]
     },
     "metadata": {
      "needs_background": "light"
     },
     "output_type": "display_data"
    },
    {
     "name": "stdout",
     "output_type": "stream",
     "text": [
      "\n",
      "The Skweness of the return series is  -0.29902628962572997\n",
      "The Kurtosis of the return series is  3.730311799070156\n"
     ]
    }
   ],
   "source": [
    "qqplot_data = np.array(monthly_portfolio['MONTHLY PORTFOLIO RETURN'])\n",
    "pplot = sm.ProbPlot(qqplot_data, fit=False)\n",
    "fig = pplot.qqplot()\n",
    "plt.show()\n",
    "\n",
    "print(\"\\nThe Skewness of the return series is \", skew(monthly_portfolio, bias=False)[0])\n",
    "print(\"The Kurtosis of the return series is \", kurtosis(monthly_portfolio, bias=False)[0])"
   ]
  },
  {
   "cell_type": "markdown",
   "metadata": {},
   "source": [
    "## 2)"
   ]
  },
  {
   "cell_type": "markdown",
   "metadata": {},
   "source": [
    "### a)"
   ]
  },
  {
   "cell_type": "code",
   "execution_count": 46,
   "metadata": {},
   "outputs": [
    {
     "data": {
      "text/plain": [
       "PORTFOLIO RETURN   -0.00166\n",
       "dtype: float64"
      ]
     },
     "execution_count": 46,
     "metadata": {},
     "output_type": "execute_result"
    }
   ],
   "source": [
    "# Risk Free Data\n",
    "risk_free_returns = data['RF']\n",
    "risk_free_returns.index = pd.to_datetime(risk_free_returns.index)\n",
    "\n",
    "# Equally Weighted Risky Portfolio Data\n",
    "risky_returns = portfolio\n",
    "risky_returns.index = pd.to_datetime(risky_returns.index)\n",
    "# risky_returns.index = risky_returns.index.strftime('%Y-%m-%d')\n",
    "# -----\n",
    "portfolio.index = pd.to_datetime(portfolio.index)\n",
    "monthly_equity_return = portfolio.resample('M').sum()\n",
    "months = monthly_equity_return.index.strftime('%Y-%m')\n",
    "months = months.to_numpy()\n",
    "monthly_equity_return.index = monthly_equity_return.index.strftime('%Y-%m-%d')\n",
    "\n",
    "risky_returns[0:20].mean()"
   ]
  },
  {
   "cell_type": "code",
   "execution_count": 93,
   "metadata": {},
   "outputs": [
    {
     "name": "stdout",
     "output_type": "stream",
     "text": [
      "          w_risky      w_rf    Return  Mean_Return       Std          Price\n",
      "1973-01  0.500000  0.500000 -0.016497    -0.016497  0.003535      98.350270\n",
      "1973-02  1.536876 -0.536876 -0.016497    -0.015442  0.005843      96.727756\n",
      "1973-03  0.850694  0.149306 -0.070570    -0.032967  0.008987      89.901688\n",
      "1973-04  1.053510 -0.053510  0.005686    -0.023525  0.009726      90.412832\n",
      "1973-05  0.954646  0.045354 -0.016736    -0.021366  0.011761      88.899715\n",
      "...           ...       ...       ...          ...       ...            ...\n",
      "2021-03  1.102240 -0.102240  0.109329     0.016016  0.025811  588205.068762\n",
      "2021-04  1.184924 -0.184924  0.088347     0.016858  0.025573  640171.133358\n",
      "2021-05  1.118411 -0.118411 -0.017121     0.016267  0.025880  629210.887044\n",
      "2021-06  1.157236 -0.157236  0.038977     0.016665  0.025786  653735.692341\n",
      "2021-07  1.232102 -0.232102 -0.000535     0.017208  0.025286  653386.091195\n",
      "\n",
      "[583 rows x 6 columns] \n",
      "\n",
      "Mean Portfolio Return: 0.01782964918752968.\n",
      "Portfolio Volatility: 0.07231647452708743.\n"
     ]
    }
   ],
   "source": [
    "# Constants\n",
    "target_VaR = 0.05\n",
    "confidence_level = 0.99\n",
    "lambda_fixed = 0.95\n",
    "w_1 = 0.5\n",
    "quantile = -2.33\n",
    "\n",
    "weights = [w_1]\n",
    "portfolio_returns = []\n",
    "rolling_portfolio_variances = []\n",
    "mean_returns = []\n",
    "\n",
    "for month in months:\n",
    "    if month == '1973-01':\n",
    "        portfolio_return = w_1 * risky_returns[risky_returns.index.strftime('%Y-%m') == month].sum()[0] + (1-w_1) * risk_free_returns[risk_free_returns.index.strftime('%Y-%m') == month][0]\n",
    "        portfolio_returns.append(portfolio_return)\n",
    "        portfolio_variance = w_1**2 * risky_returns[risky_returns.index.strftime('%Y-%m') <= month].var() # ==\n",
    "        rolling_portfolio_variances.append(portfolio_variance[0])\n",
    "        mean_returns.append(portfolio_return)\n",
    "    else:\n",
    "        month_differenced = dt.datetime.strptime(month, '%Y-%m') - relativedelta(months = 1)\n",
    "        month_differenced = month_differenced.strftime('%Y-%m')\n",
    "        portfolio_return = weights[-1] * risky_returns[risky_returns.index.strftime('%Y-%m') == month_differenced].sum()[0] + (1-weights[-1]) * risk_free_returns[risk_free_returns.index.strftime('%Y-%m') == month_differenced][0]\n",
    "        portfolio_returns.append(portfolio_return)\n",
    "        last_day_return = weights[-1] * risky_returns[risky_returns.index.strftime('%Y-%m') == month_differenced].iloc[-1][0] + (1-weights[-1]) * risk_free_returns[risk_free_returns.index.strftime('%Y-%m') == month_differenced][0]\n",
    "        rolling_mean_return = np.mean(portfolio_returns)\n",
    "        rolling_portfolio_variance = lambda_fixed * rolling_portfolio_variances[-1] + (1-lambda_fixed) * (last_day_return - rolling_mean_return)**2\n",
    "        rolling_portfolio_variances.append(rolling_portfolio_variance)\n",
    "        # ----\n",
    "        R_rf = risk_free_returns[risk_free_returns.index.strftime('%Y-%m') == month][0]\n",
    "        mean_return = lambda_fixed * rolling_mean_return + (1-lambda_fixed) * last_day_return\n",
    "        mean_returns.append(mean_return)\n",
    "        std_risky = np.sqrt((lambda_fixed * rolling_portfolio_variance + (1-lambda_fixed) * (last_day_return - rolling_mean_return)**2))\n",
    "        # ----\n",
    "        w = -((R_rf + target_VaR)/((quantile * std_risky) + mean_return))\n",
    "        if w > 10:\n",
    "            w = 10\n",
    "        elif w < 0:\n",
    "            w = 0\n",
    "        weights.append(w)\n",
    "        \n",
    "price = 100\n",
    "prices = []\n",
    "for i in range(0, len(portfolio_returns)):\n",
    "    price = price * (1 + portfolio_returns[i])\n",
    "    prices.append(price)\n",
    "        \n",
    "portfolio_summary = pd.DataFrame(index = [months[0:583]], columns = ['w_risky', 'w_rf', 'Return', 'Mean_Return', 'Std', 'Price'])\n",
    "portfolio_summary['w_risky'] = weights\n",
    "portfolio_summary['w_rf'] = 1 - portfolio_summary['w_risky']\n",
    "portfolio_summary['Return'] = portfolio_returns\n",
    "portfolio_summary['Mean_Return'] = mean_returns\n",
    "portfolio_summary['Std'] = np.sqrt(rolling_portfolio_variances)\n",
    "portfolio_summary['Price'] = prices\n",
    "\n",
    "print(portfolio_summary, '\\n')\n",
    "\n",
    "total_mean_return = np.mean(portfolio_returns)\n",
    "total_mean_std = np.std(portfolio_returns)\n",
    "\n",
    "print(f\"Mean Portfolio Return: {total_mean_return}\")\n",
    "print(f\"Portfolio Volatility: {total_mean_std}\")"
   ]
  },
  {
   "cell_type": "code",
   "execution_count": 94,
   "metadata": {},
   "outputs": [
    {
     "data": {
      "image/png": "[encoded data removed]",
      "text/plain": [
       "<Figure size 576x288 with 1 Axes>"
      ]
     },
     "metadata": {
      "needs_background": "light"
     },
     "output_type": "display_data"
    }
   ],
   "source": [
    "months_datetime = [dt.datetime.strptime(date, \"%Y-%m\").date() for date in months]\n",
    "plt.figure(figsize = (8,4))\n",
    "plt.plot(months_datetime, portfolio_summary['w_risky'].to_numpy()) \n",
    "plt.xlabel('Months', size = 12)\n",
    "plt.ylabel('Weight', size = 12)\n",
    "plt.title('Development of Weight in Risky Portfolio', size = 14)\n",
    "plt.show()"
   ]
  },
  {
   "cell_type": "code",
   "execution_count": 95,
   "metadata": {},
   "outputs": [
    {
     "data": {
      "image/png": "[encoded data removed]",
      "text/plain": [
       "<Figure size 576x288 with 1 Axes>"
      ]
     },
     "metadata": {
      "needs_background": "light"
     },
     "output_type": "display_data"
    }
   ],
   "source": [
    "plt.figure(figsize = (8,4))\n",
    "plt.plot(months_datetime, portfolio_summary['Price'].to_numpy())\n",
    "plt.xlabel('Months', size = 12)\n",
    "plt.ylabel('Price', size = 12)\n",
    "plt.title('Price Development of Overall Portfolio', size = 14)\n",
    "plt.show()"
   ]
  },
  {
   "cell_type": "markdown",
   "metadata": {},
   "source": [
    "### b)"
   ]
  },
  {
   "cell_type": "code",
   "execution_count": 96,
   "metadata": {},
   "outputs": [
    {
     "name": "stdout",
     "output_type": "stream",
     "text": [
      "Number of exceeded months: 40.\n",
      "Exceeded months: 1973-02 - VaR: 0.0539\n",
      "Exceeded months: 1973-08 - VaR: 0.0619\n",
      "Exceeded months: 1973-09 - VaR: 0.0568\n",
      "Exceeded months: 1973-10 - VaR: 0.0525\n",
      "Exceeded months: 1973-11 - VaR: 0.0631\n",
      "Exceeded months: 1973-12 - VaR: 0.0585\n",
      "Exceeded months: 1974-01 - VaR: 0.055\n",
      "Exceeded months: 1974-03 - VaR: 0.0524\n",
      "Exceeded months: 1974-04 - VaR: 0.0516\n",
      "Exceeded months: 1974-07 - VaR: 0.0542\n",
      "Exceeded months: 1974-08 - VaR: 0.0576\n",
      "Exceeded months: 1974-09 - VaR: 0.0635\n",
      "Exceeded months: 1974-10 - VaR: 0.0529\n",
      "Exceeded months: 1974-11 - VaR: 0.0545\n",
      "Exceeded months: 1974-12 - VaR: 0.0588\n",
      "Exceeded months: 1975-01 - VaR: 0.0551\n",
      "Exceeded months: 1975-02 - VaR: 0.0504\n",
      "Exceeded months: 1987-11 - VaR: 0.056\n",
      "Exceeded months: 1987-12 - VaR: 0.0547\n",
      "Exceeded months: 1988-01 - VaR: 0.0503\n",
      "Exceeded months: 1998-08 - VaR: 0.0643\n",
      "Exceeded months: 1998-09 - VaR: 0.0616\n",
      "Exceeded months: 1998-10 - VaR: 0.0584\n",
      "Exceeded months: 1998-11 - VaR: 0.0597\n",
      "Exceeded months: 1998-12 - VaR: 0.0584\n",
      "Exceeded months: 1999-01 - VaR: 0.0557\n",
      "Exceeded months: 1999-02 - VaR: 0.0566\n",
      "Exceeded months: 1999-03 - VaR: 0.0569\n",
      "Exceeded months: 1999-04 - VaR: 0.0559\n",
      "Exceeded months: 1999-05 - VaR: 0.0534\n",
      "Exceeded months: 1999-06 - VaR: 0.0511\n",
      "Exceeded months: 1999-07 - VaR: 0.0521\n",
      "Exceeded months: 1999-08 - VaR: 0.0502\n",
      "Exceeded months: 2000-11 - VaR: 0.0533\n",
      "Exceeded months: 2000-12 - VaR: 0.0512\n",
      "Exceeded months: 2001-02 - VaR: 0.0514\n",
      "Exceeded months: 2001-06 - VaR: 0.0504\n",
      "Exceeded months: 2009-02 - VaR: 0.05\n",
      "Exceeded months: 2009-10 - VaR: 0.0503\n",
      "Exceeded months: 2011-10 - VaR: 0.0507\n"
     ]
    }
   ],
   "source": [
    "# Monthly realized VaR\n",
    "VaRs = []\n",
    "exceeded_months = []\n",
    "exceeded_VaRs = []\n",
    "for i in range(0, len(months)):\n",
    "    filtered = portfolio_summary.iloc[0:i]\n",
    "    mean_return = mean_returns[i]\n",
    "    std = np.sqrt(rolling_portfolio_variances[i])\n",
    "    VaR = -(mean_return + quantile * std)\n",
    "    VaRs.append(VaR)\n",
    "    if VaR >= target_VaR:\n",
    "        exceeded_months.append(filtered.index[-1])\n",
    "        exceeded_VaRs.append(VaR)\n",
    "\n",
    "print(f\"Number of exceeded months: {len(exceeded_months)}.\")\n",
    "\n",
    "for i in range(0, len(exceeded_months)):\n",
    "    print(f\"Exceeded months: {exceeded_months[i][0]} - VaR: {round(exceeded_VaRs[i], 4)}\")"
   ]
  },
  {
   "cell_type": "markdown",
   "metadata": {},
   "source": [
    "### c)"
   ]
  },
  {
   "cell_type": "markdown",
   "metadata": {},
   "source": [
    "see in the solution sheet"
   ]
  }
 ],
 "metadata": {
  "kernelspec": {
   "display_name": "Python 3",
   "language": "python",
   "name": "python3"
  },
  "language_info": {
   "codemirror_mode": {
    "name": "ipython",
    "version": 3
   },
   "file_extension": ".py",
   "mimetype": "text/x-python",
   "name": "python",
   "nbconvert_exporter": "python",
   "pygments_lexer": "ipython3",
   "version": "3.7.6"
  }
 },
 "nbformat": 4,
 "nbformat_minor": 4
}
