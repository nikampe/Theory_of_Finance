{
 "cells": [
  {
   "cell_type": "markdown",
   "metadata": {},
   "source": [
    "# Problem Set 2: Risk Measures"
   ]
  },
  {
   "cell_type": "markdown",
   "metadata": {},
   "source": [
    "## Task 1: Estimation, Interpretation"
   ]
  },
  {
   "cell_type": "markdown",
   "metadata": {},
   "source": [
    "### a)"
   ]
  },
  {
   "cell_type": "code",
   "execution_count": 1,
   "metadata": {},
   "outputs": [],
   "source": [
    "import pandas as pd\n",
    "import numpy as np\n",
    "import matplotlib.pyplot as plt\n",
    "import datetime as dt\n",
    "from dateutil.relativedelta import relativedelta"
   ]
  },
  {
   "cell_type": "code",
   "execution_count": 2,
   "metadata": {},
   "outputs": [],
   "source": [
    "confidence_level = 0.95"
   ]
  },
  {
   "cell_type": "code",
   "execution_count": 3,
   "metadata": {},
   "outputs": [
    {
     "name": "stdout",
     "output_type": "stream",
     "text": [
      "            JP_MORGAN_CHASE  EXXON_MOBIL     INTEL    PFIZER    BOEING  \\\n",
      "date                                                                     \n",
      "1973-01-03        -0.002300     0.012800 -0.009900  0.002900  0.023900   \n",
      "1973-01-04         0.000000     0.002765 -0.009999  0.011367 -0.009278   \n",
      "1973-01-05        -0.002406     0.005612  0.000000  0.005718 -0.018927   \n",
      "1973-01-08         0.002411     0.004210  0.010100 -0.022547  0.014469   \n",
      "1973-01-09        -0.007016     0.000000  0.029997  0.000000 -0.014263   \n",
      "\n",
      "                 RF  \n",
      "date                 \n",
      "1973-01-03  0.00021  \n",
      "1973-01-04  0.00021  \n",
      "1973-01-05  0.00021  \n",
      "1973-01-08  0.00021  \n",
      "1973-01-09  0.00021  \n"
     ]
    }
   ],
   "source": [
    "data = pd.read_csv(r'PS2 - Data.csv', index_col = 0)\n",
    "data.set_index('date', drop = True, inplace = True)\n",
    "print(data.head(n = 5))"
   ]
  },
  {
   "cell_type": "code",
   "execution_count": 4,
   "metadata": {},
   "outputs": [
    {
     "name": "stdout",
     "output_type": "stream",
     "text": [
      "            PORTFOLIO RETURN\n",
      "1973-01-03          0.005480\n",
      "1973-01-04         -0.001029\n",
      "1973-01-05         -0.002000\n",
      "1973-01-08          0.001729\n",
      "1973-01-09          0.001744\n",
      "...                      ...\n",
      "2021-07-20          0.022429\n",
      "2021-07-21          0.019044\n",
      "2021-07-22         -0.005043\n",
      "2021-07-23         -0.009607\n",
      "2021-07-26          0.015867\n",
      "\n",
      "[12248 rows x 1 columns]\n"
     ]
    }
   ],
   "source": [
    "weights = [1/5, 1/5, 1/5, 1/5, 1/5]\n",
    "\n",
    "dates = np.array(data.index)\n",
    "stocks = np.array(data.columns[0:5])\n",
    "\n",
    "portfolio = pd.DataFrame()\n",
    "for date in dates:\n",
    "    portfolio_return = 0\n",
    "    for stock, weight in zip(stocks, weights):\n",
    "        portfolio_return += data.loc[date, stock] * weight\n",
    "    portfolio.loc[date, 'PORTFOLIO RETURN'] = portfolio_return\n",
    "print(portfolio)"
   ]
  },
  {
   "cell_type": "code",
   "execution_count": 5,
   "metadata": {},
   "outputs": [
    {
     "name": "stdout",
     "output_type": "stream",
     "text": [
      "\n",
      "Quantile Check of N(0,1): -1.65\n",
      "\n",
      "                        PORTFOLIO JP_MORGAN_CHASE EXXON_MOBIL    INTEL  \\\n",
      "Mean Absolute Deviation       NaN         0.01435     0.01052  0.01865   \n",
      "Semi Std                      NaN         0.01486     0.01054  0.01889   \n",
      "Empirical VaR                 NaN         0.03047     0.02191  0.03847   \n",
      "Empirical ES                  NaN         0.04741     0.03286  0.05986   \n",
      "\n",
      "                          PFIZER   BOEING  PORTFOLIO RETURN  \n",
      "Mean Absolute Deviation  0.01239  0.01455           0.00979  \n",
      "Semi Std                 0.01204  0.01451           0.00993  \n",
      "Empirical VaR            0.02559   0.0299           0.02051  \n",
      "Empirical ES             0.03801  0.04564           0.03094  \n"
     ]
    }
   ],
   "source": [
    "assets = np.concatenate([['PORTFOLIO'], stocks])\n",
    "measures = np.array(['Mean Absolute Deviation', 'Semi Std', 'Empirical VaR', 'Empirical ES'])\n",
    "\n",
    "data_agg = pd.concat([portfolio, data], axis = 1)\n",
    "data_agg.drop('RF', axis = 1, inplace = True)\n",
    "risk_measures = pd.DataFrame(index = measures, columns = assets)\n",
    "\n",
    "periods = len(data_agg.index)\n",
    "dates = np.array(data_agg.index)\n",
    "assets = np.array(data_agg.columns)\n",
    "\n",
    "# Quantile Generation Check\n",
    "normal_dist = pd.Series(np.random.normal(loc = 0.0, scale = 1.0, size = 100000))\n",
    "return_quantile_normal = normal_dist.quantile(q = 1-confidence_level)\n",
    "print(f'\\nQuantile Check of N(0,1): {round(return_quantile_normal, 2)}\\n')\n",
    "\n",
    "for asset in assets:\n",
    "    return_mean = data_agg[asset].mean()\n",
    "    return_variance = data_agg[asset].var()\n",
    "    return_quantile = data_agg[asset].quantile(q = 1-confidence_level)\n",
    "    absolute_deviation = 0\n",
    "    semi_variance = 0\n",
    "    for date in dates:\n",
    "        if data_agg.loc[date, asset] <= return_mean:\n",
    "            delta = 1\n",
    "        else:\n",
    "            delta = 0\n",
    "        absolute_deviation += np.absolute(data_agg.loc[date, asset] - return_mean)\n",
    "        semi_variance += delta * ((data_agg.loc[date, asset] - return_mean)**2)\n",
    "    mean_absolute_deviation = absolute_deviation / periods\n",
    "    semi_variance = semi_variance / periods\n",
    "    semi_std = np.sqrt(semi_variance)\n",
    "    # empirical_var = -(return_mean + (return_quantile * np.sqrt(return_variance)))\n",
    "    empirical_var = -return_quantile\n",
    "    deltas = 0\n",
    "    empirical_es = 0\n",
    "    for date in dates:\n",
    "        if data_agg.loc[date, asset] <= -empirical_var:\n",
    "            delta = 1\n",
    "        else:\n",
    "            delta = 0\n",
    "        deltas += delta\n",
    "        empirical_es += delta * data_agg.loc[date, asset]\n",
    "    empirical_es = (-1/deltas) * empirical_es\n",
    "    risk_measures.loc['Mean Absolute Deviation', asset] = round(mean_absolute_deviation, 5)\n",
    "    risk_measures.loc['Semi Std', asset] = round(semi_std, 5)\n",
    "    risk_measures.loc['Empirical VaR', asset] = round(empirical_var, 5)\n",
    "    risk_measures.loc['Empirical ES', asset] = round(empirical_es, 5)\n",
    "    \n",
    "print(risk_measures)"
   ]
  },
  {
   "cell_type": "markdown",
   "metadata": {},
   "source": [
    "### b)"
   ]
  },
  {
   "cell_type": "markdown",
   "metadata": {},
   "source": [
    "seen in the solution sheet"
   ]
  },
  {
   "cell_type": "markdown",
   "metadata": {},
   "source": [
    "### c)"
   ]
  },
  {
   "cell_type": "code",
   "execution_count": 6,
   "metadata": {},
   "outputs": [
    {
     "name": "stdout",
     "output_type": "stream",
     "text": [
      "            MONTHLY PORTFOLIO RETURN\n",
      "1973-02-02                 -0.056548\n",
      "1973-02-05                 -0.063560\n",
      "1973-02-06                 -0.072307\n",
      "1973-02-07                 -0.084580\n",
      "1973-02-08                 -0.082514\n",
      "...                              ...\n",
      "2021-07-20                 -0.018334\n",
      "2021-07-21                 -0.020397\n",
      "2021-07-22                 -0.028526\n",
      "2021-07-23                 -0.035449\n",
      "2021-07-26                 -0.031808\n",
      "\n",
      "[12227 rows x 1 columns]\n"
     ]
    }
   ],
   "source": [
    "dates = np.array(portfolio.index)\n",
    "\n",
    "portfolio_value = 100\n",
    "monthly_portfolio = pd.DataFrame(index = dates, columns = ['PORTFOLIO VALUE'])\n",
    "for date in dates:\n",
    "    daily_return = portfolio.loc[date, 'PORTFOLIO RETURN']\n",
    "    portfolio_value = portfolio_value * (1 + daily_return)\n",
    "    monthly_portfolio.loc[date, 'PORTFOLIO VALUE'] = portfolio_value\n",
    "\n",
    "monthly_portfolio['MONTHLY PORTFOLIO RETURN'] = monthly_portfolio['PORTFOLIO VALUE'].pct_change(periods = 21)\n",
    "monthly_portfolio.drop('PORTFOLIO VALUE', axis = 1, inplace = True)\n",
    "monthly_portfolio.dropna(axis = 0, inplace = True)\n",
    "    \n",
    "print(monthly_portfolio)"
   ]
  },
  {
   "cell_type": "code",
   "execution_count": 7,
   "metadata": {},
   "outputs": [
    {
     "name": "stdout",
     "output_type": "stream",
     "text": [
      "                MONTHLY PORTFOLIO RETURN\n",
      "Empirical VaR                     0.0299\n",
      "Theoretical VaR                  0.08258\n",
      "Empirical ES                      0.0545\n",
      "Theoretical ES                    0.0206\n"
     ]
    }
   ],
   "source": [
    "monthly_measures = pd.DataFrame(index = ['Empirical VaR', 'Theoretical VaR', 'Empirical ES', 'Theoretical ES'], columns = ['MONTHLY PORTFOLIO RETURN'])\n",
    "dates = np.array(monthly_portfolio.index)\n",
    "\n",
    "normal_dist = pd.Series(np.random.normal(loc = 0.0, scale = 1.0, size = 100000))\n",
    "return_quantile_normal = normal_dist.quantile(q = 1-confidence_level)\n",
    "\n",
    "monthly_return_mean = monthly_portfolio['MONTHLY PORTFOLIO RETURN'].mean()\n",
    "monthly_return_variance = monthly_portfolio['MONTHLY PORTFOLIO RETURN'].var()\n",
    "monthly_return_quantile = monthly_portfolio['MONTHLY PORTFOLIO RETURN'].quantile(q = 1-confidence_level)\n",
    "\n",
    "empirical_var = -return_quantile\n",
    "theoretical_var = -(monthly_return_mean + (return_quantile_normal * np.sqrt(monthly_return_variance)))\n",
    "\n",
    "empirical_es = 0\n",
    "for date in dates:\n",
    "    if monthly_portfolio.loc[date, 'MONTHLY PORTFOLIO RETURN'] <= -empirical_var:\n",
    "        delta = 1\n",
    "    else:\n",
    "        delta = 0\n",
    "    deltas += delta\n",
    "    empirical_es += delta * monthly_portfolio.loc[date, 'MONTHLY PORTFOLIO RETURN']\n",
    "empirical_es = (-1/deltas) * empirical_es\n",
    "\n",
    "theoretical_es = 0\n",
    "for date in dates:\n",
    "    if monthly_portfolio.loc[date, 'MONTHLY PORTFOLIO RETURN'] <= -theoretical_var:\n",
    "        delta = 1\n",
    "    else:\n",
    "        delta = 0\n",
    "    deltas += delta\n",
    "    theoretical_es += delta * monthly_portfolio.loc[date, 'MONTHLY PORTFOLIO RETURN']\n",
    "theoretical_es = (-1/deltas) * theoretical_es\n",
    "\n",
    "monthly_measures.loc['Empirical VaR', 'MONTHLY PORTFOLIO RETURN'] = round(empirical_var, 5)\n",
    "monthly_measures.loc['Theoretical VaR', 'MONTHLY PORTFOLIO RETURN'] = round(theoretical_var, 5)\n",
    "monthly_measures.loc['Empirical ES', 'MONTHLY PORTFOLIO RETURN'] = round(empirical_es, 5)\n",
    "monthly_measures.loc['Theoretical ES', 'MONTHLY PORTFOLIO RETURN'] = round(theoretical_es, 5)\n",
    "    \n",
    "print(monthly_measures)"
   ]
  },
  {
   "cell_type": "markdown",
   "metadata": {},
   "source": [
    "### d)"
   ]
  },
  {
   "cell_type": "code",
   "execution_count": 8,
   "metadata": {},
   "outputs": [],
   "source": [
    "dates = [dt.datetime.strptime(i, '%Y-%m-%d').date() for i in np.array(monthly_portfolio.index)]\n",
    "monthly_portfolio.index = [dt.datetime.strptime(j, '%Y-%m-%d').date() for j in np.array(monthly_portfolio.index)]\n",
    "portfolio.index = [dt.datetime.strptime(k, '%Y-%m-%d').date() for k in np.array(portfolio.index)]"
   ]
  },
  {
   "cell_type": "code",
   "execution_count": 9,
   "metadata": {},
   "outputs": [
    {
     "name": "stdout",
     "output_type": "stream",
     "text": [
      "           LOG PRICES  SEMI STD\n",
      "1973-02-02        NaN       NaN\n",
      "1973-02-05        NaN       NaN\n",
      "1973-02-06        NaN       NaN\n",
      "1973-02-07        NaN       NaN\n",
      "1973-02-08        NaN       NaN\n",
      "...               ...       ...\n",
      "2021-07-20   0.566714  0.051648\n",
      "2021-07-21   0.583126  0.051634\n",
      "2021-07-22   0.588607  0.051627\n",
      "2021-07-23   0.575171  0.051619\n",
      "2021-07-26   0.595709  0.051617\n",
      "\n",
      "[12227 rows x 2 columns]\n"
     ]
    }
   ],
   "source": [
    "log_prices = np.log(monthly_portfolio['MONTHLY PORTFOLIO RETURN'] + 1)\n",
    "plot_data = pd.DataFrame(index = np.array(monthly_portfolio.index), columns = ['LOG PRICES', 'SEMI STD'])\n",
    "\n",
    "first_date = dates[0] + relativedelta(years = 5)\n",
    "for date in dates:\n",
    "    if date < first_date:\n",
    "        plot_data.loc[date, 'LOG PRICES'] = np.nan\n",
    "        plot_data.loc[date, 'SEMI STD'] = np.nan\n",
    "    else:\n",
    "        end_date = date\n",
    "        start_date = end_date - relativedelta(years = 5)\n",
    "        after_start_date = monthly_portfolio.index >= start_date\n",
    "        before_end_date = monthly_portfolio.index <= end_date\n",
    "        between_start_end_date = after_start_date & before_end_date\n",
    "        rolling_monthly_portfolio = monthly_portfolio.loc[between_start_end_date]\n",
    "\n",
    "        rolling_dates = np.array(rolling_monthly_portfolio.index)\n",
    "        return_mean = rolling_monthly_portfolio['MONTHLY PORTFOLIO RETURN'].mean()\n",
    "        periods = len(np.array(rolling_monthly_portfolio.index))\n",
    "        \n",
    "        price = 100\n",
    "        semi_variance = 0\n",
    "        for rolling_date in rolling_dates:\n",
    "            price = price * (1 + portfolio.loc[rolling_date, ['PORTFOLIO RETURN']][0])\n",
    "            if rolling_monthly_portfolio.loc[rolling_date, ['MONTHLY PORTFOLIO RETURN']][0] <= return_mean:\n",
    "                delta = 1\n",
    "            else:\n",
    "                delta = 0\n",
    "            semi_variance += delta * ((rolling_monthly_portfolio.loc[rolling_date, ['MONTHLY PORTFOLIO RETURN']][0] - return_mean)**2)\n",
    "        semi_variance = semi_variance / periods\n",
    "        semi_std = np.sqrt(semi_variance)\n",
    "        plot_data.loc[date, 'LOG PRICES'] = np.log(price) - np.log(100)\n",
    "        plot_data.loc[date, 'SEMI STD'] = semi_std\n",
    "\n",
    "print(plot_data)"
   ]
  },
  {
   "cell_type": "code",
   "execution_count": 28,
   "metadata": {},
   "outputs": [
    {
     "data": {
      "image/png": "[encoded data removed]",
      "text/plain": [
       "<Figure size 720x432 with 2 Axes>"
      ]
     },
     "metadata": {
      "needs_background": "light"
     },
     "output_type": "display_data"
    }
   ],
   "source": [
    "x = plot_data.index\n",
    "y_1 = plot_data['LOG PRICES'].to_numpy()\n",
    "y_2 = plot_data['SEMI STD'].to_numpy()\n",
    "\n",
    "fig, ax1 = plt.subplots()\n",
    "fig.set_size_inches(10, 6)\n",
    "\n",
    "color = 'tab:red'\n",
    "ax1.set_xlabel('Dates', size = 14)\n",
    "ax1.set_ylabel('log Prices', color = color, size = 14)\n",
    "ax1.plot(x, y_1, color = color)\n",
    "ax1.tick_params(axis = 'y', labelcolor = color)\n",
    "\n",
    "ax2 = ax1.twinx()\n",
    "\n",
    "color = 'tab:blue'\n",
    "ax2.set_ylabel('Semi Std Estimations', color = color, size = 14) \n",
    "ax2.plot(x, y_2, color = color)\n",
    "ax2.tick_params(axis = 'y', labelcolor = color)\n",
    "\n",
    "plt.show()"
   ]
  },
  {
   "cell_type": "markdown",
   "metadata": {},
   "source": [
    "### e)"
   ]
  },
  {
   "cell_type": "code",
   "execution_count": 26,
   "metadata": {},
   "outputs": [],
   "source": [
    "# Use variable \"monthly_portfolio\" as the rolling monthly portfolio return series for any computations in e) - h)"
   ]
  },
  {
   "cell_type": "code",
   "execution_count": null,
   "metadata": {},
   "outputs": [],
   "source": []
  }
 ],
 "metadata": {
  "kernelspec": {
   "display_name": "Python 3",
   "language": "python",
   "name": "python3"
  },
  "language_info": {
   "codemirror_mode": {
    "name": "ipython",
    "version": 3
   },
   "file_extension": ".py",
   "mimetype": "text/x-python",
   "name": "python",
   "nbconvert_exporter": "python",
   "pygments_lexer": "ipython3",
   "version": "3.7.6"
  }
 },
 "nbformat": 4,
 "nbformat_minor": 4
}
