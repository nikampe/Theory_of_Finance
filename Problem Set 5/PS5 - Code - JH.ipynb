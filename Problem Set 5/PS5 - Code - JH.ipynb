{
 "cells": [
  {
   "cell_type": "code",
   "execution_count": 1,
   "id": "7ba310e1",
   "metadata": {},
   "outputs": [],
   "source": [
    "import numpy as np\n",
    "from scipy.stats import norm\n",
    "#from tabulate import tabulate\n",
    "import pandas as pd\n",
    "import numpy as np\n",
    "import matplotlib.pyplot as plt\n",
    "import warnings\n",
    "from datetime import datetime\n",
    "from scipy.interpolate import make_interp_spline, BSpline\n",
    "import matplotlib.dates as mdates\n",
    "import statsmodels.api as sm\n",
    "from sympy.solvers import solve\n",
    "from sympy import Symbol\n",
    "warnings.filterwarnings('ignore')"
   ]
  },
  {
   "cell_type": "code",
   "execution_count": 2,
   "id": "b25d7c87",
   "metadata": {},
   "outputs": [
    {
     "name": "stdout",
     "output_type": "stream",
     "text": [
      "            UBS_CHINA_EQUITY_FUND\n",
      "date                             \n",
      "10.08.2018                  17862\n",
      "13.08.2018                  17784\n",
      "14.08.2018                  17552\n",
      "15.08.2018                  17424\n",
      "16.08.2018                  17015\n",
      "17.08.2018                  16797\n",
      "20.08.2018                  16640\n",
      "21.08.2018                  16840\n",
      "22.08.2018                  17088\n",
      "23.08.2018                  17247\n"
     ]
    }
   ],
   "source": [
    "#Read Data\n",
    "data = pd.read_csv(r'Data/ToF_2021_PS5-data-1.csv', delimiter = ';', index_col = 'date')\n",
    "print(data.head(n = 10))"
   ]
  },
  {
   "cell_type": "code",
   "execution_count": 3,
   "id": "e71f25ce",
   "metadata": {},
   "outputs": [],
   "source": [
    "#Problem 2\n",
    "\n",
    "S = 12361.69\n",
    "sigma = 0.1331\n",
    "rf = -0.0076\n",
    "m = 1/12"
   ]
  },
  {
   "cell_type": "code",
   "execution_count": 4,
   "id": "b14a5d95",
   "metadata": {},
   "outputs": [],
   "source": [
    "# a\n",
    "# See solution sheet"
   ]
  },
  {
   "cell_type": "code",
   "execution_count": 5,
   "id": "21f00e1a",
   "metadata": {},
   "outputs": [
    {
     "name": "stdout",
     "output_type": "stream",
     "text": [
      "The option price for a European Call, with Strike 12'600, is: 92.89\n",
      "The option price for a European Put, with Strike 12'100, is: 87.24\n"
     ]
    }
   ],
   "source": [
    "# b\n",
    "Kc = call_strike = 12600\n",
    "Kp = put_strike = 12100\n",
    "\n",
    "# Formula for European Call Option (21.3)\n",
    "\n",
    "#Call_price = S*phi(d1)-(e^(-ym))*Kc*phi(d2)\n",
    "#Put_price = Kp*e^(-ym)*phi(-d2)-S*phi(-d1)\n",
    "#S = Spot\n",
    "#y = risk free\n",
    "#m = time to maturity\n",
    "#K = Strike Price\n",
    "#sigma = volatility of asset\n",
    "\n",
    "#Call Price\n",
    "d1_call = (np.log(S/Kc)+(rf+(sigma**2)/2.)*m)/(sigma*np.sqrt(m))\n",
    "d2_call = d1_call-sigma*np.sqrt(m)\n",
    "\n",
    "bs_call_price = S*norm.cdf(d1_call)-Kc*np.exp(-rf*m)*norm.cdf(d2_call)\n",
    "\n",
    "#Put Price\n",
    "d1_put = (np.log(S/Kp)+(rf+(sigma**2)/2.)*m)/(sigma*np.sqrt(m))\n",
    "d2_put = d1_put-sigma*np.sqrt(m)\n",
    "\n",
    "# bs_put_price = Kp*np.exp(-rf*m)-S+bs_call_price\n",
    "bs_put_price = Kp*np.exp(-rf*m)*norm.cdf(-d2_put)-S*norm.cdf(-d1_put)\n",
    "\n",
    "print(\"The option price for a European Call, with Strike 12'600, is: \" + str(round(bs_call_price, 2)))\n",
    "print(\"The option price for a European Put, with Strike 12'100, is: \" + str(round(bs_put_price, 2)))"
   ]
  },
  {
   "cell_type": "code",
   "execution_count": 13,
   "id": "3b73ce0c",
   "metadata": {},
   "outputs": [
    {
     "ename": "NameError",
     "evalue": "name 'tabulate' is not defined",
     "output_type": "error",
     "traceback": [
      "\u001b[0;31m---------------------------------------------------------------------------\u001b[0m",
      "\u001b[0;31mNameError\u001b[0m                                 Traceback (most recent call last)",
      "\u001b[0;32m<ipython-input-13-e585d6690085>\u001b[0m in \u001b[0;36m<module>\u001b[0;34m\u001b[0m\n\u001b[1;32m     29\u001b[0m \u001b[0mtable\u001b[0m \u001b[0;34m=\u001b[0m \u001b[0;34m[\u001b[0m\u001b[0;34m[\u001b[0m\u001b[0;34m'Greeks'\u001b[0m\u001b[0;34m,\u001b[0m \u001b[0;34m'Call'\u001b[0m\u001b[0;34m,\u001b[0m \u001b[0;34m'Put'\u001b[0m\u001b[0;34m]\u001b[0m\u001b[0;34m,\u001b[0m \u001b[0;34m[\u001b[0m\u001b[0;34m'Delta'\u001b[0m\u001b[0;34m,\u001b[0m \u001b[0mdcall\u001b[0m\u001b[0;34m,\u001b[0m \u001b[0mdput\u001b[0m\u001b[0;34m]\u001b[0m\u001b[0;34m,\u001b[0m \u001b[0;34m[\u001b[0m\u001b[0;34m'Gamma'\u001b[0m\u001b[0;34m,\u001b[0m \u001b[0mgcall\u001b[0m\u001b[0;34m,\u001b[0m \u001b[0mdput\u001b[0m\u001b[0;34m]\u001b[0m\u001b[0;34m,\u001b[0m \u001b[0;34m[\u001b[0m\u001b[0;34m'Theta'\u001b[0m\u001b[0;34m,\u001b[0m \u001b[0mtcall\u001b[0m\u001b[0;34m,\u001b[0m \u001b[0mtput\u001b[0m\u001b[0;34m]\u001b[0m\u001b[0;34m,\u001b[0m \u001b[0;34m[\u001b[0m\u001b[0;34m'Rho'\u001b[0m\u001b[0;34m,\u001b[0m \u001b[0mrcall\u001b[0m\u001b[0;34m,\u001b[0m \u001b[0mrput\u001b[0m\u001b[0;34m]\u001b[0m\u001b[0;34m,\u001b[0m \u001b[0;34m[\u001b[0m\u001b[0;34m'Vega'\u001b[0m\u001b[0;34m,\u001b[0m \u001b[0mvcall\u001b[0m\u001b[0;34m,\u001b[0m \u001b[0mvput\u001b[0m\u001b[0;34m]\u001b[0m\u001b[0;34m]\u001b[0m\u001b[0;34m\u001b[0m\u001b[0;34m\u001b[0m\u001b[0m\n\u001b[1;32m     30\u001b[0m \u001b[0;34m\u001b[0m\u001b[0m\n\u001b[0;32m---> 31\u001b[0;31m \u001b[0mprint\u001b[0m\u001b[0;34m(\u001b[0m\u001b[0mtabulate\u001b[0m\u001b[0;34m(\u001b[0m\u001b[0mtable\u001b[0m\u001b[0;34m,\u001b[0m \u001b[0mheaders\u001b[0m\u001b[0;34m=\u001b[0m\u001b[0;34m'firstrow'\u001b[0m\u001b[0;34m,\u001b[0m \u001b[0mtablefmt\u001b[0m\u001b[0;34m=\u001b[0m\u001b[0;34m'fancy_grid'\u001b[0m\u001b[0;34m,\u001b[0m \u001b[0mnumalign\u001b[0m\u001b[0;34m=\u001b[0m\u001b[0;34m\"right\"\u001b[0m\u001b[0;34m)\u001b[0m\u001b[0;34m)\u001b[0m\u001b[0;34m\u001b[0m\u001b[0;34m\u001b[0m\u001b[0m\n\u001b[0m",
      "\u001b[0;31mNameError\u001b[0m: name 'tabulate' is not defined"
     ]
    }
   ],
   "source": [
    "# c\n",
    "#The Greeks (Formula found at Remark 22.5)\n",
    "#Delta\n",
    "delta_call = norm.cdf(d1_call)\n",
    "dcall = round((delta_call), 2)\n",
    "delta_put = -norm.cdf(d1_put)\n",
    "dput = round((delta_put), 2)\n",
    "#Gamma\n",
    "gamma_call = norm.pdf(d1_call) / (S*sigma*np.sqrt(m))\n",
    "gcall = round((gamma_call), 2)\n",
    "gamma_put = gamma_call\n",
    "gput = round((gamma_put), 2)\n",
    "#Theta\n",
    "theta_call = 0.01*(-(S*norm.pdf(d1_call)*sigma)/(2*np.sqrt(m)) - rf*Kc*np.exp(-rf*m)*norm.cdf(d2_call))\n",
    "tcall = round((theta_call), 2)\n",
    "theta_put = 0.01*(-(S*norm.pdf(d1_put)*sigma)/(2*np.sqrt(m)) + rf*Kp*np.exp(-rf*m)*norm.cdf(-d2_put))\n",
    "tput = round((theta_put), 2)\n",
    "#Rho\n",
    "rho_call = 0.01*(Kc*m*np.exp(-rf*m)*norm.cdf(d2_call))\n",
    "rcall = round((rho_call), 2)\n",
    "rho_put = 0.01*(-Kp*m*np.exp(-rf*m)*norm.cdf(-d2_put))\n",
    "rput = round((rho_put), 2)\n",
    "#Vega\n",
    "vega_call = 0.01*(S*norm.pdf(d1_call)*np.sqrt(m))\n",
    "vcall = round((vega_call), 2)\n",
    "vega_put = 0.01*(S*norm.pdf(d1_put)*np.sqrt(m))\n",
    "vput = round((vega_put), 2)\n",
    "\n",
    "table = [['Greeks', 'Call', 'Put'], ['Delta', dcall, dput], ['Gamma', gcall, dput], ['Theta', tcall, tput], ['Rho', rcall, rput], ['Vega', vcall, vput]]\n",
    "\n",
    "#print(tabulate(table, headers='firstrow', tablefmt='fancy_grid', numalign=\"right\"))"
   ]
  },
  {
   "cell_type": "code",
   "execution_count": 7,
   "id": "024fd101",
   "metadata": {},
   "outputs": [
    {
     "data": {
      "image/png": "[encoded data removed]",
      "text/plain": [
       "<Figure size 864x432 with 1 Axes>"
      ]
     },
     "metadata": {
      "needs_background": "light"
     },
     "output_type": "display_data"
    }
   ],
   "source": [
    "# d\n",
    "expiration = np.arange(11200, 13600, 100)[::-1]\n",
    "\n",
    "call_profit = []\n",
    "for i in expiration:\n",
    "    if Kc <= i:\n",
    "        j = i-Kc-bs_call_price\n",
    "    else: j = -bs_call_price\n",
    "    call_profit.append(j)\n",
    "\n",
    "put_profit = []\n",
    "for i in expiration:\n",
    "    if Kp <= i:\n",
    "        j = -bs_put_price\n",
    "    else: j = Kp-i-bs_put_price\n",
    "    put_profit.append(j)\n",
    "\n",
    "\n",
    "profits = pd.DataFrame(columns = ['Profit/Loss Call', 'Profit/Loss Put', 'Profit Long Strangle'],  index = expiration)\n",
    "profits['Profit/Loss Call'] = call_profit\n",
    "profits['Profit/Loss Put'] = put_profit\n",
    "profits['Profit Long Strangle'] = profits['Profit/Loss Call'] + profits['Profit/Loss Put']\n",
    "profits['Zero'] = [0]*24\n",
    "\n",
    "\n",
    "\n",
    "plt.figure(figsize = (12,6))\n",
    "plt.plot(expiration, profits['Profit Long Strangle'], color ='black', label ='Profit/Loss of Long Strangle Strategy', zorder=1)\n",
    "plt.plot(12780.13, 0, color = 'blue', marker='*', label = 'Zero Profit Expiration > Spot', markersize=20.0, zorder=3)\n",
    "plt.plot(11919.87, 0, color = 'Green', marker='*', label = 'Zero Profit Expiration < Spot', markersize=20.0, zorder=4)\n",
    "plt.plot(S,0, color='brown', marker='*', label = 'Spot', markersize=20.0, zorder=5)\n",
    "plt.plot(expiration, profits['Zero'], color='red', linestyle='-', label='Zero Profit Line', zorder=2)\n",
    "plt.xlim(xmin=11000, xmax=13750)\n",
    "plt.legend(loc='best')\n",
    "\n",
    "\n",
    "plt.title('Payoff Diagram Long Strangle', size = 16)\n",
    "plt.xlabel('SMI Price at Expiration', size = 14)\n",
    "plt.ylabel('Profit/Loss', size = 14)\n",
    "\n",
    "plt.show()\n"
   ]
  },
  {
   "cell_type": "code",
   "execution_count": null,
   "id": "05845951",
   "metadata": {},
   "outputs": [],
   "source": []
  },
  {
   "cell_type": "markdown",
   "id": "32f1ffb0",
   "metadata": {},
   "source": [
    "### e)"
   ]
  },
  {
   "cell_type": "code",
   "execution_count": 8,
   "id": "b4a94461",
   "metadata": {},
   "outputs": [
    {
     "name": "stdout",
     "output_type": "stream",
     "text": [
      "The risk-neutral probaility that this strategy will generate a profit is: 0.67\n"
     ]
    }
   ],
   "source": [
    "# The phi(d2) term in the Black- Scholes formula (21.3)–(21.4) is the risk-neutral probability that S_m > K\n",
    "# calculating the risk-neutral probability that we will make a profit with this strategy:\n",
    "rn_d1_call = (np.log((S+bs_call_price)/Kc)+(rf+(sigma**2)/2.)*m)/(sigma*np.sqrt(m))\n",
    "rn_d2_call = rn_d1_call-sigma*np.sqrt(m)\n",
    "\n",
    "rn_probability_call = norm.cdf(rn_d2_call)\n",
    "rn_probability_call\n",
    "\n",
    "rn_d1_put = (np.log((S+bs_put_price)/Kp)+(rf+(sigma**2)/2.)*m)/(sigma*np.sqrt(m))\n",
    "rn_d2_put = d1_put-sigma*np.sqrt(m)\n",
    "\n",
    "rn_probability_put = norm.cdf(-rn_d2_put)\n",
    "rn_probability_put\n",
    "\n",
    "print(\"The risk-neutral probaility that this strategy will generate a profit is: \" + str(round(rn_probability_call+rn_probability_put, 2)))"
   ]
  },
  {
   "cell_type": "markdown",
   "id": "ff566bec",
   "metadata": {},
   "source": [
    "### f)"
   ]
  },
  {
   "cell_type": "code",
   "execution_count": 9,
   "id": "33f9503a",
   "metadata": {},
   "outputs": [
    {
     "name": "stdout",
     "output_type": "stream",
     "text": [
      "0.4016 units of the underlying need to be bought such that the position is delta-neutral\n"
     ]
    }
   ],
   "source": [
    "# the Value of the portfolio is\n",
    "# V = vS + M - L\n",
    "# we assume M = 0 and L = - 1C - 1P given we're long one of each\n",
    "# becomes V = vS + 1C + 1P \n",
    "# given we're looking to be delta neutral need to take the deriv of this wrt S\n",
    "# so we have v = phi(d1_call) - phi(d1_put)\n",
    "# copied from cyril above: \n",
    "#delta_call = norm.cdf(d1_call)\n",
    "#dcall = round((delta_call), 2)\n",
    "#delta_put = -norm.cdf(d1_put)\n",
    "\n",
    "v = - delta_call - delta_put\n",
    "print(str(round(v, 4))+\" units of the underlying need to be bought such that the position is delta-neutral\")\n"
   ]
  },
  {
   "cell_type": "markdown",
   "id": "7527389a",
   "metadata": {},
   "source": [
    "### g)"
   ]
  },
  {
   "cell_type": "code",
   "execution_count": 10,
   "id": "e549c493",
   "metadata": {},
   "outputs": [],
   "source": [
    "# we want to have a 70% risk neutral probability that at least one of the options is in the money\n",
    "# given both options contribute equally we want: phi(d2_put) =0.35 and 1-phi(d2_call) =0.35\n",
    "# corresponding values of the normal distribution are -0.385 and 0.385\n",
    "#defining d2\n",
    "d2_p = 0.385\n",
    "d2_c = -0.385\n",
    "#solve formula 21.4 now back to get K\n",
    "# K = S/exp((d2+sigma*sqrt(m))*sigma*sqrt(m) - (y+sigma**2/2)*m)\n"
   ]
  },
  {
   "cell_type": "code",
   "execution_count": 11,
   "id": "f6475baa",
   "metadata": {},
   "outputs": [
    {
     "name": "stdout",
     "output_type": "stream",
     "text": [
      "The strike for the call option needs to be set at 12528.72\n",
      "The strike for the put option needs to be set at 12163.48\n"
     ]
    }
   ],
   "source": [
    "S = 12361.69\n",
    "sigma = 0.1331\n",
    "y = -0.0076\n",
    "m = 1/12\n",
    "\n",
    "Kp_g = S/np.exp((d2_p+sigma*np.sqrt(m))*sigma*np.sqrt(m) - (y+sigma**2/2)*m)\n",
    "Kc_g = S/np.exp((d2_c+sigma*np.sqrt(m))*sigma*np.sqrt(m) - (y+sigma**2/2)*m)\n",
    "\n",
    "print(\"The strike for the call option needs to be set at \" + str(round(Kc_g, 2)))\n",
    "print(\"The strike for the put option needs to be set at \" + str(round(Kp_g, 2)))\n"
   ]
  },
  {
   "cell_type": "markdown",
   "id": "b963cc45",
   "metadata": {},
   "source": [
    "### h)"
   ]
  },
  {
   "cell_type": "code",
   "execution_count": 12,
   "id": "ac74608f",
   "metadata": {},
   "outputs": [
    {
     "name": "stdout",
     "output_type": "stream",
     "text": [
      "The option price for a European Call, with Strike 12528.72, is: 115.96\n",
      "The option price for a European Put, with Strike 12163.48, is: 107.91\n",
      "The overall strategy value is : 223.87\n"
     ]
    }
   ],
   "source": [
    "#Call Price\n",
    "d1_call = (np.log(S/Kc_g)+(rf+(sigma**2)/2.)*m)/(sigma*np.sqrt(m))\n",
    "d2_call = d1_call-sigma*np.sqrt(m)\n",
    "\n",
    "call_price = S*norm.cdf(d1_call)-Kc_g*np.exp(-rf*m)*norm.cdf(d2_call)\n",
    "\n",
    "#Put Price\n",
    "d1_put = (np.log(S/Kp_g)+(rf+(sigma**2)/2.)*m)/(sigma*np.sqrt(m))\n",
    "d2_put = d1_put-sigma*np.sqrt(m)\n",
    "\n",
    "put_price = Kp_g*np.exp(-rf*m)*norm.cdf(-d2_put)-S*norm.cdf(-d1_put)\n",
    "\n",
    "print(\"The option price for a European Call, with Strike 12528.72, is: \" + str(round(call_price, 2)))\n",
    "print(\"The option price for a European Put, with Strike 12163.48, is: \" + str(round(put_price, 2)))\n",
    "\n",
    "#calculating the strategy value is\n",
    "# V = - (-1C - 1P)\n",
    "\n",
    "V = call_price + put_price\n",
    "print(\"The overall strategy value is : \" + str(round(V, 2)))"
   ]
  }
 ],
 "metadata": {
  "kernelspec": {
   "display_name": "Python 3",
   "language": "python",
   "name": "python3"
  },
  "language_info": {
   "codemirror_mode": {
    "name": "ipython",
    "version": 3
   },
   "file_extension": ".py",
   "mimetype": "text/x-python",
   "name": "python",
   "nbconvert_exporter": "python",
   "pygments_lexer": "ipython3",
   "version": "3.8.8"
  }
 },
 "nbformat": 4,
 "nbformat_minor": 5
}
