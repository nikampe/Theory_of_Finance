{
 "cells": [
  {
   "cell_type": "markdown",
   "metadata": {},
   "source": [
    "# Problem Set 5: Derivatives\n"
   ]
  },
  {
   "cell_type": "markdown",
   "metadata": {},
   "source": [
    "# Problem 1: Fee Pricing\n"
   ]
  },
  {
   "cell_type": "code",
   "execution_count": 1,
   "metadata": {},
   "outputs": [],
   "source": [
    "import numpy as np\n",
    "from scipy.stats import norm\n",
    "from tabulate import tabulate\n",
    "import pandas as pd\n",
    "import matplotlib.pyplot as plt\n",
    "import warnings\n",
    "from datetime import datetime\n",
    "from scipy.interpolate import make_interp_spline, BSpline\n",
    "import matplotlib.dates as mdates\n",
    "import statsmodels.api as sm\n",
    "from sympy.solvers import solve\n",
    "from sympy import Symbol\n",
    "warnings.filterwarnings('ignore')"
   ]
  },
  {
   "cell_type": "code",
   "execution_count": 2,
   "metadata": {},
   "outputs": [
    {
     "name": "stdout",
     "output_type": "stream",
     "text": [
      "            UBS_CHINA_EQUITY_FUND\n",
      "date                             \n",
      "10.08.2018                  17862\n",
      "13.08.2018                  17784\n",
      "14.08.2018                  17552\n",
      "15.08.2018                  17424\n",
      "16.08.2018                  17015\n",
      "17.08.2018                  16797\n",
      "20.08.2018                  16640\n",
      "21.08.2018                  16840\n",
      "22.08.2018                  17088\n",
      "23.08.2018                  17247\n"
     ]
    }
   ],
   "source": [
    "data = pd.read_csv(r'Data/ToF_2021_PS5-data-1.csv', delimiter = ';', index_col = 'date')\n",
    "print(data.head(n = 10))"
   ]
  },
  {
   "cell_type": "code",
   "execution_count": 3,
   "metadata": {},
   "outputs": [],
   "source": [
    "# Exogenous Variables\n",
    "n = 3\n",
    "S_0 = 1000000\n",
    "rf_rate = -0.0076\n",
    "performance_fee = 0.1\n",
    "binomial_step = 1\n",
    "months_per_year = 12\n",
    "days_per_year = 252"
   ]
  },
  {
   "cell_type": "markdown",
   "metadata": {},
   "source": [
    "# a)"
   ]
  },
  {
   "cell_type": "code",
   "execution_count": 4,
   "metadata": {},
   "outputs": [
    {
     "name": "stdout",
     "output_type": "stream",
     "text": [
      "              Return  Log Return\n",
      "date                            \n",
      "10.08.2018       NaN         NaN\n",
      "13.08.2018 -0.004367   -0.004376\n",
      "14.08.2018 -0.013045   -0.013131\n",
      "15.08.2018 -0.007293   -0.007319\n",
      "16.08.2018 -0.023473   -0.023753\n",
      "17.08.2018 -0.012812   -0.012895\n",
      "20.08.2018 -0.009347   -0.009391\n",
      "21.08.2018  0.012019    0.011948\n",
      "22.08.2018  0.014727    0.014619\n",
      "23.08.2018  0.009305    0.009262\n"
     ]
    }
   ],
   "source": [
    "returns = data.pct_change()\n",
    "returns['Log Return'] = np.nan\n",
    "returns.rename(columns = {'UBS_CHINA_EQUITY_FUND': 'Return'}, inplace = True)\n",
    "for i in range(0, len(returns.index)):\n",
    "    returns.iloc[i, 1] = np.log(1 + returns.iloc[i, 0])\n",
    "print(returns.head(n=10))"
   ]
  },
  {
   "cell_type": "code",
   "execution_count": 5,
   "metadata": {},
   "outputs": [
    {
     "name": "stdout",
     "output_type": "stream",
     "text": [
      "Annualized Mean: 4.21%\n",
      "Annualized Standard Deviation: 21.93%\n",
      "Up-Factor: 1.2452\n",
      "Down-Factor: 0.8031\n"
     ]
    }
   ],
   "source": [
    "annualized_mean = days_per_year * returns['Log Return'].mean()\n",
    "annualized_std = days_per_year**0.5 * returns['Log Return'].std()\n",
    "u = np.exp(annualized_std)\n",
    "d = np.exp(-annualized_std)\n",
    "print(f'Annualized Mean: {round(annualized_mean * 100, 2)}%')\n",
    "print(f'Annualized Standard Deviation: {round(annualized_std * 100, 2)}%')\n",
    "print(f'Up-Factor: {round(u, 4)}')\n",
    "print(f'Down-Factor: {round(d, 4)}')"
   ]
  },
  {
   "cell_type": "markdown",
   "metadata": {},
   "source": [
    "# b)"
   ]
  },
  {
   "cell_type": "code",
   "execution_count": 6,
   "metadata": {},
   "outputs": [
    {
     "name": "stdout",
     "output_type": "stream",
     "text": [
      "Upward Probability: 50.0381%\n",
      "Downward Probability: 49.9619%\n"
     ]
    }
   ],
   "source": [
    "q = (annualized_mean*(1/days_per_year) - np.log(d)) / (np.log(u) - np.log(d))\n",
    "print(f'Upward Probability: {round(q*100, 4)}%')\n",
    "print(f'Downward Probability: {100-round(q*100, 4)}%')"
   ]
  },
  {
   "cell_type": "code",
   "execution_count": 7,
   "metadata": {},
   "outputs": [],
   "source": [
    "# Period 0\n",
    "S_0 = 1000000\n",
    "# Period 1\n",
    "S_1_up = S_0 * u\n",
    "S_1_down = S_0 * d\n",
    "# Period 2\n",
    "S_2_up_up = S_1_up * u\n",
    "S_2_up_down = S_1_up * d\n",
    "S_2_down_up = S_1_down * u\n",
    "S_2_down_down = S_1_down * d\n",
    "# Period 3\n",
    "S_3_up_up_up = S_2_up_up * u\n",
    "S_3_up_up_down = S_2_up_up * d\n",
    "S_3_up_down_up = S_2_up_down * u\n",
    "S_3_up_down_down = S_2_up_down * d\n",
    "S_3_down_up_up = S_2_down_up * u\n",
    "S_3_down_up_down = S_2_down_up * d\n",
    "S_3_down_down_up = S_2_down_down * u\n",
    "S_3_down_down_down = S_2_down_down * d"
   ]
  },
  {
   "cell_type": "code",
   "execution_count": 8,
   "metadata": {},
   "outputs": [
    {
     "name": "stdout",
     "output_type": "stream",
     "text": [
      "S0: 1000000\n",
      "S1 (U): 1245219.52\n",
      "S1 (D): 803071.25\n",
      "S2 (UU): 1550571.65\n",
      "S2 (UD): 1000000.0\n",
      "S2 (DU): 1000000.0\n",
      "S2 (DD): 644923.44\n",
      "S3 (UUU): 1930802.08\n",
      "S3 (UUD): 1245219.52\n",
      "S3 (UDU): 1245219.52\n",
      "S3 (UDD): 803071.25\n",
      "S3 (DUU): 1245219.52\n",
      "S3 (DUD): 803071.25\n",
      "S3 (DDU): 803071.25\n",
      "S3 (DDD): 517919.47\n"
     ]
    }
   ],
   "source": [
    "# Period 0\n",
    "print(f'S0: {round(S_0, 2)}')\n",
    "# Period 1\n",
    "print(f'S1 (U): {round(S_1_up, 2)}')\n",
    "print(f'S1 (D): {round(S_1_down, 2)}')\n",
    "# Period 2\n",
    "print(f'S2 (UU): {round(S_2_up_up, 2)}')\n",
    "print(f'S2 (UD): {round(S_2_up_down, 2)}')\n",
    "print(f'S2 (DU): {round(S_2_down_up, 2)}')\n",
    "print(f'S2 (DD): {round(S_2_down_down, 2)}')\n",
    "# Period 3\n",
    "print(f'S3 (UUU): {round(S_3_up_up_up, 2)}')\n",
    "print(f'S3 (UUD): {round(S_3_up_up_down, 2)}')\n",
    "print(f'S3 (UDU): {round(S_3_up_down_up, 2)}')\n",
    "print(f'S3 (UDD): {round(S_3_up_down_down, 2)}')\n",
    "print(f'S3 (DUU): {round(S_3_down_up_up, 2)}')\n",
    "print(f'S3 (DUD): {round(S_3_down_up_down, 2)}')\n",
    "print(f'S3 (DDU): {round(S_3_down_down_up, 2)}')\n",
    "print(f'S3 (DDD): {round(S_3_down_down_down, 2)}')"
   ]
  },
  {
   "cell_type": "markdown",
   "metadata": {},
   "source": [
    "# c)"
   ]
  },
  {
   "cell_type": "code",
   "execution_count": 9,
   "metadata": {},
   "outputs": [
    {
     "name": "stdout",
     "output_type": "stream",
     "text": [
      "Expected NPV of CFs in Period 1: 12177.77\n"
     ]
    }
   ],
   "source": [
    "# Period 1\n",
    "NPV_1 = 0\n",
    "if S_1_up > S_0:\n",
    "    NPV_1 += 1/(1-rf_rate) * q * (S_1_up-S_0) * 0.1\n",
    "if S_1_down > S_0:\n",
    "    NPV_1 += 1/(1-rf_rate) * (1-q) * (S_1_down-S_0) * 0.1\n",
    "print(f'Expected NPV of CFs in Period 1: {round(NPV_1, 2)}')"
   ]
  },
  {
   "cell_type": "code",
   "execution_count": 10,
   "metadata": {},
   "outputs": [
    {
     "name": "stdout",
     "output_type": "stream",
     "text": [
      "Expected NPV of CFs in Period 2: 7530.55\n"
     ]
    }
   ],
   "source": [
    "# Period 2\n",
    "NPV_2 = 0\n",
    "if S_2_up_up > S_1_up:\n",
    "    NPV_2 += 1/(1-rf_rate)**2 * q**2 * (S_2_up_up-S_1_up) * 0.1\n",
    "if S_2_up_down > S_1_up:\n",
    "    NPV_2 += 1/(1-rf_rate)**2 * q * (1-q) * (S_2_up_down-S_1_up) * 0.1\n",
    "if S_2_down_up > S_0:\n",
    "    NPV_2 += 1/(1-rf_rate)**2 * q * (1-q) * (S_2_down_up-S_1_down) * 0.1\n",
    "if S_2_down_down > S_0:\n",
    "    NPV_2 += 1/(1-rf_rate)**2 * (1-q)**2 * (S_2_down_down-S_1_down) * 0.1\n",
    "print(f'Expected NPV of CFs in Period 2: {round(NPV_2, 2)}')"
   ]
  },
  {
   "cell_type": "code",
   "execution_count": 11,
   "metadata": {},
   "outputs": [
    {
     "name": "stdout",
     "output_type": "stream",
     "text": [
      "Expected NPV of CFs in Period 3: 7655.46\n"
     ]
    }
   ],
   "source": [
    "# Period 2\n",
    "NPV_3 = 0\n",
    "if S_3_up_up_up > S_2_up_up:\n",
    "    NPV_3 += 1/(1-rf_rate)**3 * q**3 * (S_3_up_up_up-S_2_up_up) * 0.1\n",
    "if S_3_up_up_down > S_2_up_up:\n",
    "    NPV_3 += 1/(1-rf_rate)**3 * q**2 * (1-q) * (S_3_up_up_down-S_2_up_up) * 0.1\n",
    "if S_3_up_down_up > S_1_up:\n",
    "    NPV_3 += 1/(1-rf_rate)**3 * q * (1-q) * q * (S_3_up_down_up-S_2_up_down) * 0.1\n",
    "if S_3_up_down_down > S_1_up:\n",
    "    NPV_3 += 1/(1-rf_rate)**3 * q * (1-q) * (1-q) * (S_3_up_down_down-S_2_up_down) * 0.1\n",
    "if S_3_down_up_up > S_2_down_up:\n",
    "    NPV_3 += 1/(1-rf_rate)**3 * (1-q) * q**2 * (S_3_down_up_up-S_2_down_up) * 0.1\n",
    "if S_3_down_up_down > S_2_down_up:\n",
    "    NPV_3 += 1/(1-rf_rate)**3 * (1-q) * q * (1-q) * (S_3_down_up_down-S_2_down_up) * 0.1\n",
    "if S_3_down_down_up > S_0:\n",
    "    NPV_3 += 1/(1-rf_rate)**3 * (1-q)**2 * q * (S_3_down_down_up-S_2_down_down) * 0.1\n",
    "if S_3_down_down_down > S_0:\n",
    "    NPV_3 += 1/(1-rf_rate)**3 * (1-q)**3 * (S_3_down_down_down-S_2_down_down) * 0.1\n",
    "print(f'Expected NPV of CFs in Period 3: {round(NPV_3, 2)}')"
   ]
  },
  {
   "cell_type": "markdown",
   "metadata": {},
   "source": [
    "# d)"
   ]
  },
  {
   "cell_type": "code",
   "execution_count": 12,
   "metadata": {},
   "outputs": [
    {
     "name": "stdout",
     "output_type": "stream",
     "text": [
      "Expected Utility from CFs in Period 1: 5281.64\n",
      "Expected Utility from CFs in Period 2: 3426.9\n",
      "Expected Utility from CFs in Period 3: 3478.02\n"
     ]
    }
   ],
   "source": [
    "k = 0.1\n",
    "utility_1 = NPV_1**(1-k) / (1-k)\n",
    "utility_2 = NPV_2**(1-k) / (1-k)\n",
    "utility_3 = NPV_3**(1-k) / (1-k)\n",
    "print(f'Expected Utility from CFs in Period 1: {round(utility_1, 2)}')\n",
    "print(f'Expected Utility from CFs in Period 2: {round(utility_2, 2)}')\n",
    "print(f'Expected Utility from CFs in Period 3: {round(utility_3, 2)}')"
   ]
  },
  {
   "cell_type": "markdown",
   "metadata": {},
   "source": [
    "# e)"
   ]
  },
  {
   "cell_type": "code",
   "execution_count": 13,
   "metadata": {},
   "outputs": [
    {
     "name": "stdout",
     "output_type": "stream",
     "text": [
      "Utility-Indifferent Fixed Annual Coupon: 10122.08\n"
     ]
    }
   ],
   "source": [
    "c = Symbol('c')\n",
    "coupon = solve((1/(1+rf_rate) * c + 1/(1+rf_rate)**2 * c + 1/(1+rf_rate)**3 * c)**(1-k) / (1-k) - utility_1 - utility_2 - utility_3, c)[0]\n",
    "print(f'Utility-Indifferent Fixed Annual Coupon: {round(coupon, 2)}')"
   ]
  },
  {
   "cell_type": "markdown",
   "metadata": {},
   "source": [
    "# f)"
   ]
  },
  {
   "cell_type": "code",
   "execution_count": 15,
   "metadata": {},
   "outputs": [],
   "source": [
    "# See Solution Sheet"
   ]
  },
  {
   "cell_type": "markdown",
   "metadata": {},
   "source": [
    "# Problem 2: Black-Scholes, Combined Strategy"
   ]
  },
  {
   "cell_type": "code",
   "execution_count": 16,
   "metadata": {},
   "outputs": [],
   "source": [
    "# Exogenous variables\n",
    "\n",
    "S = 12361.69\n",
    "sigma = 0.1331\n",
    "rf = -0.0076\n",
    "m = 1/12"
   ]
  },
  {
   "cell_type": "markdown",
   "metadata": {},
   "source": [
    "# a) "
   ]
  },
  {
   "cell_type": "code",
   "execution_count": 17,
   "metadata": {},
   "outputs": [],
   "source": [
    "# See Solution Sheet"
   ]
  },
  {
   "cell_type": "markdown",
   "metadata": {},
   "source": [
    "# b)"
   ]
  },
  {
   "cell_type": "code",
   "execution_count": 18,
   "metadata": {},
   "outputs": [
    {
     "name": "stdout",
     "output_type": "stream",
     "text": [
      "The option price for a European Call, with Strike 12'600, is: 92.89\n",
      "The option price for a European Put, with Strike 12'100, is: 87.24\n"
     ]
    }
   ],
   "source": [
    "Kc = call_strike = 12600\n",
    "Kp = put_strike = 12100\n",
    "\n",
    "# Formula for European Call Option (21.3)\n",
    "\n",
    "#Call_price = S*phi(d1)-(e^(-ym))*Kc*phi(d2)\n",
    "#Put_price = Kp*e^(-ym)*phi(-d2)-S*phi(-d1)\n",
    "#S = Spot\n",
    "#y = risk free\n",
    "#m = time to maturity\n",
    "#K = Strike Price\n",
    "#sigma = volatility of asset\n",
    "\n",
    "#Call Price\n",
    "d1_call = (np.log(S/Kc)+(rf+(sigma**2)/2.)*m)/(sigma*np.sqrt(m))\n",
    "d2_call = d1_call-sigma*np.sqrt(m)\n",
    "\n",
    "bs_call_price = S*norm.cdf(d1_call)-Kc*np.exp(-rf*m)*norm.cdf(d2_call)\n",
    "\n",
    "#Put Price\n",
    "d1_put = (np.log(S/Kp)+(rf+(sigma**2)/2.)*m)/(sigma*np.sqrt(m))\n",
    "d2_put = d1_put-sigma*np.sqrt(m)\n",
    "\n",
    "# bs_put_price = Kp*np.exp(-rf*m)-S+bs_call_price\n",
    "bs_put_price = Kp*np.exp(-rf*m)*norm.cdf(-d2_put)-S*norm.cdf(-d1_put)\n",
    "\n",
    "print(\"The option price for a European Call, with Strike 12'600, is: \" + str(round(bs_call_price, 2)))\n",
    "print(\"The option price for a European Put, with Strike 12'100, is: \" + str(round(bs_put_price, 2)))"
   ]
  },
  {
   "cell_type": "markdown",
   "metadata": {},
   "source": [
    "# c)"
   ]
  },
  {
   "cell_type": "code",
   "execution_count": 19,
   "metadata": {},
   "outputs": [
    {
     "name": "stdout",
     "output_type": "stream",
     "text": [
      "╒══════════╤═════════╤═════════╕\n",
      "│ Greeks   │    Call │     Put │\n",
      "╞══════════╪═════════╪═════════╡\n",
      "│ Delta    │    0.31 │   -0.71 │\n",
      "├──────────┼─────────┼─────────┤\n",
      "│ Gamma    │ 0.00074 │   -0.71 │\n",
      "├──────────┼─────────┼─────────┤\n",
      "│ Theta    │ -977.73 │ -999.84 │\n",
      "├──────────┼─────────┼─────────┤\n",
      "│ Rho      │  312.19 │ -303.82 │\n",
      "├──────────┼─────────┼─────────┤\n",
      "│ Vega     │ 1259.96 │ 1217.29 │\n",
      "╘══════════╧═════════╧═════════╛\n"
     ]
    }
   ],
   "source": [
    "#The Greeks (Formula found at Remark 22.5)\n",
    "#Delta\n",
    "delta_call = norm.cdf(d1_call)\n",
    "dcall = round((delta_call), 2)\n",
    "delta_put = -norm.cdf(d1_put)\n",
    "dput = round((delta_put), 2)\n",
    "#Gamma\n",
    "gamma_call = norm.pdf(d1_call) / (S*sigma*np.sqrt(m))\n",
    "gcall = round((gamma_call), 5)\n",
    "gamma_put = gamma_call\n",
    "gput = round((gamma_put), 2)\n",
    "#Theta\n",
    "theta_call = (-(S*norm.pdf(d1_call)*sigma)/(2*np.sqrt(m)) - rf*Kc*np.exp(-rf*m)*norm.cdf(d2_call))\n",
    "tcall = round((theta_call), 2)\n",
    "theta_put = (-(S*norm.pdf(d1_put)*sigma)/(2*np.sqrt(m)) + rf*Kp*np.exp(-rf*m)*norm.cdf(-d2_put))\n",
    "tput = round((theta_put), 2)\n",
    "#Rho\n",
    "rho_call = (Kc*m*np.exp(-rf*m)*norm.cdf(d2_call))\n",
    "rcall = round((rho_call), 2)\n",
    "rho_put = (-Kp*m*np.exp(-rf*m)*norm.cdf(-d2_put))\n",
    "rput = round((rho_put), 2)\n",
    "#Vega\n",
    "vega_call = (S*norm.pdf(d1_call)*np.sqrt(m))\n",
    "vcall = round((vega_call), 2)\n",
    "vega_put = (S*norm.pdf(d1_put)*np.sqrt(m))\n",
    "vput = round((vega_put), 2)\n",
    "\n",
    "table = [['Greeks', 'Call', 'Put'], ['Delta', dcall, dput], ['Gamma', gcall, dput], ['Theta', tcall, tput], ['Rho', rcall, rput], ['Vega', vcall, vput]]\n",
    "\n",
    "print(tabulate(table, headers='firstrow', tablefmt='fancy_grid', numalign=\"right\"))\n",
    " "
   ]
  },
  {
   "cell_type": "markdown",
   "metadata": {},
   "source": [
    "# d)"
   ]
  },
  {
   "cell_type": "code",
   "execution_count": 20,
   "metadata": {},
   "outputs": [
    {
     "data": {
      "image/png": "[encoded data removed]",
      "text/plain": [
       "<Figure size 864x432 with 1 Axes>"
      ]
     },
     "metadata": {
      "needs_background": "light"
     },
     "output_type": "display_data"
    },
    {
     "name": "stdout",
     "output_type": "stream",
     "text": [
      "The value of going long 1 Call and 1 Put (ignoring transaction costs) is: \n",
      "180.14\n"
     ]
    }
   ],
   "source": [
    "expiration = np.arange(11200, 13600, 100)[::-1]\n",
    "\n",
    "call_profit = []\n",
    "for i in expiration:\n",
    "    if Kc <= i:\n",
    "        j = i-Kc-bs_call_price\n",
    "    else: j = -bs_call_price\n",
    "    call_profit.append(j)\n",
    "\n",
    "put_profit = []\n",
    "for i in expiration:\n",
    "    if Kp <= i:\n",
    "        j = -bs_put_price\n",
    "    else: j = Kp-i-bs_put_price\n",
    "    put_profit.append(j)\n",
    "\n",
    "\n",
    "profits = pd.DataFrame(columns = ['Profit/Loss Call', 'Profit/Loss Put', 'Profit Long Strangle'],  index = expiration)\n",
    "profits['Profit/Loss Call'] = call_profit\n",
    "profits['Profit/Loss Put'] = put_profit\n",
    "profits['Profit Long Strangle'] = profits['Profit/Loss Call'] + profits['Profit/Loss Put']\n",
    "profits['Zero'] = [0]*24\n",
    "\n",
    "\n",
    "\n",
    "plt.figure(figsize = (12,6))\n",
    "plt.plot(expiration, profits['Profit Long Strangle'], color ='black', label ='Profit/Loss of Long Strangle Strategy', zorder=1)\n",
    "plt.plot(12780.13, 0, color = 'blue', marker='*', label = 'Zero Profit Expiration > Spot', markersize=20.0, zorder=3)\n",
    "plt.plot(11919.87, 0, color = 'Green', marker='*', label = 'Zero Profit Expiration < Spot', markersize=20.0, zorder=4)\n",
    "plt.plot(S,0, color='brown', marker='*', label = 'Spot', markersize=20.0, zorder=5)\n",
    "plt.plot(expiration, profits['Zero'], color='red', linestyle='-', label='Zero Profit Line', zorder=2)\n",
    "plt.xlim(xmin=11000, xmax=13750)\n",
    "plt.legend(loc='best')\n",
    "\n",
    "\n",
    "plt.title('Payoff Diagram Long Strangle', size = 16)\n",
    "plt.xlabel('SMI Price at Expiration', size = 14)\n",
    "plt.ylabel('Profit/Loss', size = 14)\n",
    "\n",
    "plt.show()\n",
    "\n",
    "print('The value of going long 1 Call and 1 Put (ignoring transaction costs) is: \\n' + str(round(bs_call_price + bs_put_price, 2)))\n"
   ]
  },
  {
   "cell_type": "markdown",
   "metadata": {},
   "source": [
    "# e)"
   ]
  },
  {
   "cell_type": "code",
   "execution_count": 21,
   "metadata": {},
   "outputs": [
    {
     "name": "stdout",
     "output_type": "stream",
     "text": [
      "The risk-neutral probaility that this strategy will generate a profit is: 0.36\n"
     ]
    }
   ],
   "source": [
    "# The phi(d2) term in the Black- Scholes formula (21.3)–(21.4) is the risk-neutral probability that S_m > K\n",
    "# calculating the risk-neutral probability that we will make a profit with this strategy:\n",
    "rn_d1_call = (np.log((S-bs_call_price-bs_put_price)/Kc)+(rf+(sigma**2)/2.)*m)/(sigma*np.sqrt(m))\n",
    "rn_d2_call = rn_d1_call-sigma*np.sqrt(m)\n",
    "\n",
    "rn_probability_call = norm.cdf(rn_d2_call)\n",
    "#print(rn_probability_call)\n",
    "\n",
    "rn_d1_put = (np.log((S+bs_call_price+bs_put_price)/Kp)+(rf+(sigma**2)/2.)*m)/(sigma*np.sqrt(m))\n",
    "rn_d2_put = rn_d1_put-sigma*np.sqrt(m)\n",
    "rn_probability_put = norm.cdf(-rn_d2_put)\n",
    "\n",
    "print(\"The risk-neutral probaility that this strategy will generate a profit is: \" + str(round(rn_probability_call+rn_probability_put, 2)))"
   ]
  },
  {
   "cell_type": "markdown",
   "metadata": {},
   "source": [
    "# f)"
   ]
  },
  {
   "cell_type": "code",
   "execution_count": 22,
   "metadata": {},
   "outputs": [
    {
     "name": "stdout",
     "output_type": "stream",
     "text": [
      "0.4016 units of the underlying need to be bought such that the position is delta-neutral\n"
     ]
    }
   ],
   "source": [
    "# the Value of the portfolio is\n",
    "# V = vS + M - L\n",
    "# we assume M = 0 and L = - 1C - 1P given we're long one of each\n",
    "# becomes V = vS + 1C + 1P \n",
    "# given we're looking to be delta neutral need to take the deriv of this wrt S\n",
    "# so we have v = phi(d1_call) - phi(d1_put)\n",
    "#delta_call = norm.cdf(d1_call)\n",
    "#dcall = round((delta_call), 2)\n",
    "#delta_put = -norm.cdf(d1_put)\n",
    "\n",
    "v = - delta_call - delta_put\n",
    "print(str(round(v, 4))+\" units of the underlying need to be bought such that the position is delta-neutral\")"
   ]
  },
  {
   "cell_type": "markdown",
   "metadata": {},
   "source": [
    "# g)"
   ]
  },
  {
   "cell_type": "code",
   "execution_count": 23,
   "metadata": {},
   "outputs": [
    {
     "data": {
      "text/plain": [
       "0.3501187077652757"
      ]
     },
     "execution_count": 23,
     "metadata": {},
     "output_type": "execute_result"
    }
   ],
   "source": [
    "# we want to have a 70% risk neutral probability that at least one of the options is in the money\n",
    "# given both options contribute equally we want: 1-phi(d2_put) =0.35 and phi(d2_call) =0.35\n",
    "# corresponding values of the normal distribution are -0.385 and 0.385\n",
    "#defining d2\n",
    "d2_p = 0.385\n",
    "d2_c = -0.385\n",
    "norm.cdf(d2_c)\n",
    "#solve formula 21.4 now back to get K\n",
    "# K = S/exp((d2+sigma*sqrt(m))*sigma*sqrt(m) - (y+sigma**2/2)*m)"
   ]
  },
  {
   "cell_type": "code",
   "execution_count": 24,
   "metadata": {},
   "outputs": [
    {
     "name": "stdout",
     "output_type": "stream",
     "text": [
      "The strike for the call option needs to be set at 12528.72\n",
      "The strike for the put option needs to be set at 12163.48\n"
     ]
    }
   ],
   "source": [
    "S = 12361.69\n",
    "sigma = 0.1331\n",
    "y = -0.0076\n",
    "m = 1/12\n",
    "\n",
    "Kp_g = S/np.exp((d2_p+sigma*np.sqrt(m))*sigma*np.sqrt(m) - (y+sigma**2/2)*m)\n",
    "Kc_g = S/np.exp((d2_c+sigma*np.sqrt(m))*sigma*np.sqrt(m) - (y+sigma**2/2)*m)\n",
    "\n",
    "print(\"The strike for the call option needs to be set at \" + str(round(Kc_g, 2)))\n",
    "print(\"The strike for the put option needs to be set at \" + str(round(Kp_g, 2)))"
   ]
  },
  {
   "cell_type": "markdown",
   "metadata": {},
   "source": [
    "# h)"
   ]
  },
  {
   "cell_type": "code",
   "execution_count": 25,
   "metadata": {},
   "outputs": [
    {
     "name": "stdout",
     "output_type": "stream",
     "text": [
      "The option price for a European Call, with Strike 12528.72, is: 115.96\n",
      "The option price for a European Put, with Strike 12163.48, is: 107.91\n",
      "The overall strategy value is : 223.87\n"
     ]
    }
   ],
   "source": [
    "#Call Price\n",
    "d1_call = (np.log(S/Kc_g)+(rf+(sigma**2)/2.)*m)/(sigma*np.sqrt(m))\n",
    "d2_call = d1_call-sigma*np.sqrt(m)\n",
    "\n",
    "call_price = S*norm.cdf(d1_call)-Kc_g*np.exp(-rf*m)*norm.cdf(d2_call)\n",
    "\n",
    "#Put Price\n",
    "d1_put = (np.log(S/Kp_g)+(rf+(sigma**2)/2.)*m)/(sigma*np.sqrt(m))\n",
    "d2_put = d1_put-sigma*np.sqrt(m)\n",
    "\n",
    "put_price = Kp_g*np.exp(-rf*m)*norm.cdf(-d2_put)-S*norm.cdf(-d1_put)\n",
    "\n",
    "print(\"The option price for a European Call, with Strike 12528.72, is: \" + str(round(call_price, 2)))\n",
    "print(\"The option price for a European Put, with Strike 12163.48, is: \" + str(round(put_price, 2)))\n",
    "\n",
    "#calculating the strategy value is\n",
    "# V = - (-1C - 1P)\n",
    "\n",
    "V = call_price + put_price\n",
    "print(\"The overall strategy value is : \" + str(round(V, 2)))"
   ]
  }
 ],
 "metadata": {
  "kernelspec": {
   "display_name": "Python 3",
   "language": "python",
   "name": "python3"
  },
  "language_info": {
   "codemirror_mode": {
    "name": "ipython",
    "version": 3
   },
   "file_extension": ".py",
   "mimetype": "text/x-python",
   "name": "python",
   "nbconvert_exporter": "python",
   "pygments_lexer": "ipython3",
   "version": "3.7.6"
  }
 },
 "nbformat": 4,
 "nbformat_minor": 5
}
