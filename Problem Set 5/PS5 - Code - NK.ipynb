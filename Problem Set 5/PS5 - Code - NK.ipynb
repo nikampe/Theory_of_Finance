{
 "cells": [
  {
   "cell_type": "markdown",
   "metadata": {},
   "source": [
    "# Problem Set 5: Derivatives"
   ]
  },
  {
   "cell_type": "markdown",
   "metadata": {},
   "source": [
    "# Task 1: From Forwards to Interest"
   ]
  },
  {
   "cell_type": "code",
   "execution_count": 1,
   "metadata": {},
   "outputs": [],
   "source": [
    "import pandas as pd\n",
    "import numpy as np\n",
    "import matplotlib.pyplot as plt\n",
    "import warnings\n",
    "from datetime import datetime\n",
    "from scipy.interpolate import make_interp_spline, BSpline\n",
    "import matplotlib.dates as mdates\n",
    "import statsmodels.api as sm\n",
    "warnings.filterwarnings('ignore')"
   ]
  },
  {
   "cell_type": "code",
   "execution_count": 5,
   "metadata": {},
   "outputs": [
    {
     "name": "stdout",
     "output_type": "stream",
     "text": [
      "            UBS_CHINA_EQUITY_FUND\n",
      "date                             \n",
      "10.08.2018                  17862\n",
      "13.08.2018                  17784\n",
      "14.08.2018                  17552\n",
      "15.08.2018                  17424\n",
      "16.08.2018                  17015\n",
      "17.08.2018                  16797\n",
      "20.08.2018                  16640\n",
      "21.08.2018                  16840\n",
      "22.08.2018                  17088\n",
      "23.08.2018                  17247\n"
     ]
    }
   ],
   "source": [
    "data = pd.read_csv(r'Data/ToF_2021_PS5-data-1.csv', delimiter = ';', index_col = 'date')\n",
    "print(data.head(n = 10))"
   ]
  },
  {
   "cell_type": "code",
   "execution_count": 17,
   "metadata": {},
   "outputs": [],
   "source": [
    "# Exogenous Variables\n",
    "n = 3\n",
    "S_0 = 1000000\n",
    "rf_rate = -0.0076\n",
    "performance_fee = 0.1\n",
    "binomial_step = 1\n",
    "months_per_year = 12\n",
    "days_per_year = 252"
   ]
  },
  {
   "cell_type": "markdown",
   "metadata": {},
   "source": [
    "### a)"
   ]
  },
  {
   "cell_type": "code",
   "execution_count": 16,
   "metadata": {},
   "outputs": [
    {
     "name": "stdout",
     "output_type": "stream",
     "text": [
      "              Return  Log Return\n",
      "date                            \n",
      "10.08.2018       NaN         NaN\n",
      "13.08.2018 -0.004367   -0.004376\n",
      "14.08.2018 -0.013045   -0.013131\n",
      "15.08.2018 -0.007293   -0.007319\n",
      "16.08.2018 -0.023473   -0.023753\n",
      "17.08.2018 -0.012812   -0.012895\n",
      "20.08.2018 -0.009347   -0.009391\n",
      "21.08.2018  0.012019    0.011948\n",
      "22.08.2018  0.014727    0.014619\n",
      "23.08.2018  0.009305    0.009262\n"
     ]
    }
   ],
   "source": [
    "returns = data.pct_change()\n",
    "returns['Log Return'] = np.nan\n",
    "returns.rename(columns = {'UBS_CHINA_EQUITY_FUND': 'Return'}, inplace = True)\n",
    "for i in range(0, len(returns.index)):\n",
    "    returns.iloc[i, 1] = np.log(1 + returns.iloc[i, 0])\n",
    "print(returns.head(n=10))"
   ]
  },
  {
   "cell_type": "code",
   "execution_count": 25,
   "metadata": {},
   "outputs": [
    {
     "name": "stdout",
     "output_type": "stream",
     "text": [
      "Annualized Mean: 4.21%\n",
      "Annualized Standard Deviation: 21.93%\n",
      "Up-Factor: 124.52%\n",
      "Down-Factor: 80.31%\n"
     ]
    }
   ],
   "source": [
    "annualized_mean = days_per_year * returns['Log Return'].mean()\n",
    "annualized_std = days_per_year**0.5 * returns['Log Return'].std()\n",
    "u = np.exp(annualized_std)\n",
    "d = np.exp(-annualized_std)\n",
    "print(f'Annualized Mean: {round(annualized_mean * 100, 2)}%')\n",
    "print(f'Annualized Standard Deviation: {round(annualized_std * 100, 2)}%')\n",
    "print(f'Up-Factor: {round(u * 100, 2)}%')\n",
    "print(f'Down-Factor: {round(d * 100, 2)}%')"
   ]
  },
  {
   "cell_type": "markdown",
   "metadata": {},
   "source": [
    "### b)"
   ]
  },
  {
   "cell_type": "code",
   "execution_count": null,
   "metadata": {},
   "outputs": [],
   "source": []
  }
 ],
 "metadata": {
  "kernelspec": {
   "display_name": "Python 3",
   "language": "python",
   "name": "python3"
  },
  "language_info": {
   "codemirror_mode": {
    "name": "ipython",
    "version": 3
   },
   "file_extension": ".py",
   "mimetype": "text/x-python",
   "name": "python",
   "nbconvert_exporter": "python",
   "pygments_lexer": "ipython3",
   "version": "3.7.6"
  }
 },
 "nbformat": 4,
 "nbformat_minor": 4
}
