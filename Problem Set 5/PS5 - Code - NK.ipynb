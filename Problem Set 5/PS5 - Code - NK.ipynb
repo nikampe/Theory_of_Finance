{
 "cells": [
  {
   "cell_type": "markdown",
   "metadata": {},
   "source": [
    "# Problem Set 5: Derivatives"
   ]
  },
  {
   "cell_type": "markdown",
   "metadata": {},
   "source": [
    "# Task 1: From Forwards to Interest"
   ]
  },
  {
   "cell_type": "code",
   "execution_count": 61,
   "metadata": {},
   "outputs": [],
   "source": [
    "import pandas as pd\n",
    "import numpy as np\n",
    "import matplotlib.pyplot as plt\n",
    "import warnings\n",
    "from datetime import datetime\n",
    "from scipy.interpolate import make_interp_spline, BSpline\n",
    "import matplotlib.dates as mdates\n",
    "import statsmodels.api as sm\n",
    "from sympy.solvers import solve\n",
    "from sympy import Symbol\n",
    "warnings.filterwarnings('ignore')"
   ]
  },
  {
   "cell_type": "code",
   "execution_count": 5,
   "metadata": {},
   "outputs": [
    {
     "name": "stdout",
     "output_type": "stream",
     "text": [
      "            UBS_CHINA_EQUITY_FUND\n",
      "date                             \n",
      "10.08.2018                  17862\n",
      "13.08.2018                  17784\n",
      "14.08.2018                  17552\n",
      "15.08.2018                  17424\n",
      "16.08.2018                  17015\n",
      "17.08.2018                  16797\n",
      "20.08.2018                  16640\n",
      "21.08.2018                  16840\n",
      "22.08.2018                  17088\n",
      "23.08.2018                  17247\n"
     ]
    }
   ],
   "source": [
    "data = pd.read_csv(r'Data/ToF_2021_PS5-data-1.csv', delimiter = ';', index_col = 'date')\n",
    "print(data.head(n = 10))"
   ]
  },
  {
   "cell_type": "code",
   "execution_count": 17,
   "metadata": {},
   "outputs": [],
   "source": [
    "# Exogenous Variables\n",
    "n = 3\n",
    "S_0 = 1000000\n",
    "rf_rate = -0.0076\n",
    "performance_fee = 0.1\n",
    "binomial_step = 1\n",
    "months_per_year = 12\n",
    "days_per_year = 252"
   ]
  },
  {
   "cell_type": "markdown",
   "metadata": {},
   "source": [
    "### a)"
   ]
  },
  {
   "cell_type": "code",
   "execution_count": 16,
   "metadata": {},
   "outputs": [
    {
     "name": "stdout",
     "output_type": "stream",
     "text": [
      "              Return  Log Return\n",
      "date                            \n",
      "10.08.2018       NaN         NaN\n",
      "13.08.2018 -0.004367   -0.004376\n",
      "14.08.2018 -0.013045   -0.013131\n",
      "15.08.2018 -0.007293   -0.007319\n",
      "16.08.2018 -0.023473   -0.023753\n",
      "17.08.2018 -0.012812   -0.012895\n",
      "20.08.2018 -0.009347   -0.009391\n",
      "21.08.2018  0.012019    0.011948\n",
      "22.08.2018  0.014727    0.014619\n",
      "23.08.2018  0.009305    0.009262\n"
     ]
    }
   ],
   "source": [
    "returns = data.pct_change()\n",
    "returns['Log Return'] = np.nan\n",
    "returns.rename(columns = {'UBS_CHINA_EQUITY_FUND': 'Return'}, inplace = True)\n",
    "for i in range(0, len(returns.index)):\n",
    "    returns.iloc[i, 1] = np.log(1 + returns.iloc[i, 0])\n",
    "print(returns.head(n=10))"
   ]
  },
  {
   "cell_type": "code",
   "execution_count": 25,
   "metadata": {},
   "outputs": [
    {
     "name": "stdout",
     "output_type": "stream",
     "text": [
      "Annualized Mean: 4.21%\n",
      "Annualized Standard Deviation: 21.93%\n",
      "Up-Factor: 124.52%\n",
      "Down-Factor: 80.31%\n"
     ]
    }
   ],
   "source": [
    "annualized_mean = days_per_year * returns['Log Return'].mean()\n",
    "annualized_std = days_per_year**0.5 * returns['Log Return'].std()\n",
    "u = np.exp(annualized_std)\n",
    "d = np.exp(-annualized_std)\n",
    "print(f'Annualized Mean: {round(annualized_mean * 100, 2)}%')\n",
    "print(f'Annualized Standard Deviation: {round(annualized_std * 100, 2)}%')\n",
    "print(f'Up-Factor: {round(u * 100, 2)}%')\n",
    "print(f'Down-Factor: {round(d * 100, 2)}%')"
   ]
  },
  {
   "cell_type": "markdown",
   "metadata": {},
   "source": [
    "### b)"
   ]
  },
  {
   "cell_type": "code",
   "execution_count": 45,
   "metadata": {},
   "outputs": [
    {
     "name": "stdout",
     "output_type": "stream",
     "text": [
      "Upward Probability: 50.0381%\n",
      "Downward Probability: 49.9619%\n"
     ]
    }
   ],
   "source": [
    "q = (annualized_mean*(1/days_per_year) - np.log(d)) / (np.log(u) - np.log(d))\n",
    "print(f'Upward Probability: {round(q*100, 4)}%')\n",
    "print(f'Downward Probability: {100-round(q*100, 4)}%')"
   ]
  },
  {
   "cell_type": "code",
   "execution_count": 39,
   "metadata": {},
   "outputs": [],
   "source": [
    "# Period 0\n",
    "S_0 = 1000000\n",
    "# Period 1\n",
    "S_1_up = S_0 * u\n",
    "S_1_down = S_0 * d\n",
    "# Period 2\n",
    "S_2_up_up = S_1_up * u\n",
    "S_2_up_down = S_1_up * d\n",
    "S_2_down_up = S_1_down * u\n",
    "S_2_down_down = S_1_down * d\n",
    "# Period 3\n",
    "S_3_up_up_up = S_2_up_up * u\n",
    "S_3_up_up_down = S_2_up_up * d\n",
    "S_3_up_down_up = S_2_up_down * u\n",
    "S_3_up_down_down = S_2_up_down * d\n",
    "S_3_down_up_up = S_2_down_up * u\n",
    "S_3_down_up_down = S_2_down_up * d\n",
    "S_3_down_down_up = S_2_down_down * u\n",
    "S_3_down_down_down = S_2_down_down * d"
   ]
  },
  {
   "cell_type": "code",
   "execution_count": 41,
   "metadata": {},
   "outputs": [
    {
     "name": "stdout",
     "output_type": "stream",
     "text": [
      "S0: 1000000\n",
      "S1 (U): 1245219.52\n",
      "S1 (D): 803071.25\n",
      "S2 (UU): 1550571.65\n",
      "S2 (UD): 1000000.0\n",
      "S2 (DU): 1000000.0\n",
      "S2 (DD): 644923.44\n",
      "S3 (UUU): 1930802.08\n",
      "S3 (UUD): 1245219.52\n",
      "S3 (UDU): 1245219.52\n",
      "S3 (UDD): 803071.25\n",
      "S3 (DUU): 1245219.52\n",
      "S3 (DUD): 803071.25\n",
      "S3 (DDU): 803071.25\n",
      "S3 (DDD): 517919.47\n"
     ]
    }
   ],
   "source": [
    "# Period 0\n",
    "print(f'S0: {round(S_0, 2)}')\n",
    "# Period 1\n",
    "print(f'S1 (U): {round(S_1_up, 2)}')\n",
    "print(f'S1 (D): {round(S_1_down, 2)}')\n",
    "# Period 2\n",
    "print(f'S2 (UU): {round(S_2_up_up, 2)}')\n",
    "print(f'S2 (UD): {round(S_2_up_down, 2)}')\n",
    "print(f'S2 (DU): {round(S_2_down_up, 2)}')\n",
    "print(f'S2 (DD): {round(S_2_down_down, 2)}')\n",
    "# Period 3\n",
    "print(f'S3 (UUU): {round(S_3_up_up_up, 2)}')\n",
    "print(f'S3 (UUD): {round(S_3_up_up_down, 2)}')\n",
    "print(f'S3 (UDU): {round(S_3_up_down_up, 2)}')\n",
    "print(f'S3 (UDD): {round(S_3_up_down_down, 2)}')\n",
    "print(f'S3 (DUU): {round(S_3_down_up_up, 2)}')\n",
    "print(f'S3 (DUD): {round(S_3_down_up_down, 2)}')\n",
    "print(f'S3 (DDU): {round(S_3_down_down_up, 2)}')\n",
    "print(f'S3 (DDD): {round(S_3_down_down_down, 2)}')"
   ]
  },
  {
   "cell_type": "markdown",
   "metadata": {},
   "source": [
    "### c)"
   ]
  },
  {
   "cell_type": "code",
   "execution_count": 53,
   "metadata": {},
   "outputs": [
    {
     "name": "stdout",
     "output_type": "stream",
     "text": [
      "Expected NPV of CFs in Period 1: 12177.77\n"
     ]
    }
   ],
   "source": [
    "# Period 1\n",
    "NPV_1 = 0\n",
    "if S_1_up > S_0:\n",
    "    NPV_1 += 1/(1-rf_rate) * q * (S_1_up-S_0) * 0.1\n",
    "if S_1_down > S_0:\n",
    "    NPV_1 += 1/(1-rf_rate) * (1-q) * (S_1_down-S_0) * 0.1\n",
    "print(f'Expected NPV of CFs in Period 1: {round(NPV_1, 2)}')"
   ]
  },
  {
   "cell_type": "code",
   "execution_count": 54,
   "metadata": {},
   "outputs": [
    {
     "name": "stdout",
     "output_type": "stream",
     "text": [
      "Expected NPV of CFs in Period 2: 7530.55\n"
     ]
    }
   ],
   "source": [
    "# Period 2\n",
    "NPV_2 = 0\n",
    "if S_2_up_up > S_1_up:\n",
    "    NPV_2 += 1/(1-rf_rate)**2 * q**2 * (S_2_up_up-S_1_up) * 0.1\n",
    "if S_2_up_down > S_1_up:\n",
    "    NPV_2 += 1/(1-rf_rate)**2 * q * (1-q) * (S_2_up_down-S_1_up) * 0.1\n",
    "if S_2_down_up > S_0:\n",
    "    NPV_2 += 1/(1-rf_rate)**2 * q * (1-q) * (S_2_down_up-S_1_down) * 0.1\n",
    "if S_2_down_down > S_0:\n",
    "    NPV_2 += 1/(1-rf_rate)**2 * (1-q)**2 * (S_2_down_down-S_1_down) * 0.1\n",
    "print(f'Expected NPV of CFs in Period 2: {round(NPV_2, 2)}')"
   ]
  },
  {
   "cell_type": "code",
   "execution_count": 55,
   "metadata": {},
   "outputs": [
    {
     "name": "stdout",
     "output_type": "stream",
     "text": [
      "Expected NPV of CFs in Period 3: 7655.46\n"
     ]
    }
   ],
   "source": [
    "# Period 2\n",
    "NPV_3 = 0\n",
    "if S_3_up_up_up > S_2_up_up:\n",
    "    NPV_3 += 1/(1-rf_rate)**3 * q**3 * (S_3_up_up_up-S_2_up_up) * 0.1\n",
    "if S_3_up_up_down > S_2_up_up:\n",
    "    NPV_3 += 1/(1-rf_rate)**3 * q**2 * (1-q) * (S_3_up_up_down-S_2_up_up) * 0.1\n",
    "if S_3_up_down_up > S_1_up:\n",
    "    NPV_3 += 1/(1-rf_rate)**3 * q * (1-q) * q * (S_3_up_down_up-S_2_up_down) * 0.1\n",
    "if S_3_up_down_down > S_1_up:\n",
    "    NPV_3 += 1/(1-rf_rate)**3 * q * (1-q) * (1-q) * (S_3_up_down_down-S_2_up_down) * 0.1\n",
    "if S_3_down_up_up > S_2_down_up:\n",
    "    NPV_3 += 1/(1-rf_rate)**3 * (1-q) * q**2 * (S_3_down_up_up-S_2_down_up) * 0.1\n",
    "if S_3_down_up_down > S_2_down_up:\n",
    "    NPV_3 += 1/(1-rf_rate)**3 * (1-q) * q * (1-q) * (S_3_down_up_down-S_2_down_up) * 0.1\n",
    "if S_3_down_down_up > S_0:\n",
    "    NPV_3 += 1/(1-rf_rate)**3 * (1-q)**2 * q * (S_3_down_down_up-S_2_down_down) * 0.1\n",
    "if S_3_down_down_down > S_0:\n",
    "    NPV_3 += 1/(1-rf_rate)**3 * (1-q)**3 * (S_3_down_down_down-S_2_down_down) * 0.1\n",
    "print(f'Expected NPV of CFs in Period 3: {round(NPV_3, 2)}')"
   ]
  },
  {
   "cell_type": "markdown",
   "metadata": {},
   "source": [
    "### d)"
   ]
  },
  {
   "cell_type": "code",
   "execution_count": 56,
   "metadata": {},
   "outputs": [
    {
     "name": "stdout",
     "output_type": "stream",
     "text": [
      "Expected Utility from CFs in Period 1: 5281.64\n",
      "Expected Utility from CFs in Period 2: 3426.9\n",
      "Expected Utility from CFs in Period 3: 3478.02\n"
     ]
    }
   ],
   "source": [
    "k = 0.1\n",
    "utility_1 = NPV_1**(1-k) / (1-k)\n",
    "utility_2 = NPV_2**(1-k) / (1-k)\n",
    "utility_3 = NPV_3**(1-k) / (1-k)\n",
    "print(f'Expected Utility from CFs in Period 1: {round(utility_1, 2)}')\n",
    "print(f'Expected Utility from CFs in Period 2: {round(utility_2, 2)}')\n",
    "print(f'Expected Utility from CFs in Period 3: {round(utility_3, 2)}')"
   ]
  },
  {
   "cell_type": "markdown",
   "metadata": {},
   "source": [
    "### e)"
   ]
  },
  {
   "cell_type": "code",
   "execution_count": 66,
   "metadata": {},
   "outputs": [
    {
     "name": "stdout",
     "output_type": "stream",
     "text": [
      "Utility-Indifferent Fixed Annual Coupon: 10122.08\n"
     ]
    }
   ],
   "source": [
    "c = Symbol('c')\n",
    "coupon = solve((1/(1+rf_rate) * c + 1/(1+rf_rate)**2 * c + 1/(1+rf_rate)**3 * c)**(1-k) / (1-k) - utility_1 - utility_2 - utility_3, c)[0]\n",
    "print(f'Utility-Indifferent Fixed Annual Coupon: {round(coupon, 2)}')"
   ]
  },
  {
   "cell_type": "markdown",
   "metadata": {},
   "source": [
    "### f)"
   ]
  },
  {
   "cell_type": "markdown",
   "metadata": {},
   "source": [
    "see solution sheet"
   ]
  }
 ],
 "metadata": {
  "kernelspec": {
   "display_name": "Python 3",
   "language": "python",
   "name": "python3"
  },
  "language_info": {
   "codemirror_mode": {
    "name": "ipython",
    "version": 3
   },
   "file_extension": ".py",
   "mimetype": "text/x-python",
   "name": "python",
   "nbconvert_exporter": "python",
   "pygments_lexer": "ipython3",
   "version": "3.7.6"
  }
 },
 "nbformat": 4,
 "nbformat_minor": 4
}
