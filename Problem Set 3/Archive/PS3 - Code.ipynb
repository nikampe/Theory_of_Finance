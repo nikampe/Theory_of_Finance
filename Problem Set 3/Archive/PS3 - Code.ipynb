{
 "cells": [
  {
   "cell_type": "markdown",
   "metadata": {},
   "source": [
    "# Problem Set 2: Asset Pricing Models & Portfolio Choice"
   ]
  },
  {
   "cell_type": "markdown",
   "metadata": {},
   "source": [
    "## Task 1: Analyzing Beta Sorted Portfolios"
   ]
  },
  {
   "cell_type": "markdown",
   "metadata": {},
   "source": [
    "### a)"
   ]
  },
  {
   "cell_type": "code",
   "execution_count": 54,
   "metadata": {},
   "outputs": [],
   "source": [
    "import pandas as pd\n",
    "import numpy as np\n",
    "from scipy.stats import norm, kurtosis, skew\n",
    "import matplotlib.pyplot as plt\n",
    "import statsmodels.api as sm\n",
    "import datetime as dt\n",
    "from dateutil.relativedelta import relativedelta"
   ]
  },
  {
   "cell_type": "code",
   "execution_count": 55,
   "metadata": {},
   "outputs": [
    {
     "name": "stdout",
     "output_type": "stream",
     "text": [
      "             beta1   beta2   beta3   beta4   beta5   beta6   beta7   beta8  \\\n",
      "date                                                                         \n",
      "1963-07-01  0.0135  0.0077  0.0008 -0.0024 -0.0069 -0.0120 -0.0049 -0.0139   \n",
      "1963-08-01  0.0352  0.0389  0.0429  0.0525  0.0523  0.0755  0.0757  0.0491   \n",
      "1963-09-01 -0.0309 -0.0224 -0.0054 -0.0097 -0.0137 -0.0027 -0.0063 -0.0100   \n",
      "1963-10-01  0.0125 -0.0012  0.0200  0.0512  0.0232  0.0178  0.0663  0.0478   \n",
      "1963-11-01 -0.0091 -0.0015  0.0160 -0.0205 -0.0094 -0.0069 -0.0132 -0.0051   \n",
      "\n",
      "             beta9  beta10  \n",
      "date                        \n",
      "1963-07-01 -0.0194 -0.0077  \n",
      "1963-08-01  0.0904  0.1047  \n",
      "1963-09-01 -0.0192 -0.0368  \n",
      "1963-10-01  0.0310  0.0301  \n",
      "1963-11-01 -0.0020  0.0052  \n",
      "            Mkt_RF     SMB     HML     RMW     CMA      RF\n",
      "date                                                      \n",
      "1963-07-01 -0.0039 -0.0045 -0.0094  0.0066 -0.0115  0.0027\n",
      "1963-08-01  0.0507 -0.0082  0.0182  0.0040 -0.0040  0.0025\n",
      "1963-09-01 -0.0157 -0.0048  0.0017 -0.0076  0.0024  0.0027\n",
      "1963-10-01  0.0253 -0.0130 -0.0004  0.0275 -0.0224  0.0029\n",
      "1963-11-01 -0.0085 -0.0085  0.0170 -0.0045  0.0222  0.0027\n"
     ]
    }
   ],
   "source": [
    "data_beta = pd.read_csv(r'ToF_2021_data_PS-3_beta_pf.csv', delimiter=';', header=0, index_col = 0)\n",
    "data_beta.index = pd.to_datetime(data_beta.index, format='%Y%m')\n",
    "#print(data_beta.index)\n",
    "print(data_beta.head(n = 5))\n",
    "#data_beta.set_index('date', drop = True, inplace = True)\n",
    "\n",
    "\n",
    "data_FF = pd.read_csv(r'ToF_2021_data_PS-3_FF.csv', delimiter=';', index_col = 0)\n",
    "data_FF.index = pd.to_datetime(data_FF.index, format='%Y%m')\n",
    "#data_FF.set_index('date', drop = True, inplace = True)\n",
    "print(data_FF.head(n = 5))"
   ]
  },
  {
   "cell_type": "code",
   "execution_count": 56,
   "metadata": {},
   "outputs": [
    {
     "name": "stdout",
     "output_type": "stream",
     "text": [
      "                         beta1     beta2     beta3     beta4     beta5  \\\n",
      "Annual_Mean_Return    0.112186  0.109293  0.118481  0.130431  0.118619   \n",
      "Annual_Std            0.119012  0.131352  0.140925  0.158933  0.165454   \n",
      "Annual_Excess_Return  0.070293  0.067296  0.076812  0.089189  0.076955   \n",
      "Annual_Excess_Std     0.119012  0.131352  0.140925  0.158933  0.165454   \n",
      "Annual_Sharpe_Ratio   0.590637  0.512338  0.545061  0.561174  0.465116   \n",
      "\n",
      "                         beta6     beta7     beta8     beta9    beta10  \n",
      "Annual_Mean_Return    0.128726  0.114752  0.137202  0.126393  0.133314  \n",
      "Annual_Std            0.178226  0.189436  0.208976   0.23108  0.273389  \n",
      "Annual_Excess_Return  0.087423   0.07295  0.096202  0.085007  0.092175  \n",
      "Annual_Excess_Std     0.178226  0.189436  0.208976   0.23108  0.273389  \n",
      "Annual_Sharpe_Ratio   0.490519  0.385091  0.460349  0.367868  0.337157  \n"
     ]
    }
   ],
   "source": [
    "rf_adj = data_FF['RF'].to_numpy()\n",
    "statistics = pd.DataFrame(columns = data_beta.columns, index = ['Annual_Mean_Return', 'Annual_Std', 'Annual_Excess_Return', 'Annual_Excess_Std', \"Annual_Sharpe_Ratio\"])\n",
    "for column in data_beta.columns:\n",
    "    returns_adj = data_beta[column].to_numpy()\n",
    "    mean_return = np.mean(returns_adj) * 12\n",
    "    statistics.loc['Annual_Mean_Return', column] = mean_return\n",
    "    std = 12**0.5 * np.std(returns_adj)\n",
    "    statistics.loc['Annual_Std', column] = std\n",
    "    excess_return = np.sum(returns_adj - rf_adj)/56\n",
    "    statistics.loc['Annual_Excess_Return', column] = excess_return\n",
    "    excess_std = np.std(returns_adj)*(12**0.5)\n",
    "    # excess_std = np.std(returns_adj - rf_adj)*(12**0.5)\n",
    "    statistics.loc['Annual_Excess_Std', column] = excess_std\n",
    "    sharpe_ratio = excess_return / excess_std\n",
    "    statistics.loc[\"Annual_Sharpe_Ratio\", column] = sharpe_ratio\n",
    "    \n",
    "print(statistics)\n"
   ]
  },
  {
   "cell_type": "markdown",
   "metadata": {},
   "source": [
    "## b)"
   ]
  },
  {
   "cell_type": "code",
   "execution_count": 57,
   "metadata": {},
   "outputs": [
    {
     "name": "stdout",
     "output_type": "stream",
     "text": [
      "                                 beta1     beta2     beta3     beta4  \\\n",
      "Annual_Mean_Return            0.112186  0.109293  0.118481  0.130431   \n",
      "Annual_Std                    0.119012  0.131352  0.140925  0.158933   \n",
      "Annual_Excess_Return          0.070293  0.067296  0.076812  0.089189   \n",
      "Annual_Excess_Std             0.119012  0.131352  0.140925  0.158933   \n",
      "Annual_Sharpe_Ratio           0.590637  0.512338  0.545061  0.561174   \n",
      "Alpha                         0.005832  0.004859   0.00502  0.005233   \n",
      "Beta                          0.603294  0.728863  0.832628  0.966916   \n",
      "P-Value                            0.0       0.0       0.0       0.0   \n",
      "Coefficient Of Determination  0.610967  0.732085  0.829985  0.880012   \n",
      "\n",
      "                                 beta5     beta6     beta7     beta8  \\\n",
      "Annual_Mean_Return            0.118619  0.128726  0.114752  0.137202   \n",
      "Annual_Std                    0.165454  0.178226  0.189436  0.208976   \n",
      "Annual_Excess_Return          0.076955  0.087423   0.07295  0.096202   \n",
      "Annual_Excess_Std             0.165454  0.178226  0.189436  0.208976   \n",
      "Annual_Sharpe_Ratio           0.465116  0.490519  0.385091  0.460349   \n",
      "Alpha                         0.003969  0.004377  0.002806  0.004049   \n",
      "Beta                          1.014968  1.089392  1.159183  1.266885   \n",
      "P-Value                            0.0       0.0       0.0       0.0   \n",
      "Coefficient Of Determination  0.894725  0.888316  0.890268  0.873824   \n",
      "\n",
      "                                 beta9    beta10  \n",
      "Annual_Mean_Return            0.126393  0.133314  \n",
      "Annual_Std                     0.23108  0.273389  \n",
      "Annual_Excess_Return          0.085007  0.092175  \n",
      "Annual_Excess_Std              0.23108  0.273389  \n",
      "Annual_Sharpe_Ratio           0.367868  0.337157  \n",
      "Alpha                         0.002483  0.001805  \n",
      "Beta                          1.380973  1.596261  \n",
      "P-Value                            0.0       0.0  \n",
      "Coefficient Of Determination  0.849153  0.810565  \n"
     ]
    }
   ],
   "source": [
    "CAPM_Stats = pd.DataFrame(columns = data_beta.columns, index =['Alpha', 'Beta', 'P-Value', 'Coefficient Of Determination'])\n",
    "for column in data_beta.columns:\n",
    "    LR = sm.OLS(data_beta[column].to_numpy(), sm.add_constant(data_FF['Mkt_RF'].to_numpy()))\n",
    "    LR_results = LR.fit()\n",
    "    LR_results.params\n",
    "    CAPM_Stats.loc['Beta', column] = LR_results.params[1]\n",
    "    CAPM_Stats.loc['Alpha', column] = LR_results.params[0]\n",
    "    CAPM_Stats.loc['P-Value', column] = LR_results.pvalues[1]\n",
    "    CAPM_Stats.loc['Coefficient Of Determination', column] = LR_results.rsquared\n",
    "    # print(LR_results.summary())\n",
    "   \n",
    "statistics = pd.concat([statistics, CAPM_Stats])\n",
    "print(statistics)\n"
   ]
  },
  {
   "cell_type": "markdown",
   "metadata": {},
   "source": [
    "## c) Plot the PF's mean returns (y) against estimated betas and indicate the Mkt PF as well as the security market line"
   ]
  },
  {
   "cell_type": "code",
   "execution_count": 58,
   "metadata": {},
   "outputs": [
    {
     "data": {
      "image/png": "[encoded data removed]",
      "text/plain": [
       "<Figure size 432x288 with 1 Axes>"
      ]
     },
     "metadata": {
      "needs_background": "light"
     },
     "output_type": "display_data"
    }
   ],
   "source": [
    "statistics_t = np.transpose(statistics)\n",
    "X = np.array(statistics_t['Beta'], dtype=float)\n",
    "Y = np.array(statistics_t['Annual_Mean_Return'], dtype=float)\n",
    "plt.scatter(X,Y)\n",
    "\n",
    "b, m = np.polyfit(X, Y, 1)\n",
    "\n",
    "plt.plot(X, Y, '.')\n",
    "plt.plot(X, b+m * X, '-', color='Black', label = 'Security Market Line')\n",
    "plt.xlim(xmin=0.59)\n",
    "plt.legend()\n",
    "plt.ylim(ymin=0)\n",
    "\n",
    "plt.title('Problem 1 - Part 1 - Task c)')\n",
    "plt.xlabel('Estimated Betas')\n",
    "plt.ylabel('Annual Mean Returns')\n",
    "plt.show()"
   ]
  },
  {
   "cell_type": "markdown",
   "metadata": {},
   "source": [
    "## d) Plot the PF's Alphas (y) versus betas (x) "
   ]
  },
  {
   "cell_type": "code",
   "execution_count": 59,
   "metadata": {},
   "outputs": [
    {
     "data": {
      "image/png": "[encoded data removed]",
      "text/plain": [
       "<Figure size 432x288 with 1 Axes>"
      ]
     },
     "metadata": {
      "needs_background": "light"
     },
     "output_type": "display_data"
    }
   ],
   "source": [
    "plt.plot(statistics_t['Beta'], statistics_t['Alpha'], 'ro', color='Blue')\n",
    "\n",
    "plt.xlabel('Estimated Betas')\n",
    "plt.ylabel('Estimated Alphas')\n",
    "\n",
    "plt.title('Problem 1 - Part 1 - Task d)')\n",
    "plt.show()"
   ]
  },
  {
   "cell_type": "markdown",
   "metadata": {},
   "source": [
    "## e) Plot the Regression R2 (y) against the PF's betas (x)"
   ]
  },
  {
   "cell_type": "code",
   "execution_count": 61,
   "metadata": {},
   "outputs": [
    {
     "data": {
      "image/png": "[encoded data removed]",
      "text/plain": [
       "<Figure size 432x288 with 1 Axes>"
      ]
     },
     "metadata": {
      "needs_background": "light"
     },
     "output_type": "display_data"
    }
   ],
   "source": [
    "plt.plot(statistics_t['Beta'], statistics_t['Coefficient Of Determination'], 'ro', color='Blue')\n",
    "\n",
    "plt.xlabel('Estimated Betas')\n",
    "plt.ylabel('Estimated R^2')\n",
    "\n",
    "plt.title('Problem 1 - Part 1 - Task e)')\n",
    "plt.show()\n"
   ]
  }
 ],
 "metadata": {
  "kernelspec": {
   "display_name": "Python 3",
   "language": "python",
   "name": "python3"
  },
  "language_info": {
   "codemirror_mode": {
    "name": "ipython",
    "version": 3
   },
   "file_extension": ".py",
   "mimetype": "text/x-python",
   "name": "python",
   "nbconvert_exporter": "python",
   "pygments_lexer": "ipython3",
   "version": "3.7.6"
  }
 },
 "nbformat": 4,
 "nbformat_minor": 4
}
