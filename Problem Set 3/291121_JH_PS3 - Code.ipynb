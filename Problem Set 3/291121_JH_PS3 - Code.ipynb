{
 "cells": [
  {
   "cell_type": "markdown",
   "metadata": {},
   "source": [
    "# Problem Set 2: Asset Pricing Models & Portfolio Choice"
   ]
  },
  {
   "cell_type": "markdown",
   "metadata": {},
   "source": [
    "## Task 1: Analyzing Beta Sorted Portfolios"
   ]
  },
  {
   "cell_type": "markdown",
   "metadata": {},
   "source": [
    "### a)"
   ]
  },
  {
   "cell_type": "code",
   "execution_count": 1,
   "metadata": {},
   "outputs": [],
   "source": [
    "import pandas as pd\n",
    "import numpy as np\n",
    "from scipy.stats import norm, kurtosis, skew\n",
    "import matplotlib.pyplot as plt\n",
    "import statsmodels.api as sm\n",
    "import datetime as dt\n",
    "from dateutil.relativedelta import relativedelta\n",
    "from sklearn.linear_model import LinearRegression"
   ]
  },
  {
   "cell_type": "code",
   "execution_count": 2,
   "metadata": {},
   "outputs": [
    {
     "name": "stdout",
     "output_type": "stream",
     "text": [
      "             beta1   beta2   beta3   beta4   beta5   beta6   beta7   beta8  \\\n",
      "date                                                                         \n",
      "1963-07-01  0.0135  0.0077  0.0008 -0.0024 -0.0069 -0.0120 -0.0049 -0.0139   \n",
      "1963-08-01  0.0352  0.0389  0.0429  0.0525  0.0523  0.0755  0.0757  0.0491   \n",
      "1963-09-01 -0.0309 -0.0224 -0.0054 -0.0097 -0.0137 -0.0027 -0.0063 -0.0100   \n",
      "1963-10-01  0.0125 -0.0012  0.0200  0.0512  0.0232  0.0178  0.0663  0.0478   \n",
      "1963-11-01 -0.0091 -0.0015  0.0160 -0.0205 -0.0094 -0.0069 -0.0132 -0.0051   \n",
      "\n",
      "             beta9  beta10  \n",
      "date                        \n",
      "1963-07-01 -0.0194 -0.0077  \n",
      "1963-08-01  0.0904  0.1047  \n",
      "1963-09-01 -0.0192 -0.0368  \n",
      "1963-10-01  0.0310  0.0301  \n",
      "1963-11-01 -0.0020  0.0052  \n",
      "            Mkt_RF     SMB     HML     RMW     CMA      RF\n",
      "date                                                      \n",
      "1963-07-01 -0.0039 -0.0045 -0.0094  0.0066 -0.0115  0.0027\n",
      "1963-08-01  0.0507 -0.0082  0.0182  0.0040 -0.0040  0.0025\n",
      "1963-09-01 -0.0157 -0.0048  0.0017 -0.0076  0.0024  0.0027\n",
      "1963-10-01  0.0253 -0.0130 -0.0004  0.0275 -0.0224  0.0029\n",
      "1963-11-01 -0.0085 -0.0085  0.0170 -0.0045  0.0222  0.0027\n"
     ]
    }
   ],
   "source": [
    "data_beta = pd.read_csv(r'ToF_2021_data_PS-3_beta_pf.csv', delimiter=';', header=0, index_col = 0)\n",
    "data_beta.index = pd.to_datetime(data_beta.index, format='%Y%m')\n",
    "#print(data_beta.index)\n",
    "print(data_beta.head(n = 5))\n",
    "#data_beta.set_index('date', drop = True, inplace = True)\n",
    "\n",
    "\n",
    "data_FF = pd.read_csv(r'ToF_2021_data_PS-3_FF.csv', delimiter=';', index_col = 0)\n",
    "data_FF.index = pd.to_datetime(data_FF.index, format='%Y%m')\n",
    "#data_FF.set_index('date', drop = True, inplace = True)\n",
    "print(data_FF.head(n = 5))"
   ]
  },
  {
   "cell_type": "code",
   "execution_count": 3,
   "metadata": {},
   "outputs": [
    {
     "name": "stdout",
     "output_type": "stream",
     "text": [
      "                         beta1     beta2     beta3     beta4     beta5  \\\n",
      "Annual_Mean_Return    0.112186  0.109293  0.118481  0.130431  0.118619   \n",
      "Annual_Std            0.119012  0.131352  0.140925  0.158933  0.165454   \n",
      "Annual_Excess_Return  0.070293  0.067296  0.076812  0.089189  0.076955   \n",
      "Annual_Excess_Std     0.119012  0.131352  0.140925  0.158933  0.165454   \n",
      "Annual_Sharpe_Ratio   0.590637  0.512338  0.545061  0.561174  0.465116   \n",
      "\n",
      "                         beta6     beta7     beta8     beta9    beta10  \n",
      "Annual_Mean_Return    0.128726  0.114752  0.137202  0.126393  0.133314  \n",
      "Annual_Std            0.178226  0.189436  0.208976   0.23108  0.273389  \n",
      "Annual_Excess_Return  0.087423   0.07295  0.096202  0.085007  0.092175  \n",
      "Annual_Excess_Std     0.178226  0.189436  0.208976   0.23108  0.273389  \n",
      "Annual_Sharpe_Ratio   0.490519  0.385091  0.460349  0.367868  0.337157  \n"
     ]
    }
   ],
   "source": [
    "rf_adj = data_FF['RF'].to_numpy()\n",
    "statistics = pd.DataFrame(columns = data_beta.columns, index = ['Annual_Mean_Return', 'Annual_Std', 'Annual_Excess_Return', 'Annual_Excess_Std', \"Annual_Sharpe_Ratio\"])\n",
    "for column in data_beta.columns:\n",
    "    returns_adj = data_beta[column].to_numpy()\n",
    "    mean_return = np.mean(returns_adj) * 12\n",
    "    statistics.loc['Annual_Mean_Return', column] = mean_return\n",
    "    std = 12**0.5 * np.std(returns_adj)\n",
    "    statistics.loc['Annual_Std', column] = std\n",
    "    excess_return = np.sum(returns_adj - rf_adj)/56\n",
    "    statistics.loc['Annual_Excess_Return', column] = excess_return\n",
    "    excess_std = np.std(returns_adj)*(12**0.5)\n",
    "    # excess_std = np.std(returns_adj - rf_adj)*(12**0.5)\n",
    "    statistics.loc['Annual_Excess_Std', column] = excess_std\n",
    "    sharpe_ratio = excess_return / excess_std\n",
    "    statistics.loc[\"Annual_Sharpe_Ratio\", column] = sharpe_ratio\n",
    "    \n",
    "print(statistics)\n"
   ]
  },
  {
   "cell_type": "markdown",
   "metadata": {},
   "source": [
    "## b)"
   ]
  },
  {
   "cell_type": "code",
   "execution_count": 4,
   "metadata": {},
   "outputs": [
    {
     "name": "stdout",
     "output_type": "stream",
     "text": [
      "                                 beta1     beta2     beta3     beta4  \\\n",
      "Annual_Mean_Return            0.112186  0.109293  0.118481  0.130431   \n",
      "Annual_Std                    0.119012  0.131352  0.140925  0.158933   \n",
      "Annual_Excess_Return          0.070293  0.067296  0.076812  0.089189   \n",
      "Annual_Excess_Std             0.119012  0.131352  0.140925  0.158933   \n",
      "Annual_Sharpe_Ratio           0.590637  0.512338  0.545061  0.561174   \n",
      "Alpha                         0.005832  0.004859   0.00502  0.005233   \n",
      "Beta                          0.603294  0.728863  0.832628  0.966916   \n",
      "P-Value                            0.0       0.0       0.0       0.0   \n",
      "Coefficient Of Determination  0.610967  0.732085  0.829985  0.880012   \n",
      "\n",
      "                                 beta5     beta6     beta7     beta8  \\\n",
      "Annual_Mean_Return            0.118619  0.128726  0.114752  0.137202   \n",
      "Annual_Std                    0.165454  0.178226  0.189436  0.208976   \n",
      "Annual_Excess_Return          0.076955  0.087423   0.07295  0.096202   \n",
      "Annual_Excess_Std             0.165454  0.178226  0.189436  0.208976   \n",
      "Annual_Sharpe_Ratio           0.465116  0.490519  0.385091  0.460349   \n",
      "Alpha                         0.003969  0.004377  0.002806  0.004049   \n",
      "Beta                          1.014968  1.089392  1.159183  1.266885   \n",
      "P-Value                            0.0       0.0       0.0       0.0   \n",
      "Coefficient Of Determination  0.894725  0.888316  0.890268  0.873824   \n",
      "\n",
      "                                 beta9    beta10  \n",
      "Annual_Mean_Return            0.126393  0.133314  \n",
      "Annual_Std                     0.23108  0.273389  \n",
      "Annual_Excess_Return          0.085007  0.092175  \n",
      "Annual_Excess_Std              0.23108  0.273389  \n",
      "Annual_Sharpe_Ratio           0.367868  0.337157  \n",
      "Alpha                         0.002483  0.001805  \n",
      "Beta                          1.380973  1.596261  \n",
      "P-Value                            0.0       0.0  \n",
      "Coefficient Of Determination  0.849153  0.810565  \n"
     ]
    }
   ],
   "source": [
    "CAPM_Stats = pd.DataFrame(columns = data_beta.columns, index =['Alpha', 'Beta', 'P-Value', 'Coefficient Of Determination'])\n",
    "for column in data_beta.columns:\n",
    "    LR = sm.OLS(data_beta[column].to_numpy(), sm.add_constant(data_FF['Mkt_RF'].to_numpy()))\n",
    "    LR_results = LR.fit()\n",
    "    LR_results.params\n",
    "    CAPM_Stats.loc['Beta', column] = LR_results.params[1]\n",
    "    CAPM_Stats.loc['Alpha', column] = LR_results.params[0]\n",
    "    CAPM_Stats.loc['P-Value', column] = LR_results.pvalues[1]\n",
    "    CAPM_Stats.loc['Coefficient Of Determination', column] = LR_results.rsquared\n",
    "    # print(LR_results.summary())\n",
    "   \n",
    "statistics = pd.concat([statistics, CAPM_Stats])\n",
    "print(statistics)\n"
   ]
  },
  {
   "cell_type": "markdown",
   "metadata": {},
   "source": [
    "## c) Plot the PF's mean returns (y) against estimated betas and indicate the Mkt PF as well as the security market line"
   ]
  },
  {
   "cell_type": "code",
   "execution_count": 5,
   "metadata": {},
   "outputs": [
    {
     "data": {
      "image/png": "[encoded data removed]",
      "text/plain": [
       "<Figure size 432x288 with 1 Axes>"
      ]
     },
     "metadata": {
      "needs_background": "light"
     },
     "output_type": "display_data"
    }
   ],
   "source": [
    "statistics_t = np.transpose(statistics)\n",
    "X = np.array(statistics_t['Beta'], dtype=float)\n",
    "Y = np.array(statistics_t['Annual_Mean_Return'], dtype=float)\n",
    "plt.scatter(X,Y)\n",
    "\n",
    "b, m = np.polyfit(X, Y, 1)\n",
    "\n",
    "plt.plot(X, Y, '.')\n",
    "plt.plot(X, b+m * X, '-', color='Black', label = 'Security Market Line')\n",
    "plt.xlim(xmin=0.59)\n",
    "plt.legend()\n",
    "plt.ylim(ymin=0)\n",
    "\n",
    "plt.title('Problem 1 - Part 1 - Task c)')\n",
    "plt.xlabel('Estimated Betas')\n",
    "plt.ylabel('Annual Mean Returns')\n",
    "plt.show()"
   ]
  },
  {
   "cell_type": "code",
   "execution_count": 6,
   "metadata": {},
   "outputs": [
    {
     "data": {
      "image/png": "[encoded data removed]",
      "text/plain": [
       "<Figure size 432x288 with 1 Axes>"
      ]
     },
     "metadata": {
      "needs_background": "light"
     },
     "output_type": "display_data"
    }
   ],
   "source": [
    "plt.plot(statistics_t['Beta'], statistics_t['Alpha'], 'ro', color='Blue')\n",
    "\n",
    "plt.xlabel('Estimated Betas')\n",
    "plt.ylabel('Estimated Alphas')\n",
    "\n",
    "plt.title('Problem 1 - Part 1 - Task d)')\n",
    "plt.show()"
   ]
  },
  {
   "cell_type": "markdown",
   "metadata": {},
   "source": [
    "## e) Plot the Regression R2 (y) against the PF's betas (x)"
   ]
  },
  {
   "cell_type": "code",
   "execution_count": 7,
   "metadata": {},
   "outputs": [
    {
     "data": {
      "image/png": "[encoded data removed]",
      "text/plain": [
       "<Figure size 432x288 with 1 Axes>"
      ]
     },
     "metadata": {
      "needs_background": "light"
     },
     "output_type": "display_data"
    }
   ],
   "source": [
    "plt.plot(statistics_t['Beta'], statistics_t['Coefficient Of Determination'], 'ro', color='Blue')\n",
    "\n",
    "plt.xlabel('Estimated Betas')\n",
    "plt.ylabel('Estimated R^2')\n",
    "\n",
    "plt.title('Problem 1 - Part 1 - Task e)')\n",
    "plt.show()\n"
   ]
  },
  {
   "cell_type": "markdown",
   "metadata": {},
   "source": [
    "## Problem 1, part II:"
   ]
  },
  {
   "cell_type": "markdown",
   "metadata": {},
   "source": [
    "### f) market neutral porfolio, weight of long position, log-price plot"
   ]
  },
  {
   "cell_type": "code",
   "execution_count": 8,
   "metadata": {},
   "outputs": [
    {
     "name": "stdout",
     "output_type": "stream",
     "text": [
      "2.6459095299160884\n"
     ]
    },
    {
     "data": {
      "text/html": [
       "<div>\n",
       "<style scoped>\n",
       "    .dataframe tbody tr th:only-of-type {\n",
       "        vertical-align: middle;\n",
       "    }\n",
       "\n",
       "    .dataframe tbody tr th {\n",
       "        vertical-align: top;\n",
       "    }\n",
       "\n",
       "    .dataframe thead th {\n",
       "        text-align: right;\n",
       "    }\n",
       "</style>\n",
       "<table border=\"1\" class=\"dataframe\">\n",
       "  <thead>\n",
       "    <tr style=\"text-align: right;\">\n",
       "      <th></th>\n",
       "      <th>0</th>\n",
       "    </tr>\n",
       "    <tr>\n",
       "      <th>date</th>\n",
       "      <th></th>\n",
       "    </tr>\n",
       "  </thead>\n",
       "  <tbody>\n",
       "    <tr>\n",
       "      <th>1963-07-01</th>\n",
       "      <td>0.043420</td>\n",
       "    </tr>\n",
       "    <tr>\n",
       "      <th>1963-08-01</th>\n",
       "      <td>-0.011564</td>\n",
       "    </tr>\n",
       "    <tr>\n",
       "      <th>1963-09-01</th>\n",
       "      <td>-0.044959</td>\n",
       "    </tr>\n",
       "    <tr>\n",
       "      <th>1963-10-01</th>\n",
       "      <td>0.002974</td>\n",
       "    </tr>\n",
       "    <tr>\n",
       "      <th>1963-11-01</th>\n",
       "      <td>-0.029278</td>\n",
       "    </tr>\n",
       "    <tr>\n",
       "      <th>...</th>\n",
       "      <td>...</td>\n",
       "    </tr>\n",
       "    <tr>\n",
       "      <th>2021-02-01</th>\n",
       "      <td>-0.168220</td>\n",
       "    </tr>\n",
       "    <tr>\n",
       "      <th>2021-03-01</th>\n",
       "      <td>0.228555</td>\n",
       "    </tr>\n",
       "    <tr>\n",
       "      <th>2021-04-01</th>\n",
       "      <td>0.003464</td>\n",
       "    </tr>\n",
       "    <tr>\n",
       "      <th>2021-05-01</th>\n",
       "      <td>0.082701</td>\n",
       "    </tr>\n",
       "    <tr>\n",
       "      <th>2021-06-01</th>\n",
       "      <td>-0.075612</td>\n",
       "    </tr>\n",
       "  </tbody>\n",
       "</table>\n",
       "<p>696 rows × 1 columns</p>\n",
       "</div>"
      ],
      "text/plain": [
       "                   0\n",
       "date                \n",
       "1963-07-01  0.043420\n",
       "1963-08-01 -0.011564\n",
       "1963-09-01 -0.044959\n",
       "1963-10-01  0.002974\n",
       "1963-11-01 -0.029278\n",
       "...              ...\n",
       "2021-02-01 -0.168220\n",
       "2021-03-01  0.228555\n",
       "2021-04-01  0.003464\n",
       "2021-05-01  0.082701\n",
       "2021-06-01 -0.075612\n",
       "\n",
       "[696 rows x 1 columns]"
      ]
     },
     "execution_count": 8,
     "metadata": {},
     "output_type": "execute_result"
    }
   ],
   "source": [
    "#X = np.array(statistics_t['Beta'], dtype=float)\n",
    "#print(X)\n",
    "#print(statistics_t['Beta'].iloc[0])\n",
    "#print(statistics_t['Beta'].iloc[9])\n",
    "weight_beta1 = statistics_t['Beta'].iloc[9]/statistics_t['Beta'].iloc[0]\n",
    "weight_beta10 = -1\n",
    "print(weight_beta1)\n",
    "# w = [weight_beta1, -1]\n",
    "# print(w)\n",
    "#print(data_beta.head)\n",
    "# beta_weighted_returns = (w * data_beta[['beta1','beta10']])\n",
    "ret_mkt_neutral_portfolio = weight_beta1 * data_beta['beta1'] + weight_beta10 * data_beta['beta10']\n",
    "# ret_mkt_neutral_portfolio = beta_weighted_returns['beta1'] + beta_weighted_returns['beta10']\n",
    "ret_mkt_neutral_portfolio = pd.DataFrame(ret_mkt_neutral_portfolio)\n",
    "ret_mkt_neutral_portfolio\n",
    "\n"
   ]
  },
  {
   "cell_type": "code",
   "execution_count": 9,
   "metadata": {},
   "outputs": [
    {
     "data": {
      "text/html": [
       "<div>\n",
       "<style scoped>\n",
       "    .dataframe tbody tr th:only-of-type {\n",
       "        vertical-align: middle;\n",
       "    }\n",
       "\n",
       "    .dataframe tbody tr th {\n",
       "        vertical-align: top;\n",
       "    }\n",
       "\n",
       "    .dataframe thead th {\n",
       "        text-align: right;\n",
       "    }\n",
       "</style>\n",
       "<table border=\"1\" class=\"dataframe\">\n",
       "  <thead>\n",
       "    <tr style=\"text-align: right;\">\n",
       "      <th></th>\n",
       "      <th>0</th>\n",
       "      <th>gross_return</th>\n",
       "      <th>gross_return_shifted</th>\n",
       "      <th>price_dev</th>\n",
       "      <th>price_dev_log</th>\n",
       "    </tr>\n",
       "    <tr>\n",
       "      <th>date</th>\n",
       "      <th></th>\n",
       "      <th></th>\n",
       "      <th></th>\n",
       "      <th></th>\n",
       "      <th></th>\n",
       "    </tr>\n",
       "  </thead>\n",
       "  <tbody>\n",
       "    <tr>\n",
       "      <th>1963-07-01</th>\n",
       "      <td>0.043420</td>\n",
       "      <td>1.043420</td>\n",
       "      <td>100.000000</td>\n",
       "      <td>100.000000</td>\n",
       "      <td>4.605170</td>\n",
       "    </tr>\n",
       "    <tr>\n",
       "      <th>1963-08-01</th>\n",
       "      <td>-0.011564</td>\n",
       "      <td>0.988436</td>\n",
       "      <td>1.043420</td>\n",
       "      <td>104.341978</td>\n",
       "      <td>4.647674</td>\n",
       "    </tr>\n",
       "    <tr>\n",
       "      <th>1963-09-01</th>\n",
       "      <td>-0.044959</td>\n",
       "      <td>0.955041</td>\n",
       "      <td>0.988436</td>\n",
       "      <td>103.135369</td>\n",
       "      <td>4.636042</td>\n",
       "    </tr>\n",
       "    <tr>\n",
       "      <th>1963-10-01</th>\n",
       "      <td>0.002974</td>\n",
       "      <td>1.002974</td>\n",
       "      <td>0.955041</td>\n",
       "      <td>98.498547</td>\n",
       "      <td>4.590042</td>\n",
       "    </tr>\n",
       "    <tr>\n",
       "      <th>1963-11-01</th>\n",
       "      <td>-0.029278</td>\n",
       "      <td>0.970722</td>\n",
       "      <td>1.002974</td>\n",
       "      <td>98.791468</td>\n",
       "      <td>4.593011</td>\n",
       "    </tr>\n",
       "    <tr>\n",
       "      <th>...</th>\n",
       "      <td>...</td>\n",
       "      <td>...</td>\n",
       "      <td>...</td>\n",
       "      <td>...</td>\n",
       "      <td>...</td>\n",
       "    </tr>\n",
       "    <tr>\n",
       "      <th>2021-02-01</th>\n",
       "      <td>-0.168220</td>\n",
       "      <td>0.831780</td>\n",
       "      <td>0.924875</td>\n",
       "      <td>134060.454583</td>\n",
       "      <td>11.806046</td>\n",
       "    </tr>\n",
       "    <tr>\n",
       "      <th>2021-03-01</th>\n",
       "      <td>0.228555</td>\n",
       "      <td>1.228555</td>\n",
       "      <td>0.831780</td>\n",
       "      <td>111508.851356</td>\n",
       "      <td>11.621859</td>\n",
       "    </tr>\n",
       "    <tr>\n",
       "      <th>2021-04-01</th>\n",
       "      <td>0.003464</td>\n",
       "      <td>1.003464</td>\n",
       "      <td>1.228555</td>\n",
       "      <td>136994.790696</td>\n",
       "      <td>11.827698</td>\n",
       "    </tr>\n",
       "    <tr>\n",
       "      <th>2021-05-01</th>\n",
       "      <td>0.082701</td>\n",
       "      <td>1.082701</td>\n",
       "      <td>1.003464</td>\n",
       "      <td>137469.304263</td>\n",
       "      <td>11.831156</td>\n",
       "    </tr>\n",
       "    <tr>\n",
       "      <th>2021-06-01</th>\n",
       "      <td>-0.075612</td>\n",
       "      <td>0.924388</td>\n",
       "      <td>1.082701</td>\n",
       "      <td>148838.216839</td>\n",
       "      <td>11.910615</td>\n",
       "    </tr>\n",
       "  </tbody>\n",
       "</table>\n",
       "<p>696 rows × 5 columns</p>\n",
       "</div>"
      ],
      "text/plain": [
       "                   0  gross_return  gross_return_shifted      price_dev  \\\n",
       "date                                                                      \n",
       "1963-07-01  0.043420      1.043420            100.000000     100.000000   \n",
       "1963-08-01 -0.011564      0.988436              1.043420     104.341978   \n",
       "1963-09-01 -0.044959      0.955041              0.988436     103.135369   \n",
       "1963-10-01  0.002974      1.002974              0.955041      98.498547   \n",
       "1963-11-01 -0.029278      0.970722              1.002974      98.791468   \n",
       "...              ...           ...                   ...            ...   \n",
       "2021-02-01 -0.168220      0.831780              0.924875  134060.454583   \n",
       "2021-03-01  0.228555      1.228555              0.831780  111508.851356   \n",
       "2021-04-01  0.003464      1.003464              1.228555  136994.790696   \n",
       "2021-05-01  0.082701      1.082701              1.003464  137469.304263   \n",
       "2021-06-01 -0.075612      0.924388              1.082701  148838.216839   \n",
       "\n",
       "            price_dev_log  \n",
       "date                       \n",
       "1963-07-01       4.605170  \n",
       "1963-08-01       4.647674  \n",
       "1963-09-01       4.636042  \n",
       "1963-10-01       4.590042  \n",
       "1963-11-01       4.593011  \n",
       "...                   ...  \n",
       "2021-02-01      11.806046  \n",
       "2021-03-01      11.621859  \n",
       "2021-04-01      11.827698  \n",
       "2021-05-01      11.831156  \n",
       "2021-06-01      11.910615  \n",
       "\n",
       "[696 rows x 5 columns]"
      ]
     },
     "execution_count": 9,
     "metadata": {},
     "output_type": "execute_result"
    }
   ],
   "source": [
    "ret_mkt_neutral_portfolio['gross_return'] = (ret_mkt_neutral_portfolio + 1)\n",
    "ret_mkt_neutral_portfolio['gross_return_shifted'] = ret_mkt_neutral_portfolio['gross_return'].shift(fill_value=100)\n",
    "ret_mkt_neutral_portfolio['price_dev'] = ret_mkt_neutral_portfolio['gross_return_shifted'].cumprod()\n",
    "ret_mkt_neutral_portfolio['price_dev_log'] = ret_mkt_neutral_portfolio['price_dev'].apply(np.log)\n",
    "ret_mkt_neutral_portfolio"
   ]
  },
  {
   "cell_type": "code",
   "execution_count": 10,
   "metadata": {},
   "outputs": [
    {
     "data": {
      "text/html": [
       "<div>\n",
       "<style scoped>\n",
       "    .dataframe tbody tr th:only-of-type {\n",
       "        vertical-align: middle;\n",
       "    }\n",
       "\n",
       "    .dataframe tbody tr th {\n",
       "        vertical-align: top;\n",
       "    }\n",
       "\n",
       "    .dataframe thead th {\n",
       "        text-align: right;\n",
       "    }\n",
       "</style>\n",
       "<table border=\"1\" class=\"dataframe\">\n",
       "  <thead>\n",
       "    <tr style=\"text-align: right;\">\n",
       "      <th></th>\n",
       "      <th>Mkt_RF</th>\n",
       "      <th>SMB</th>\n",
       "      <th>HML</th>\n",
       "      <th>RMW</th>\n",
       "      <th>CMA</th>\n",
       "      <th>RF</th>\n",
       "      <th>market_return</th>\n",
       "      <th>gross_return</th>\n",
       "      <th>gross_return_shifted</th>\n",
       "      <th>price_dev</th>\n",
       "      <th>price_dev_log</th>\n",
       "    </tr>\n",
       "    <tr>\n",
       "      <th>date</th>\n",
       "      <th></th>\n",
       "      <th></th>\n",
       "      <th></th>\n",
       "      <th></th>\n",
       "      <th></th>\n",
       "      <th></th>\n",
       "      <th></th>\n",
       "      <th></th>\n",
       "      <th></th>\n",
       "      <th></th>\n",
       "      <th></th>\n",
       "    </tr>\n",
       "  </thead>\n",
       "  <tbody>\n",
       "    <tr>\n",
       "      <th>1963-07-01</th>\n",
       "      <td>-0.0039</td>\n",
       "      <td>-0.0045</td>\n",
       "      <td>-0.0094</td>\n",
       "      <td>0.0066</td>\n",
       "      <td>-0.0115</td>\n",
       "      <td>0.0027</td>\n",
       "      <td>-0.0012</td>\n",
       "      <td>0.9988</td>\n",
       "      <td>100.0000</td>\n",
       "      <td>100.000000</td>\n",
       "      <td>4.605170</td>\n",
       "    </tr>\n",
       "    <tr>\n",
       "      <th>1963-08-01</th>\n",
       "      <td>0.0507</td>\n",
       "      <td>-0.0082</td>\n",
       "      <td>0.0182</td>\n",
       "      <td>0.0040</td>\n",
       "      <td>-0.0040</td>\n",
       "      <td>0.0025</td>\n",
       "      <td>0.0532</td>\n",
       "      <td>1.0532</td>\n",
       "      <td>0.9988</td>\n",
       "      <td>99.880000</td>\n",
       "      <td>4.603969</td>\n",
       "    </tr>\n",
       "    <tr>\n",
       "      <th>1963-09-01</th>\n",
       "      <td>-0.0157</td>\n",
       "      <td>-0.0048</td>\n",
       "      <td>0.0017</td>\n",
       "      <td>-0.0076</td>\n",
       "      <td>0.0024</td>\n",
       "      <td>0.0027</td>\n",
       "      <td>-0.0130</td>\n",
       "      <td>0.9870</td>\n",
       "      <td>1.0532</td>\n",
       "      <td>105.193616</td>\n",
       "      <td>4.655803</td>\n",
       "    </tr>\n",
       "    <tr>\n",
       "      <th>1963-10-01</th>\n",
       "      <td>0.0253</td>\n",
       "      <td>-0.0130</td>\n",
       "      <td>-0.0004</td>\n",
       "      <td>0.0275</td>\n",
       "      <td>-0.0224</td>\n",
       "      <td>0.0029</td>\n",
       "      <td>0.0282</td>\n",
       "      <td>1.0282</td>\n",
       "      <td>0.9870</td>\n",
       "      <td>103.826099</td>\n",
       "      <td>4.642717</td>\n",
       "    </tr>\n",
       "    <tr>\n",
       "      <th>1963-11-01</th>\n",
       "      <td>-0.0085</td>\n",
       "      <td>-0.0085</td>\n",
       "      <td>0.0170</td>\n",
       "      <td>-0.0045</td>\n",
       "      <td>0.0222</td>\n",
       "      <td>0.0027</td>\n",
       "      <td>-0.0058</td>\n",
       "      <td>0.9942</td>\n",
       "      <td>1.0282</td>\n",
       "      <td>106.753995</td>\n",
       "      <td>4.670527</td>\n",
       "    </tr>\n",
       "    <tr>\n",
       "      <th>...</th>\n",
       "      <td>...</td>\n",
       "      <td>...</td>\n",
       "      <td>...</td>\n",
       "      <td>...</td>\n",
       "      <td>...</td>\n",
       "      <td>...</td>\n",
       "      <td>...</td>\n",
       "      <td>...</td>\n",
       "      <td>...</td>\n",
       "      <td>...</td>\n",
       "      <td>...</td>\n",
       "    </tr>\n",
       "    <tr>\n",
       "      <th>2021-02-01</th>\n",
       "      <td>0.0278</td>\n",
       "      <td>0.0451</td>\n",
       "      <td>0.0708</td>\n",
       "      <td>0.0009</td>\n",
       "      <td>-0.0197</td>\n",
       "      <td>0.0000</td>\n",
       "      <td>0.0278</td>\n",
       "      <td>1.0278</td>\n",
       "      <td>0.9997</td>\n",
       "      <td>32218.797451</td>\n",
       "      <td>10.380305</td>\n",
       "    </tr>\n",
       "    <tr>\n",
       "      <th>2021-03-01</th>\n",
       "      <td>0.0308</td>\n",
       "      <td>-0.0097</td>\n",
       "      <td>0.0740</td>\n",
       "      <td>0.0643</td>\n",
       "      <td>0.0344</td>\n",
       "      <td>0.0000</td>\n",
       "      <td>0.0308</td>\n",
       "      <td>1.0308</td>\n",
       "      <td>1.0278</td>\n",
       "      <td>33114.480020</td>\n",
       "      <td>10.407726</td>\n",
       "    </tr>\n",
       "    <tr>\n",
       "      <th>2021-04-01</th>\n",
       "      <td>0.0493</td>\n",
       "      <td>-0.0306</td>\n",
       "      <td>-0.0074</td>\n",
       "      <td>0.0226</td>\n",
       "      <td>-0.0271</td>\n",
       "      <td>0.0000</td>\n",
       "      <td>0.0493</td>\n",
       "      <td>1.0493</td>\n",
       "      <td>1.0308</td>\n",
       "      <td>34134.406005</td>\n",
       "      <td>10.438061</td>\n",
       "    </tr>\n",
       "    <tr>\n",
       "      <th>2021-05-01</th>\n",
       "      <td>0.0029</td>\n",
       "      <td>0.0127</td>\n",
       "      <td>0.0704</td>\n",
       "      <td>0.0237</td>\n",
       "      <td>0.0320</td>\n",
       "      <td>0.0000</td>\n",
       "      <td>0.0029</td>\n",
       "      <td>1.0029</td>\n",
       "      <td>1.0493</td>\n",
       "      <td>35817.232221</td>\n",
       "      <td>10.486184</td>\n",
       "    </tr>\n",
       "    <tr>\n",
       "      <th>2021-06-01</th>\n",
       "      <td>0.0279</td>\n",
       "      <td>-0.0022</td>\n",
       "      <td>-0.0770</td>\n",
       "      <td>-0.0197</td>\n",
       "      <td>-0.0103</td>\n",
       "      <td>0.0000</td>\n",
       "      <td>0.0279</td>\n",
       "      <td>1.0279</td>\n",
       "      <td>1.0029</td>\n",
       "      <td>35921.102194</td>\n",
       "      <td>10.489080</td>\n",
       "    </tr>\n",
       "  </tbody>\n",
       "</table>\n",
       "<p>696 rows × 11 columns</p>\n",
       "</div>"
      ],
      "text/plain": [
       "            Mkt_RF     SMB     HML     RMW     CMA      RF  market_return  \\\n",
       "date                                                                        \n",
       "1963-07-01 -0.0039 -0.0045 -0.0094  0.0066 -0.0115  0.0027        -0.0012   \n",
       "1963-08-01  0.0507 -0.0082  0.0182  0.0040 -0.0040  0.0025         0.0532   \n",
       "1963-09-01 -0.0157 -0.0048  0.0017 -0.0076  0.0024  0.0027        -0.0130   \n",
       "1963-10-01  0.0253 -0.0130 -0.0004  0.0275 -0.0224  0.0029         0.0282   \n",
       "1963-11-01 -0.0085 -0.0085  0.0170 -0.0045  0.0222  0.0027        -0.0058   \n",
       "...            ...     ...     ...     ...     ...     ...            ...   \n",
       "2021-02-01  0.0278  0.0451  0.0708  0.0009 -0.0197  0.0000         0.0278   \n",
       "2021-03-01  0.0308 -0.0097  0.0740  0.0643  0.0344  0.0000         0.0308   \n",
       "2021-04-01  0.0493 -0.0306 -0.0074  0.0226 -0.0271  0.0000         0.0493   \n",
       "2021-05-01  0.0029  0.0127  0.0704  0.0237  0.0320  0.0000         0.0029   \n",
       "2021-06-01  0.0279 -0.0022 -0.0770 -0.0197 -0.0103  0.0000         0.0279   \n",
       "\n",
       "            gross_return  gross_return_shifted     price_dev  price_dev_log  \n",
       "date                                                                         \n",
       "1963-07-01        0.9988              100.0000    100.000000       4.605170  \n",
       "1963-08-01        1.0532                0.9988     99.880000       4.603969  \n",
       "1963-09-01        0.9870                1.0532    105.193616       4.655803  \n",
       "1963-10-01        1.0282                0.9870    103.826099       4.642717  \n",
       "1963-11-01        0.9942                1.0282    106.753995       4.670527  \n",
       "...                  ...                   ...           ...            ...  \n",
       "2021-02-01        1.0278                0.9997  32218.797451      10.380305  \n",
       "2021-03-01        1.0308                1.0278  33114.480020      10.407726  \n",
       "2021-04-01        1.0493                1.0308  34134.406005      10.438061  \n",
       "2021-05-01        1.0029                1.0493  35817.232221      10.486184  \n",
       "2021-06-01        1.0279                1.0029  35921.102194      10.489080  \n",
       "\n",
       "[696 rows x 11 columns]"
      ]
     },
     "execution_count": 10,
     "metadata": {},
     "output_type": "execute_result"
    }
   ],
   "source": [
    "data_FF['market_return'] = data_FF.Mkt_RF + data_FF.RF\n",
    "data_FF['gross_return'] = (data_FF['market_return'] + 1)\n",
    "data_FF['gross_return_shifted'] = data_FF['gross_return'].shift(fill_value=100)\n",
    "data_FF['price_dev'] = data_FF['gross_return_shifted'].cumprod()\n",
    "data_FF['price_dev_log'] = data_FF['price_dev'].apply(np.log)\n",
    "data_FF"
   ]
  },
  {
   "cell_type": "code",
   "execution_count": 11,
   "metadata": {},
   "outputs": [
    {
     "data": {
      "image/png": "[encoded data removed]",
      "text/plain": [
       "<Figure size 432x288 with 1 Axes>"
      ]
     },
     "metadata": {
      "needs_background": "light"
     },
     "output_type": "display_data"
    }
   ],
   "source": [
    "plt.plot(ret_mkt_neutral_portfolio['price_dev_log'], label='market neutral portfolio')\n",
    "plt.plot(data_FF['price_dev_log'], label=\"market portfolio\")\n",
    "plt.legend()\n",
    "plt.xlabel('Time')\n",
    "plt.ylabel('Log Price')\n",
    "plt.show()"
   ]
  },
  {
   "cell_type": "markdown",
   "metadata": {},
   "source": [
    "### g) Mean returns, sharpe ratios, and correlation"
   ]
  },
  {
   "cell_type": "code",
   "execution_count": 12,
   "metadata": {},
   "outputs": [
    {
     "name": "stdout",
     "output_type": "stream",
     "text": [
      "market neutral portfolio mean return: 0.0136\n",
      "market portfolio mean return: 0.0095\n"
     ]
    }
   ],
   "source": [
    "# mean returns\n",
    "print(f\"market neutral portfolio mean return: {round(ret_mkt_neutral_portfolio.iloc[:,0].mean(),4)}\")\n",
    "print(f\"market portfolio mean return: {round(data_FF.loc[:,'market_return'].mean(),4)}\")"
   ]
  },
  {
   "cell_type": "code",
   "execution_count": 13,
   "metadata": {},
   "outputs": [
    {
     "name": "stdout",
     "output_type": "stream",
     "text": [
      "market neutral portfolio sharpe ratio: 0.1251\n",
      "market portfolio sharpe ratio: 0.1309\n"
     ]
    }
   ],
   "source": [
    "# sharpe ratios\n",
    "ret_mkt_neutral_portfolio['excess_return'] = ret_mkt_neutral_portfolio.iloc[:,0] - data_FF['RF']\n",
    "mkt_neutral_sharpe = ret_mkt_neutral_portfolio['excess_return'].mean() / ret_mkt_neutral_portfolio['excess_return'].std()\n",
    "mkt_sharpe = data_FF['Mkt_RF'].mean() / data_FF['Mkt_RF'].std()\n",
    "print(f\"market neutral portfolio sharpe ratio: {round(mkt_neutral_sharpe,4)}\")\n",
    "print(f\"market portfolio sharpe ratio: {round(mkt_sharpe, 4)}\")"
   ]
  },
  {
   "cell_type": "code",
   "execution_count": 14,
   "metadata": {},
   "outputs": [
    {
     "data": {
      "text/html": [
       "<div>\n",
       "<style scoped>\n",
       "    .dataframe tbody tr th:only-of-type {\n",
       "        vertical-align: middle;\n",
       "    }\n",
       "\n",
       "    .dataframe tbody tr th {\n",
       "        vertical-align: top;\n",
       "    }\n",
       "\n",
       "    .dataframe thead th {\n",
       "        text-align: right;\n",
       "    }\n",
       "</style>\n",
       "<table border=\"1\" class=\"dataframe\">\n",
       "  <thead>\n",
       "    <tr style=\"text-align: right;\">\n",
       "      <th></th>\n",
       "      <th>returns_mkt_neutral</th>\n",
       "      <th>market_return</th>\n",
       "    </tr>\n",
       "  </thead>\n",
       "  <tbody>\n",
       "    <tr>\n",
       "      <th>returns_mkt_neutral</th>\n",
       "      <td>1.000000</td>\n",
       "      <td>0.006087</td>\n",
       "    </tr>\n",
       "    <tr>\n",
       "      <th>market_return</th>\n",
       "      <td>0.006087</td>\n",
       "      <td>1.000000</td>\n",
       "    </tr>\n",
       "  </tbody>\n",
       "</table>\n",
       "</div>"
      ],
      "text/plain": [
       "                     returns_mkt_neutral  market_return\n",
       "returns_mkt_neutral             1.000000       0.006087\n",
       "market_return                   0.006087       1.000000"
      ]
     },
     "execution_count": 14,
     "metadata": {},
     "output_type": "execute_result"
    }
   ],
   "source": [
    "# correlation of returns\n",
    "ret_mkt_neutral_portfolio['returns_mkt_neutral'] = ret_mkt_neutral_portfolio.T.head(1).T\n",
    "correlation_df = pd.DataFrame([ret_mkt_neutral_portfolio['returns_mkt_neutral'],data_FF['market_return']]).T\n",
    "correlation_df.corr()"
   ]
  },
  {
   "cell_type": "markdown",
   "metadata": {},
   "source": [
    "### h) CAPM regression, FF 3-factor, FF 5-factor regression"
   ]
  },
  {
   "cell_type": "code",
   "execution_count": 15,
   "metadata": {},
   "outputs": [
    {
     "name": "stdout",
     "output_type": "stream",
     "text": [
      "intercept: 0.009900160876958585\n",
      "coefficient: 0.005741368753192865\n"
     ]
    }
   ],
   "source": [
    "ols = LinearRegression()\n",
    "y = ret_mkt_neutral_portfolio['excess_return'].to_numpy().reshape(-1,1)\n",
    "x = data_FF['Mkt_RF'].to_numpy().reshape(-1,1)\n",
    "ols.fit(x, y)\n",
    "print(f\"intercept: {ols.intercept_[0]}\") # intercept\n",
    "print(f\"coefficient: {ols.coef_[0][0]}\") # list of feature coefficients"
   ]
  },
  {
   "cell_type": "code",
   "execution_count": 16,
   "metadata": {},
   "outputs": [
    {
     "name": "stdout",
     "output_type": "stream",
     "text": [
      "                            OLS Regression Results                            \n",
      "==============================================================================\n",
      "Dep. Variable:                      y   R-squared:                       0.000\n",
      "Model:                            OLS   Adj. R-squared:                 -0.001\n",
      "Method:                 Least Squares   F-statistic:                  0.007204\n",
      "Date:                Mon, 29 Nov 2021   Prob (F-statistic):              0.932\n",
      "Time:                        23:51:40   Log-Likelihood:                 776.27\n",
      "No. Observations:                 696   AIC:                            -1549.\n",
      "Df Residuals:                     694   BIC:                            -1539.\n",
      "Df Model:                           1                                         \n",
      "Covariance Type:            nonrobust                                         \n",
      "==============================================================================\n",
      "                 coef    std err          t      P>|t|      [0.025      0.975]\n",
      "------------------------------------------------------------------------------\n",
      "const          0.0099      0.003      3.260      0.001       0.004       0.016\n",
      "x1             0.0057      0.068      0.085      0.932      -0.127       0.139\n",
      "==============================================================================\n",
      "Omnibus:                       35.042   Durbin-Watson:                   1.910\n",
      "Prob(Omnibus):                  0.000   Jarque-Bera (JB):              101.569\n",
      "Skew:                          -0.142   Prob(JB):                     8.80e-23\n",
      "Kurtosis:                       4.850   Cond. No.                         22.5\n",
      "==============================================================================\n",
      "\n",
      "Notes:\n",
      "[1] Standard Errors assume that the covariance matrix of the errors is correctly specified.\n"
     ]
    }
   ],
   "source": [
    "#also using the sm.OLS model to 1) compare the results as well as for an easier output format. \n",
    "# sm.OLS(y, X) y:=to be predicted, X:=matrix of features \n",
    "#CAPM regression\n",
    "LR = sm.OLS(\n",
    "    ret_mkt_neutral_portfolio['excess_return'].to_numpy(), \n",
    "    sm.add_constant(data_FF['Mkt_RF'].to_numpy())\n",
    ")\n",
    "LR_results = LR.fit()\n",
    "print(LR_results.summary())"
   ]
  },
  {
   "cell_type": "code",
   "execution_count": 17,
   "metadata": {},
   "outputs": [
    {
     "data": {
      "text/plain": [
       "1.0380628899797628e-05"
      ]
     },
     "execution_count": 17,
     "metadata": {},
     "output_type": "execute_result"
    }
   ],
   "source": [
    "from sklearn.metrics import r2_score\n",
    "preds = ols.predict(x)\n",
    "r2_score(y, preds)\n",
    "# double checking R^2 with a different method"
   ]
  },
  {
   "cell_type": "code",
   "execution_count": 18,
   "metadata": {},
   "outputs": [
    {
     "name": "stdout",
     "output_type": "stream",
     "text": [
      "intercept: 0.00893844426025026\n",
      "coefficient: [ 0.38858361 -1.40949145  0.77742014]\n"
     ]
    }
   ],
   "source": [
    "ols = LinearRegression()\n",
    "y = ret_mkt_neutral_portfolio['excess_return'].to_numpy().reshape(-1,1)\n",
    "x = data_FF[['Mkt_RF', 'SMB', 'HML']].to_numpy()\n",
    "ols.fit(x, y)\n",
    "print(f\"intercept: {ols.intercept_[0]}\") # intercept\n",
    "print(f\"coefficient: {ols.coef_[0]}\") # list of feature coefficients"
   ]
  },
  {
   "cell_type": "code",
   "execution_count": 19,
   "metadata": {},
   "outputs": [
    {
     "data": {
      "text/plain": [
       "0.3318156165690205"
      ]
     },
     "execution_count": 19,
     "metadata": {},
     "output_type": "execute_result"
    }
   ],
   "source": [
    "preds = ols.predict(x)\n",
    "r2_score(y, preds)"
   ]
  },
  {
   "cell_type": "code",
   "execution_count": 20,
   "metadata": {},
   "outputs": [
    {
     "name": "stdout",
     "output_type": "stream",
     "text": [
      "                            OLS Regression Results                            \n",
      "==============================================================================\n",
      "Dep. Variable:                      y   R-squared:                       0.332\n",
      "Model:                            OLS   Adj. R-squared:                  0.329\n",
      "Method:                 Least Squares   F-statistic:                     114.5\n",
      "Date:                Mon, 29 Nov 2021   Prob (F-statistic):           3.15e-60\n",
      "Time:                        23:51:40   Log-Likelihood:                 916.58\n",
      "No. Observations:                 696   AIC:                            -1825.\n",
      "Df Residuals:                     692   BIC:                            -1807.\n",
      "Df Model:                           3                                         \n",
      "Covariance Type:            nonrobust                                         \n",
      "==============================================================================\n",
      "                 coef    std err          t      P>|t|      [0.025      0.975]\n",
      "------------------------------------------------------------------------------\n",
      "const          0.0089      0.003      3.566      0.000       0.004       0.014\n",
      "x1             0.3886      0.059      6.566      0.000       0.272       0.505\n",
      "x2            -1.4095      0.085    -16.581      0.000      -1.576      -1.243\n",
      "x3             0.7774      0.087      8.949      0.000       0.607       0.948\n",
      "==============================================================================\n",
      "Omnibus:                       24.117   Durbin-Watson:                   2.014\n",
      "Prob(Omnibus):                  0.000   Jarque-Bera (JB):               58.622\n",
      "Skew:                           0.047   Prob(JB):                     1.86e-13\n",
      "Kurtosis:                       4.419   Cond. No.                         37.1\n",
      "==============================================================================\n",
      "\n",
      "Notes:\n",
      "[1] Standard Errors assume that the covariance matrix of the errors is correctly specified.\n"
     ]
    }
   ],
   "source": [
    "# sm.OLS(y, X) y:=to be predicted, X:=matrix of features\n",
    "#Fama-French 3-factor regression\n",
    "LR = sm.OLS(\n",
    "    ret_mkt_neutral_portfolio['excess_return'].to_numpy(), \n",
    "    sm.add_constant(data_FF[['Mkt_RF', 'SMB', 'HML']].to_numpy())\n",
    ")\n",
    "LR_results = LR.fit()\n",
    "print(LR_results.summary())"
   ]
  },
  {
   "cell_type": "code",
   "execution_count": 21,
   "metadata": {},
   "outputs": [
    {
     "name": "stdout",
     "output_type": "stream",
     "text": [
      "intercept: 0.004496587120136626\n",
      "coefficient: [ 0.53144374 -1.24193942  0.30603601  0.70576425  1.02643854]\n"
     ]
    }
   ],
   "source": [
    "ols = LinearRegression()\n",
    "y = ret_mkt_neutral_portfolio['excess_return'].to_numpy().reshape(-1,1)\n",
    "x = data_FF[['Mkt_RF', 'SMB', 'HML', 'RMW', 'CMA']].to_numpy()\n",
    "ols.fit(x, y)\n",
    "print(f\"intercept: {ols.intercept_[0]}\") # intercept\n",
    "print(f\"coefficient: {ols.coef_[0]}\") # list of feature coefficients"
   ]
  },
  {
   "cell_type": "code",
   "execution_count": 22,
   "metadata": {},
   "outputs": [
    {
     "data": {
      "text/plain": [
       "0.38436051288315964"
      ]
     },
     "execution_count": 22,
     "metadata": {},
     "output_type": "execute_result"
    }
   ],
   "source": [
    "preds = ols.predict(x)\n",
    "r2_score(y, preds)\n",
    "# correct?"
   ]
  },
  {
   "cell_type": "code",
   "execution_count": 23,
   "metadata": {},
   "outputs": [
    {
     "name": "stdout",
     "output_type": "stream",
     "text": [
      "                            OLS Regression Results                            \n",
      "==============================================================================\n",
      "Dep. Variable:                      y   R-squared:                       0.384\n",
      "Model:                            OLS   Adj. R-squared:                  0.380\n",
      "Method:                 Least Squares   F-statistic:                     86.16\n",
      "Date:                Mon, 29 Nov 2021   Prob (F-statistic):           2.42e-70\n",
      "Time:                        23:51:40   Log-Likelihood:                 945.08\n",
      "No. Observations:                 696   AIC:                            -1878.\n",
      "Df Residuals:                     690   BIC:                            -1851.\n",
      "Df Model:                           5                                         \n",
      "Covariance Type:            nonrobust                                         \n",
      "==============================================================================\n",
      "                 coef    std err          t      P>|t|      [0.025      0.975]\n",
      "------------------------------------------------------------------------------\n",
      "const          0.0045      0.002      1.815      0.070      -0.000       0.009\n",
      "x1             0.5314      0.060      8.800      0.000       0.413       0.650\n",
      "x2            -1.2419      0.086    -14.419      0.000      -1.411      -1.073\n",
      "x3             0.3060      0.112      2.724      0.007       0.085       0.527\n",
      "x4             0.7058      0.119      5.923      0.000       0.472       0.940\n",
      "x5             1.0264      0.173      5.946      0.000       0.687       1.365\n",
      "==============================================================================\n",
      "Omnibus:                        6.622   Durbin-Watson:                   2.008\n",
      "Prob(Omnibus):                  0.036   Jarque-Bera (JB):                8.870\n",
      "Skew:                          -0.057   Prob(JB):                       0.0119\n",
      "Kurtosis:                       3.541   Cond. No.                         82.4\n",
      "==============================================================================\n",
      "\n",
      "Notes:\n",
      "[1] Standard Errors assume that the covariance matrix of the errors is correctly specified.\n"
     ]
    }
   ],
   "source": [
    "#for ease of output also doing the regression in the other format:\n",
    "# sm.OLS(y, X) y:=to be predicted, X:=matrix of features\n",
    "#Fama-French 5-factor regression\n",
    "LR = sm.OLS(\n",
    "    ret_mkt_neutral_portfolio['excess_return'].to_numpy(), \n",
    "    sm.add_constant(data_FF[['Mkt_RF', 'SMB', 'HML', 'RMW', 'CMA']].to_numpy())\n",
    ")\n",
    "LR_results = LR.fit()\n",
    "print(LR_results.summary())"
   ]
  },
  {
   "cell_type": "code",
   "execution_count": 63,
   "metadata": {},
   "outputs": [
    {
     "name": "stderr",
     "output_type": "stream",
     "text": [
      "/Users/jonashusmann/opt/anaconda3/lib/python3.8/site-packages/statsmodels/stats/outliers_influence.py:193: RuntimeWarning: divide by zero encountered in double_scalars\n",
      "  vif = 1. / (1. - r_squared_i)\n"
     ]
    }
   ],
   "source": [
    "from statsmodels.stats.outliers_influence import variance_inflation_factor\n",
    "data_ff1 = data_FF.iloc[60:]\n",
    "data_ff1\n",
    "vif_data = pd.DataFrame()\n",
    "vif_data[\"feature\"] = data_FF.columns[0:5]\n",
    "vif_data[\"VIF\"] = [variance_inflation_factor(data_ff1.values, i) for i in range(len(data_ff1.columns[:5]))]\n"
   ]
  },
  {
   "cell_type": "code",
   "execution_count": 64,
   "metadata": {},
   "outputs": [
    {
     "data": {
      "text/html": [
       "<div>\n",
       "<style scoped>\n",
       "    .dataframe tbody tr th:only-of-type {\n",
       "        vertical-align: middle;\n",
       "    }\n",
       "\n",
       "    .dataframe tbody tr th {\n",
       "        vertical-align: top;\n",
       "    }\n",
       "\n",
       "    .dataframe thead th {\n",
       "        text-align: right;\n",
       "    }\n",
       "</style>\n",
       "<table border=\"1\" class=\"dataframe\">\n",
       "  <thead>\n",
       "    <tr style=\"text-align: right;\">\n",
       "      <th></th>\n",
       "      <th>feature</th>\n",
       "      <th>VIF</th>\n",
       "    </tr>\n",
       "  </thead>\n",
       "  <tbody>\n",
       "    <tr>\n",
       "      <th>0</th>\n",
       "      <td>Mkt_RF</td>\n",
       "      <td>inf</td>\n",
       "    </tr>\n",
       "    <tr>\n",
       "      <th>1</th>\n",
       "      <td>SMB</td>\n",
       "      <td>1.894435</td>\n",
       "    </tr>\n",
       "    <tr>\n",
       "      <th>2</th>\n",
       "      <td>HML</td>\n",
       "      <td>2.006753</td>\n",
       "    </tr>\n",
       "    <tr>\n",
       "      <th>3</th>\n",
       "      <td>RMW</td>\n",
       "      <td>1.346944</td>\n",
       "    </tr>\n",
       "    <tr>\n",
       "      <th>4</th>\n",
       "      <td>CMA</td>\n",
       "      <td>2.325641</td>\n",
       "    </tr>\n",
       "  </tbody>\n",
       "</table>\n",
       "</div>"
      ],
      "text/plain": [
       "  feature       VIF\n",
       "0  Mkt_RF       inf\n",
       "1     SMB  1.894435\n",
       "2     HML  2.006753\n",
       "3     RMW  1.346944\n",
       "4     CMA  2.325641"
      ]
     },
     "execution_count": 64,
     "metadata": {},
     "output_type": "execute_result"
    }
   ],
   "source": [
    "vif_data"
   ]
  },
  {
   "cell_type": "markdown",
   "metadata": {},
   "source": [
    "### i) Trading strategy discussion"
   ]
  },
  {
   "cell_type": "code",
   "execution_count": 25,
   "metadata": {},
   "outputs": [
    {
     "data": {
      "text/html": [
       "<div>\n",
       "<style scoped>\n",
       "    .dataframe tbody tr th:only-of-type {\n",
       "        vertical-align: middle;\n",
       "    }\n",
       "\n",
       "    .dataframe tbody tr th {\n",
       "        vertical-align: top;\n",
       "    }\n",
       "\n",
       "    .dataframe thead th {\n",
       "        text-align: right;\n",
       "    }\n",
       "</style>\n",
       "<table border=\"1\" class=\"dataframe\">\n",
       "  <thead>\n",
       "    <tr style=\"text-align: right;\">\n",
       "      <th></th>\n",
       "      <th>Mkt_RF</th>\n",
       "      <th>SMB</th>\n",
       "      <th>HML</th>\n",
       "      <th>RMW</th>\n",
       "      <th>CMA</th>\n",
       "      <th>RF</th>\n",
       "      <th>market_return</th>\n",
       "      <th>gross_return</th>\n",
       "      <th>gross_return_shifted</th>\n",
       "      <th>price_dev</th>\n",
       "      <th>price_dev_log</th>\n",
       "      <th>mkt_rt_var</th>\n",
       "      <th>beta1</th>\n",
       "      <th>beta10</th>\n",
       "      <th>mkt_b1_cov</th>\n",
       "      <th>mkt_b10_cov</th>\n",
       "      <th>beta_b1</th>\n",
       "      <th>beta_b10</th>\n",
       "      <th>weight_b1</th>\n",
       "    </tr>\n",
       "    <tr>\n",
       "      <th>date</th>\n",
       "      <th></th>\n",
       "      <th></th>\n",
       "      <th></th>\n",
       "      <th></th>\n",
       "      <th></th>\n",
       "      <th></th>\n",
       "      <th></th>\n",
       "      <th></th>\n",
       "      <th></th>\n",
       "      <th></th>\n",
       "      <th></th>\n",
       "      <th></th>\n",
       "      <th></th>\n",
       "      <th></th>\n",
       "      <th></th>\n",
       "      <th></th>\n",
       "      <th></th>\n",
       "      <th></th>\n",
       "      <th></th>\n",
       "    </tr>\n",
       "  </thead>\n",
       "  <tbody>\n",
       "    <tr>\n",
       "      <th>1963-07-01</th>\n",
       "      <td>-0.0039</td>\n",
       "      <td>-0.0045</td>\n",
       "      <td>-0.0094</td>\n",
       "      <td>0.0066</td>\n",
       "      <td>-0.0115</td>\n",
       "      <td>0.0027</td>\n",
       "      <td>-0.0012</td>\n",
       "      <td>0.9988</td>\n",
       "      <td>100.0000</td>\n",
       "      <td>100.000000</td>\n",
       "      <td>4.605170</td>\n",
       "      <td>NaN</td>\n",
       "      <td>0.0135</td>\n",
       "      <td>-0.0077</td>\n",
       "      <td>NaN</td>\n",
       "      <td>NaN</td>\n",
       "      <td>NaN</td>\n",
       "      <td>NaN</td>\n",
       "      <td>NaN</td>\n",
       "    </tr>\n",
       "    <tr>\n",
       "      <th>1963-08-01</th>\n",
       "      <td>0.0507</td>\n",
       "      <td>-0.0082</td>\n",
       "      <td>0.0182</td>\n",
       "      <td>0.0040</td>\n",
       "      <td>-0.0040</td>\n",
       "      <td>0.0025</td>\n",
       "      <td>0.0532</td>\n",
       "      <td>1.0532</td>\n",
       "      <td>0.9988</td>\n",
       "      <td>99.880000</td>\n",
       "      <td>4.603969</td>\n",
       "      <td>NaN</td>\n",
       "      <td>0.0352</td>\n",
       "      <td>0.1047</td>\n",
       "      <td>NaN</td>\n",
       "      <td>NaN</td>\n",
       "      <td>NaN</td>\n",
       "      <td>NaN</td>\n",
       "      <td>NaN</td>\n",
       "    </tr>\n",
       "    <tr>\n",
       "      <th>1963-09-01</th>\n",
       "      <td>-0.0157</td>\n",
       "      <td>-0.0048</td>\n",
       "      <td>0.0017</td>\n",
       "      <td>-0.0076</td>\n",
       "      <td>0.0024</td>\n",
       "      <td>0.0027</td>\n",
       "      <td>-0.0130</td>\n",
       "      <td>0.9870</td>\n",
       "      <td>1.0532</td>\n",
       "      <td>105.193616</td>\n",
       "      <td>4.655803</td>\n",
       "      <td>NaN</td>\n",
       "      <td>-0.0309</td>\n",
       "      <td>-0.0368</td>\n",
       "      <td>NaN</td>\n",
       "      <td>NaN</td>\n",
       "      <td>NaN</td>\n",
       "      <td>NaN</td>\n",
       "      <td>NaN</td>\n",
       "    </tr>\n",
       "    <tr>\n",
       "      <th>1963-10-01</th>\n",
       "      <td>0.0253</td>\n",
       "      <td>-0.0130</td>\n",
       "      <td>-0.0004</td>\n",
       "      <td>0.0275</td>\n",
       "      <td>-0.0224</td>\n",
       "      <td>0.0029</td>\n",
       "      <td>0.0282</td>\n",
       "      <td>1.0282</td>\n",
       "      <td>0.9870</td>\n",
       "      <td>103.826099</td>\n",
       "      <td>4.642717</td>\n",
       "      <td>NaN</td>\n",
       "      <td>0.0125</td>\n",
       "      <td>0.0301</td>\n",
       "      <td>NaN</td>\n",
       "      <td>NaN</td>\n",
       "      <td>NaN</td>\n",
       "      <td>NaN</td>\n",
       "      <td>NaN</td>\n",
       "    </tr>\n",
       "    <tr>\n",
       "      <th>1963-11-01</th>\n",
       "      <td>-0.0085</td>\n",
       "      <td>-0.0085</td>\n",
       "      <td>0.0170</td>\n",
       "      <td>-0.0045</td>\n",
       "      <td>0.0222</td>\n",
       "      <td>0.0027</td>\n",
       "      <td>-0.0058</td>\n",
       "      <td>0.9942</td>\n",
       "      <td>1.0282</td>\n",
       "      <td>106.753995</td>\n",
       "      <td>4.670527</td>\n",
       "      <td>NaN</td>\n",
       "      <td>-0.0091</td>\n",
       "      <td>0.0052</td>\n",
       "      <td>NaN</td>\n",
       "      <td>NaN</td>\n",
       "      <td>NaN</td>\n",
       "      <td>NaN</td>\n",
       "      <td>NaN</td>\n",
       "    </tr>\n",
       "    <tr>\n",
       "      <th>...</th>\n",
       "      <td>...</td>\n",
       "      <td>...</td>\n",
       "      <td>...</td>\n",
       "      <td>...</td>\n",
       "      <td>...</td>\n",
       "      <td>...</td>\n",
       "      <td>...</td>\n",
       "      <td>...</td>\n",
       "      <td>...</td>\n",
       "      <td>...</td>\n",
       "      <td>...</td>\n",
       "      <td>...</td>\n",
       "      <td>...</td>\n",
       "      <td>...</td>\n",
       "      <td>...</td>\n",
       "      <td>...</td>\n",
       "      <td>...</td>\n",
       "      <td>...</td>\n",
       "      <td>...</td>\n",
       "    </tr>\n",
       "    <tr>\n",
       "      <th>2021-02-01</th>\n",
       "      <td>0.0278</td>\n",
       "      <td>0.0451</td>\n",
       "      <td>0.0708</td>\n",
       "      <td>0.0009</td>\n",
       "      <td>-0.0197</td>\n",
       "      <td>0.0000</td>\n",
       "      <td>0.0278</td>\n",
       "      <td>1.0278</td>\n",
       "      <td>0.9997</td>\n",
       "      <td>32218.797451</td>\n",
       "      <td>10.380305</td>\n",
       "      <td>0.006337</td>\n",
       "      <td>-0.0392</td>\n",
       "      <td>0.0645</td>\n",
       "      <td>0.001165</td>\n",
       "      <td>0.003229</td>\n",
       "      <td>0.183767</td>\n",
       "      <td>0.509532</td>\n",
       "      <td>2.772712</td>\n",
       "    </tr>\n",
       "    <tr>\n",
       "      <th>2021-03-01</th>\n",
       "      <td>0.0308</td>\n",
       "      <td>-0.0097</td>\n",
       "      <td>0.0740</td>\n",
       "      <td>0.0643</td>\n",
       "      <td>0.0344</td>\n",
       "      <td>0.0000</td>\n",
       "      <td>0.0308</td>\n",
       "      <td>1.0308</td>\n",
       "      <td>1.0278</td>\n",
       "      <td>33114.480020</td>\n",
       "      <td>10.407726</td>\n",
       "      <td>0.005323</td>\n",
       "      <td>0.0696</td>\n",
       "      <td>-0.0444</td>\n",
       "      <td>0.001150</td>\n",
       "      <td>0.003226</td>\n",
       "      <td>0.216064</td>\n",
       "      <td>0.605917</td>\n",
       "      <td>2.804337</td>\n",
       "    </tr>\n",
       "    <tr>\n",
       "      <th>2021-04-01</th>\n",
       "      <td>0.0493</td>\n",
       "      <td>-0.0306</td>\n",
       "      <td>-0.0074</td>\n",
       "      <td>0.0226</td>\n",
       "      <td>-0.0271</td>\n",
       "      <td>0.0000</td>\n",
       "      <td>0.0493</td>\n",
       "      <td>1.0493</td>\n",
       "      <td>1.0308</td>\n",
       "      <td>34134.406005</td>\n",
       "      <td>10.438061</td>\n",
       "      <td>0.002717</td>\n",
       "      <td>0.0162</td>\n",
       "      <td>0.0394</td>\n",
       "      <td>0.001123</td>\n",
       "      <td>0.003131</td>\n",
       "      <td>0.413488</td>\n",
       "      <td>1.152341</td>\n",
       "      <td>2.786882</td>\n",
       "    </tr>\n",
       "    <tr>\n",
       "      <th>2021-05-01</th>\n",
       "      <td>0.0029</td>\n",
       "      <td>0.0127</td>\n",
       "      <td>0.0704</td>\n",
       "      <td>0.0237</td>\n",
       "      <td>0.0320</td>\n",
       "      <td>0.0000</td>\n",
       "      <td>0.0029</td>\n",
       "      <td>1.0029</td>\n",
       "      <td>1.0493</td>\n",
       "      <td>35817.232221</td>\n",
       "      <td>10.486184</td>\n",
       "      <td>0.001878</td>\n",
       "      <td>0.0192</td>\n",
       "      <td>-0.0319</td>\n",
       "      <td>0.001128</td>\n",
       "      <td>0.003143</td>\n",
       "      <td>0.600281</td>\n",
       "      <td>1.673445</td>\n",
       "      <td>2.787769</td>\n",
       "    </tr>\n",
       "    <tr>\n",
       "      <th>2021-06-01</th>\n",
       "      <td>0.0279</td>\n",
       "      <td>-0.0022</td>\n",
       "      <td>-0.0770</td>\n",
       "      <td>-0.0197</td>\n",
       "      <td>-0.0103</td>\n",
       "      <td>0.0000</td>\n",
       "      <td>0.0279</td>\n",
       "      <td>1.0279</td>\n",
       "      <td>1.0029</td>\n",
       "      <td>35921.102194</td>\n",
       "      <td>10.489080</td>\n",
       "      <td>0.001924</td>\n",
       "      <td>0.0054</td>\n",
       "      <td>0.0899</td>\n",
       "      <td>0.001125</td>\n",
       "      <td>0.003156</td>\n",
       "      <td>0.584575</td>\n",
       "      <td>1.640295</td>\n",
       "      <td>2.805961</td>\n",
       "    </tr>\n",
       "  </tbody>\n",
       "</table>\n",
       "<p>696 rows × 19 columns</p>\n",
       "</div>"
      ],
      "text/plain": [
       "            Mkt_RF     SMB     HML     RMW     CMA      RF  market_return  \\\n",
       "date                                                                        \n",
       "1963-07-01 -0.0039 -0.0045 -0.0094  0.0066 -0.0115  0.0027        -0.0012   \n",
       "1963-08-01  0.0507 -0.0082  0.0182  0.0040 -0.0040  0.0025         0.0532   \n",
       "1963-09-01 -0.0157 -0.0048  0.0017 -0.0076  0.0024  0.0027        -0.0130   \n",
       "1963-10-01  0.0253 -0.0130 -0.0004  0.0275 -0.0224  0.0029         0.0282   \n",
       "1963-11-01 -0.0085 -0.0085  0.0170 -0.0045  0.0222  0.0027        -0.0058   \n",
       "...            ...     ...     ...     ...     ...     ...            ...   \n",
       "2021-02-01  0.0278  0.0451  0.0708  0.0009 -0.0197  0.0000         0.0278   \n",
       "2021-03-01  0.0308 -0.0097  0.0740  0.0643  0.0344  0.0000         0.0308   \n",
       "2021-04-01  0.0493 -0.0306 -0.0074  0.0226 -0.0271  0.0000         0.0493   \n",
       "2021-05-01  0.0029  0.0127  0.0704  0.0237  0.0320  0.0000         0.0029   \n",
       "2021-06-01  0.0279 -0.0022 -0.0770 -0.0197 -0.0103  0.0000         0.0279   \n",
       "\n",
       "            gross_return  gross_return_shifted     price_dev  price_dev_log  \\\n",
       "date                                                                          \n",
       "1963-07-01        0.9988              100.0000    100.000000       4.605170   \n",
       "1963-08-01        1.0532                0.9988     99.880000       4.603969   \n",
       "1963-09-01        0.9870                1.0532    105.193616       4.655803   \n",
       "1963-10-01        1.0282                0.9870    103.826099       4.642717   \n",
       "1963-11-01        0.9942                1.0282    106.753995       4.670527   \n",
       "...                  ...                   ...           ...            ...   \n",
       "2021-02-01        1.0278                0.9997  32218.797451      10.380305   \n",
       "2021-03-01        1.0308                1.0278  33114.480020      10.407726   \n",
       "2021-04-01        1.0493                1.0308  34134.406005      10.438061   \n",
       "2021-05-01        1.0029                1.0493  35817.232221      10.486184   \n",
       "2021-06-01        1.0279                1.0029  35921.102194      10.489080   \n",
       "\n",
       "            mkt_rt_var   beta1  beta10  mkt_b1_cov  mkt_b10_cov   beta_b1  \\\n",
       "date                                                                        \n",
       "1963-07-01         NaN  0.0135 -0.0077         NaN          NaN       NaN   \n",
       "1963-08-01         NaN  0.0352  0.1047         NaN          NaN       NaN   \n",
       "1963-09-01         NaN -0.0309 -0.0368         NaN          NaN       NaN   \n",
       "1963-10-01         NaN  0.0125  0.0301         NaN          NaN       NaN   \n",
       "1963-11-01         NaN -0.0091  0.0052         NaN          NaN       NaN   \n",
       "...                ...     ...     ...         ...          ...       ...   \n",
       "2021-02-01    0.006337 -0.0392  0.0645    0.001165     0.003229  0.183767   \n",
       "2021-03-01    0.005323  0.0696 -0.0444    0.001150     0.003226  0.216064   \n",
       "2021-04-01    0.002717  0.0162  0.0394    0.001123     0.003131  0.413488   \n",
       "2021-05-01    0.001878  0.0192 -0.0319    0.001128     0.003143  0.600281   \n",
       "2021-06-01    0.001924  0.0054  0.0899    0.001125     0.003156  0.584575   \n",
       "\n",
       "            beta_b10  weight_b1  \n",
       "date                             \n",
       "1963-07-01       NaN        NaN  \n",
       "1963-08-01       NaN        NaN  \n",
       "1963-09-01       NaN        NaN  \n",
       "1963-10-01       NaN        NaN  \n",
       "1963-11-01       NaN        NaN  \n",
       "...              ...        ...  \n",
       "2021-02-01  0.509532   2.772712  \n",
       "2021-03-01  0.605917   2.804337  \n",
       "2021-04-01  1.152341   2.786882  \n",
       "2021-05-01  1.673445   2.787769  \n",
       "2021-06-01  1.640295   2.805961  \n",
       "\n",
       "[696 rows x 19 columns]"
      ]
     },
     "execution_count": 25,
     "metadata": {},
     "output_type": "execute_result"
    }
   ],
   "source": [
    "data_FF['mkt_rt_var'] = data_FF['market_return'].rolling(window=1*12).var().shift(1)\n",
    "data_FF['beta1'] = data_beta['beta1']\n",
    "data_FF['beta10'] = data_beta['beta10']\n",
    "data_FF['mkt_b1_cov'] = data_FF[['market_return', 'beta1']].rolling(window=5*12).cov().unstack()['market_return']['beta1'].shift(1)\n",
    "data_FF['mkt_b10_cov'] = data_FF[['market_return', 'beta10']].rolling(window=5*12).cov().unstack()['market_return']['beta10'].shift(1)\n",
    "data_FF['beta_b1'] = data_FF['mkt_b1_cov'] / data_FF['mkt_rt_var']\n",
    "data_FF['beta_b10'] = data_FF['mkt_b10_cov'] / data_FF['mkt_rt_var']\n",
    "data_FF['weight_b1'] = data_FF['beta_b10'] / data_FF['beta_b1']\n",
    "data_FF"
   ]
  },
  {
   "cell_type": "code",
   "execution_count": 26,
   "metadata": {},
   "outputs": [],
   "source": [
    "weight_beta10 = -1\n",
    "data_FF['ret_portfolio'] = data_FF['weight_b1'] * data_beta['beta1'] + weight_beta10 * data_beta['beta10']\n",
    "data_FF['excess_ret_portfolio'] = data_FF['ret_portfolio'] - data_FF['RF']"
   ]
  },
  {
   "cell_type": "code",
   "execution_count": 27,
   "metadata": {},
   "outputs": [
    {
     "name": "stdout",
     "output_type": "stream",
     "text": [
      "intercept: 0.006061607339072178\n",
      "coefficient: [ 0.47605328 -1.26195481  0.26296855  0.63187254  1.11758013]\n"
     ]
    }
   ],
   "source": [
    "ols = LinearRegression()\n",
    "y = data_FF['excess_ret_portfolio'].iloc[5*12:].to_numpy().reshape(-1,1)\n",
    "x = data_FF[['Mkt_RF', 'SMB', 'HML', 'RMW', 'CMA']].iloc[5*12:].to_numpy()\n",
    "ols.fit(x, y)\n",
    "print(f\"intercept: {ols.intercept_[0]}\") # intercept\n",
    "print(f\"coefficient: {ols.coef_[0]}\") # list of feature coefficients"
   ]
  },
  {
   "cell_type": "code",
   "execution_count": 28,
   "metadata": {},
   "outputs": [
    {
     "data": {
      "text/plain": [
       "0.3410750974262686"
      ]
     },
     "execution_count": 28,
     "metadata": {},
     "output_type": "execute_result"
    }
   ],
   "source": [
    "preds = ols.predict(x)\n",
    "r2_score(y, preds)"
   ]
  },
  {
   "cell_type": "code",
   "execution_count": 29,
   "metadata": {},
   "outputs": [
    {
     "name": "stdout",
     "output_type": "stream",
     "text": [
      "                            OLS Regression Results                            \n",
      "==============================================================================\n",
      "Dep. Variable:                      y   R-squared:                       0.341\n",
      "Model:                            OLS   Adj. R-squared:                  0.336\n",
      "Method:                 Least Squares   F-statistic:                     65.22\n",
      "Date:                Mon, 29 Nov 2021   Prob (F-statistic):           7.29e-55\n",
      "Time:                        23:51:40   Log-Likelihood:                 798.12\n",
      "No. Observations:                 636   AIC:                            -1584.\n",
      "Df Residuals:                     630   BIC:                            -1558.\n",
      "Df Model:                           5                                         \n",
      "Covariance Type:            nonrobust                                         \n",
      "==============================================================================\n",
      "                 coef    std err          t      P>|t|      [0.025      0.975]\n",
      "------------------------------------------------------------------------------\n",
      "const          0.0061      0.003      2.106      0.036       0.000       0.012\n",
      "x1             0.4761      0.068      6.952      0.000       0.342       0.611\n",
      "x2            -1.2620      0.100    -12.588      0.000      -1.459      -1.065\n",
      "x3             0.2630      0.128      2.061      0.040       0.012       0.513\n",
      "x4             0.6319      0.136      4.661      0.000       0.366       0.898\n",
      "x5             1.1176      0.201      5.550      0.000       0.722       1.513\n",
      "==============================================================================\n",
      "Omnibus:                        8.412   Durbin-Watson:                   1.935\n",
      "Prob(Omnibus):                  0.015   Jarque-Bera (JB):               11.159\n",
      "Skew:                           0.125   Prob(JB):                      0.00377\n",
      "Kurtosis:                       3.599   Cond. No.                         82.0\n",
      "==============================================================================\n",
      "\n",
      "Notes:\n",
      "[1] Standard Errors assume that the covariance matrix of the errors is correctly specified.\n"
     ]
    }
   ],
   "source": [
    "#for ease of readability also doing the regression with the sm.OLS function \n",
    "# sm.OLS(y, X) y:=to be predicted, X:=matrix of features \n",
    "LR = sm.OLS(\n",
    "    data_FF['excess_ret_portfolio'].iloc[5*12:].to_numpy().reshape(-1,1), \n",
    "    sm.add_constant(data_FF[['Mkt_RF', 'SMB', 'HML', 'RMW', 'CMA']].iloc[5*12:].to_numpy())\n",
    ")\n",
    "LR_results = LR.fit()\n",
    "print(LR_results.summary())"
   ]
  },
  {
   "cell_type": "code",
   "execution_count": 30,
   "metadata": {},
   "outputs": [],
   "source": [
    "trading_returns = pd.DataFrame()\n",
    "trading_returns['excess_return_mkt_nt1'] = ret_mkt_neutral_portfolio['excess_return']\n",
    "trading_returns['excess_return_mkt_rebalanced'] = data_FF['excess_ret_portfolio']\n",
    "trading_returns = trading_returns.iloc[5*12:]\n",
    "\n",
    "# calculating price dev series\n",
    "trading_returns['gross_ret_nt1'] = (trading_returns['excess_return_mkt_nt1'] + 1).shift(fill_value=100)\n",
    "trading_returns['price_dev_nt1'] = trading_returns['gross_ret_nt1'].cumprod()\n",
    "trading_returns['price_dev_log_nt1'] = trading_returns['price_dev_nt1'].apply(np.log)\n",
    "\n",
    "trading_returns['gross_ret_rebalanced'] = (trading_returns['excess_return_mkt_rebalanced'] + 1).shift(fill_value=100)\n",
    "trading_returns['price_dev_rebalanced'] = trading_returns['gross_ret_rebalanced'].cumprod()\n",
    "trading_returns['price_dev_log_rebalanced'] = trading_returns['price_dev_rebalanced'].apply(np.log)  \n"
   ]
  },
  {
   "cell_type": "code",
   "execution_count": 31,
   "metadata": {},
   "outputs": [
    {
     "data": {
      "image/png": "[encoded data removed]",
      "text/plain": [
       "<Figure size 432x288 with 1 Axes>"
      ]
     },
     "metadata": {
      "needs_background": "light"
     },
     "output_type": "display_data"
    }
   ],
   "source": [
    "plt.plot(trading_returns['price_dev_log_nt1'], label='market neutral portfolio')\n",
    "plt.plot(trading_returns['price_dev_log_rebalanced'], label=\"rebalanced market neutral portfolio\")\n",
    "plt.xlabel('Time')\n",
    "plt.ylabel('Log Price')\n",
    "plt.legend()\n",
    "plt.show()"
   ]
  }
 ],
 "metadata": {
  "kernelspec": {
   "display_name": "Python 3",
   "language": "python",
   "name": "python3"
  },
  "language_info": {
   "codemirror_mode": {
    "name": "ipython",
    "version": 3
   },
   "file_extension": ".py",
   "mimetype": "text/x-python",
   "name": "python",
   "nbconvert_exporter": "python",
   "pygments_lexer": "ipython3",
   "version": "3.8.8"
  }
 },
 "nbformat": 4,
 "nbformat_minor": 4
}
