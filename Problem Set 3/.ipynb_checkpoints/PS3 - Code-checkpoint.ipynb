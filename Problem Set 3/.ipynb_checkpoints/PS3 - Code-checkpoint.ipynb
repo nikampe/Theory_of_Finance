{
 "cells": [
  {
   "cell_type": "markdown",
   "metadata": {},
   "source": [
    "# Problem Set 3: Asset Pricing Models & Portfolio Choice"
   ]
  },
  {
   "cell_type": "markdown",
   "metadata": {},
   "source": [
    "## Task 1: Analyzing Beta Sorted Portfolios"
   ]
  },
  {
   "cell_type": "code",
   "execution_count": 1,
   "metadata": {},
   "outputs": [],
   "source": [
    "import pandas as pd\n",
    "import numpy as np\n",
    "from scipy import stats\n",
    "import pandas_datareader as web\n",
    "import datetime\n",
    "import matplotlib.pyplot as plt\n",
    "import statsmodels.api as sm\n",
    "from statsmodels.formula.api import ols\n",
    "from scipy.stats import norm, kurtosis, skew\n",
    "import datetime as dt\n",
    "from dateutil.relativedelta import relativedelta\n",
    "from sklearn.linear_model import LinearRegression"
   ]
  },
  {
   "cell_type": "markdown",
   "metadata": {},
   "source": [
    "### a)"
   ]
  },
  {
   "cell_type": "code",
   "execution_count": 2,
   "metadata": {},
   "outputs": [],
   "source": [
    "data_beta = pd.read_excel('/Users/niklaskampe/Documents/GitHub/Theory_of_Finance/Problem Set 3/PS3 - beta.xlsx')\n",
    "data_FF = pd.read_excel('/Users/niklaskampe/Documents/GitHub/Theory_of_Finance/Problem Set 3/PS3 - FF.xlsx')\n",
    "\n",
    "data_beta.set_index('date', drop = True, inplace = True)\n",
    "data_FF.set_index('date', drop = True, inplace = True)"
   ]
  },
  {
   "cell_type": "code",
   "execution_count": 3,
   "metadata": {},
   "outputs": [
    {
     "name": "stdout",
     "output_type": "stream",
     "text": [
      "                         beta1     beta2     beta3     beta4     beta5  \\\n",
      "Annual_Mean_Return    0.112186  0.109293  0.118481  0.130431  0.118619   \n",
      "Annual_Std            0.119012  0.131352  0.140925  0.158933  0.165454   \n",
      "Annual_Excess_Return  0.070293  0.067296  0.076812  0.089189  0.076955   \n",
      "Annual_Excess_Std     0.119012  0.131352  0.140925  0.158933  0.165454   \n",
      "Annual_Sharpe_Ratio   0.590637  0.512338  0.545061  0.561174  0.465116   \n",
      "\n",
      "                         beta6     beta7     beta8     beta9    beta10  \n",
      "Annual_Mean_Return    0.128726  0.114752  0.137202  0.126393  0.133314  \n",
      "Annual_Std            0.178226  0.189436  0.208976   0.23108  0.273389  \n",
      "Annual_Excess_Return  0.087423   0.07295  0.096202  0.085007  0.092175  \n",
      "Annual_Excess_Std     0.178226  0.189436  0.208976   0.23108  0.273389  \n",
      "Annual_Sharpe_Ratio   0.490519  0.385091  0.460349  0.367868  0.337157  \n"
     ]
    }
   ],
   "source": [
    "rf_adj = data_FF['RF'].to_numpy()\n",
    "statistics = pd.DataFrame(columns = data_beta.columns, index = ['Annual_Mean_Return', 'Annual_Std', 'Annual_Excess_Return', 'Annual_Excess_Std', \"Annual_Sharpe_Ratio\"])\n",
    "\n",
    "for column in data_beta.columns:\n",
    "    returns_adj = data_beta[column].to_numpy()\n",
    "    mean_return = np.mean(returns_adj) * 12\n",
    "    statistics.loc['Annual_Mean_Return', column] = mean_return\n",
    "    std = 12**0.5 * np.std(returns_adj)\n",
    "    statistics.loc['Annual_Std', column] = std\n",
    "    excess_return = np.sum(returns_adj - rf_adj)/56\n",
    "    statistics.loc['Annual_Excess_Return', column] = excess_return\n",
    "    excess_std = np.std(returns_adj)*(12**0.5)\n",
    "    statistics.loc['Annual_Excess_Std', column] = excess_std\n",
    "    sharpe_ratio = excess_return / excess_std\n",
    "    statistics.loc[\"Annual_Sharpe_Ratio\", column] = sharpe_ratio\n",
    "            \n",
    "print(statistics)"
   ]
  },
  {
   "cell_type": "markdown",
   "metadata": {},
   "source": [
    "### b)"
   ]
  },
  {
   "cell_type": "code",
   "execution_count": 4,
   "metadata": {},
   "outputs": [
    {
     "name": "stdout",
     "output_type": "stream",
     "text": [
      "                                 beta1     beta2     beta3     beta4  \\\n",
      "Annual_Mean_Return            0.112186  0.109293  0.118481  0.130431   \n",
      "Annual_Std                    0.119012  0.131352  0.140925  0.158933   \n",
      "Annual_Excess_Return          0.070293  0.067296  0.076812  0.089189   \n",
      "Annual_Excess_Std             0.119012  0.131352  0.140925  0.158933   \n",
      "Annual_Sharpe_Ratio           0.590637  0.512338  0.545061  0.561174   \n",
      "Alpha                         0.002106  0.001133  0.001294  0.001507   \n",
      "P-Value Alpha                 0.009409  0.125773  0.041734  0.012325   \n",
      "Beta                          0.609035  0.734604  0.838369  0.972658   \n",
      "P-Value Beta                       0.0       0.0       0.0       0.0   \n",
      "Coefficient Of Determination  0.622251  0.741575  0.835417  0.883997   \n",
      "\n",
      "                                 beta5     beta6     beta7     beta8  \\\n",
      "Annual_Mean_Return            0.118619  0.128726  0.114752  0.137202   \n",
      "Annual_Std                    0.165454  0.178226  0.189436  0.208976   \n",
      "Annual_Excess_Return          0.076955  0.087423   0.07295  0.096202   \n",
      "Annual_Excess_Std             0.165454  0.178226  0.189436  0.208976   \n",
      "Annual_Sharpe_Ratio           0.465116  0.490519  0.385091  0.460349   \n",
      "Alpha                         0.000242  0.000651 -0.000921  0.000322   \n",
      "P-Value Alpha                 0.678947  0.318684  0.182276  0.693145   \n",
      "Beta                          1.020709  1.095133  1.164924  1.272627   \n",
      "P-Value Beta                       0.0       0.0       0.0       0.0   \n",
      "Coefficient Of Determination  0.898389  0.891207  0.892327  0.875801   \n",
      "\n",
      "                                 beta9    beta10  \n",
      "Annual_Mean_Return            0.126393  0.133314  \n",
      "Annual_Std                     0.23108  0.273389  \n",
      "Annual_Excess_Return          0.085007  0.092175  \n",
      "Annual_Excess_Std              0.23108  0.273389  \n",
      "Annual_Sharpe_Ratio           0.367868  0.337157  \n",
      "Alpha                        -0.001243 -0.001922  \n",
      "P-Value Alpha                 0.207695  0.143884  \n",
      "Beta                          1.386714  1.602003  \n",
      "P-Value Beta                       0.0       0.0  \n",
      "Coefficient Of Determination   0.85174   0.81207  \n"
     ]
    }
   ],
   "source": [
    "data_beta_exc = pd.DataFrame(columns = ['beta1', 'beta2', 'beta3', 'beta4', 'beta5', 'beta6', 'beta7', 'beta8', 'beta9', 'beta10'], index = data_beta.index)\n",
    "\n",
    "data_beta_exc['beta1'] = data_beta['beta1'] - data_FF['RF']\n",
    "data_beta_exc['beta2'] = data_beta['beta2'] - data_FF['RF']\n",
    "data_beta_exc['beta3'] = data_beta['beta3'] - data_FF['RF']\n",
    "data_beta_exc['beta4'] = data_beta['beta4'] - data_FF['RF']\n",
    "data_beta_exc['beta5'] = data_beta['beta5'] - data_FF['RF']\n",
    "data_beta_exc['beta6'] = data_beta['beta6'] - data_FF['RF']\n",
    "data_beta_exc['beta7'] = data_beta['beta7'] - data_FF['RF']\n",
    "data_beta_exc['beta8'] = data_beta['beta8'] - data_FF['RF']\n",
    "data_beta_exc['beta9'] = data_beta['beta9'] - data_FF['RF']\n",
    "data_beta_exc['beta10'] = data_beta['beta10'] - data_FF['RF']\n",
    "\n",
    "CAPM_Stats = pd.DataFrame(columns = data_beta.columns, index =['Alpha', 'P-Value Alpha', 'Beta', 'P-Value Beta', 'Coefficient Of Determination'])\n",
    "for column in data_beta.columns:\n",
    "    LR = sm.OLS(data_beta_exc[column].to_numpy(), sm.add_constant(data_FF['Mkt_RF'].to_numpy()))\n",
    "    LR_results = LR.fit()\n",
    "    LR_results.params\n",
    "    CAPM_Stats.loc['Beta', column] = LR_results.params[1]\n",
    "    CAPM_Stats.loc['Alpha', column] = LR_results.params[0]\n",
    "    CAPM_Stats.loc['P-Value Beta', column] = LR_results.pvalues[1]\n",
    "    CAPM_Stats.loc['P-Value Alpha', column] = LR_results.pvalues[0]\n",
    "    CAPM_Stats.loc['Coefficient Of Determination', column] = LR_results.rsquared\n",
    "   \n",
    "statistics = pd.concat([statistics, CAPM_Stats])\n",
    "print(statistics)"
   ]
  },
  {
   "cell_type": "markdown",
   "metadata": {},
   "source": [
    "### c)"
   ]
  },
  {
   "cell_type": "code",
   "execution_count": 5,
   "metadata": {},
   "outputs": [
    {
     "data": {
      "image/png": "[encoded data removed]",
      "text/plain": [
       "<Figure size 432x288 with 1 Axes>"
      ]
     },
     "metadata": {
      "needs_background": "light"
     },
     "output_type": "display_data"
    },
    {
     "name": "stdout",
     "output_type": "stream",
     "text": [
      "The intercept (Risk Free Rate) is 0.02295\n",
      "The slope is 0.09839\n"
     ]
    }
   ],
   "source": [
    "statistics_t = np.transpose(statistics)\n",
    "X = np.array(statistics_t['Beta'], dtype=float)\n",
    "Y = np.array(statistics_t['Annual_Mean_Return'], dtype=float)\n",
    "plt.scatter(X,Y)\n",
    "\n",
    "b, m = np.polyfit(X, Y, 1)\n",
    "\n",
    "plt.plot(X, Y, '.', color='Blue')\n",
    "plt.plot(X, b+m * X, '-', color='Black', label = 'Security Market Line')\n",
    "plt.plot(1.0, b+m, color = 'Red', marker='*', label = 'Market Portfolio')\n",
    "plt.xlim(xmin=0.7)\n",
    "plt.legend()\n",
    "plt.ylim(ymin=0.1, ymax=0.15)\n",
    "\n",
    "plt.title('Problem 1 - Part 1 - Task c)')\n",
    "plt.xlabel('Estimated Betas')\n",
    "plt.ylabel('Annual Mean Returns')\n",
    "plt.show()\n",
    "\n",
    "print(\"The intercept (Risk Free Rate) is \" + str(round(b,5)))\n",
    "print(\"The slope is \" + str(round(m,5)))"
   ]
  },
  {
   "cell_type": "markdown",
   "metadata": {},
   "source": [
    "### d)"
   ]
  },
  {
   "cell_type": "code",
   "execution_count": 6,
   "metadata": {},
   "outputs": [
    {
     "data": {
      "image/png": "[encoded data removed]",
      "text/plain": [
       "<Figure size 432x288 with 1 Axes>"
      ]
     },
     "metadata": {
      "needs_background": "light"
     },
     "output_type": "display_data"
    }
   ],
   "source": [
    "plt.plot(statistics_t['Beta'], statistics_t['Alpha'], 'ro', color='Blue')\n",
    "\n",
    "plt.xlabel('Estimated Betas')\n",
    "plt.ylabel('Estimated Alphas')\n",
    "\n",
    "plt.title('Problem 1 - Part 1 - Task d)')\n",
    "plt.show()"
   ]
  },
  {
   "cell_type": "markdown",
   "metadata": {},
   "source": [
    "### e)"
   ]
  },
  {
   "cell_type": "code",
   "execution_count": 7,
   "metadata": {},
   "outputs": [
    {
     "data": {
      "image/png": "[encoded data removed]",
      "text/plain": [
       "<Figure size 432x288 with 1 Axes>"
      ]
     },
     "metadata": {
      "needs_background": "light"
     },
     "output_type": "display_data"
    }
   ],
   "source": [
    "plt.plot(statistics_t['Beta'], statistics_t['Coefficient Of Determination'], 'ro', color='Blue')\n",
    "\n",
    "plt.xlabel('Estimated Betas')\n",
    "plt.ylabel('Estimated R^2')\n",
    "\n",
    "plt.title('Problem 1 - Part 1 - Task e)')\n",
    "plt.show()"
   ]
  },
  {
   "cell_type": "markdown",
   "metadata": {},
   "source": [
    "### f)"
   ]
  },
  {
   "cell_type": "code",
   "execution_count": 8,
   "metadata": {},
   "outputs": [
    {
     "name": "stdout",
     "output_type": "stream",
     "text": [
      "2.630393559810556\n"
     ]
    },
    {
     "data": {
      "image/png": "[encoded data removed]",
      "text/plain": [
       "<Figure size 432x288 with 1 Axes>"
      ]
     },
     "metadata": {
      "needs_background": "light"
     },
     "output_type": "display_data"
    }
   ],
   "source": [
    "weight_beta1 = statistics_t['Beta'].iloc[9]/statistics_t['Beta'].iloc[0]\n",
    "weight_beta10 = -1\n",
    "print(weight_beta1)\n",
    "\n",
    "ret_mkt_neutral_portfolio = weight_beta1 * data_beta['beta1'] + weight_beta10 * data_beta['beta10']\n",
    "ret_mkt_neutral_portfolio = pd.DataFrame(ret_mkt_neutral_portfolio)\n",
    "ret_mkt_neutral_portfolio\n",
    "\n",
    "ret_mkt_neutral_portfolio['gross_return'] = (ret_mkt_neutral_portfolio + 1)\n",
    "ret_mkt_neutral_portfolio['gross_return_shifted'] = ret_mkt_neutral_portfolio['gross_return'].shift(fill_value=100)\n",
    "ret_mkt_neutral_portfolio['price_dev'] = ret_mkt_neutral_portfolio['gross_return_shifted'].cumprod()\n",
    "ret_mkt_neutral_portfolio['price_dev_log'] = ret_mkt_neutral_portfolio['price_dev'].apply(np.log)\n",
    "ret_mkt_neutral_portfolio\n",
    "\n",
    "data_FF['market_return'] = data_FF.Mkt_RF + data_FF.RF\n",
    "data_FF['gross_return'] = (data_FF['market_return'] + 1)\n",
    "data_FF['gross_return_shifted'] = data_FF['gross_return'].shift(fill_value=100)\n",
    "data_FF['price_dev'] = data_FF['gross_return_shifted'].cumprod()\n",
    "data_FF['price_dev_log'] = data_FF['price_dev'].apply(np.log)\n",
    "data_FF\n",
    "\n",
    "plt.plot(ret_mkt_neutral_portfolio['price_dev_log'], label='market neutral portfolio')\n",
    "plt.plot(data_FF['price_dev_log'], label=\"market portfolio\")\n",
    "plt.legend()\n",
    "plt.xlabel('Time')\n",
    "plt.ylabel('Log Price')\n",
    "plt.show()"
   ]
  },
  {
   "cell_type": "markdown",
   "metadata": {},
   "source": [
    "### g)"
   ]
  },
  {
   "cell_type": "code",
   "execution_count": 9,
   "metadata": {},
   "outputs": [
    {
     "name": "stdout",
     "output_type": "stream",
     "text": [
      "market neutral portfolio mean return: 0.0135\n",
      "market portfolio mean return: 0.0095\n",
      "market neutral portfolio sharpe ratio: 0.1238\n",
      "market portfolio sharpe ratio: 0.1309\n",
      "\n",
      "                      returns_mkt_neutral  market_return\n",
      "returns_mkt_neutral             1.000000       0.000817\n",
      "market_return                   0.000817       1.000000\n"
     ]
    }
   ],
   "source": [
    "print(f\"market neutral portfolio mean return: {round(ret_mkt_neutral_portfolio.iloc[:,0].mean(),4)}\")\n",
    "print(f\"market portfolio mean return: {round(data_FF.loc[:,'market_return'].mean(),4)}\")\n",
    "\n",
    "# sharpe ratios\n",
    "ret_mkt_neutral_portfolio['excess_return'] = ret_mkt_neutral_portfolio.iloc[:,0] - data_FF['RF']\n",
    "mkt_neutral_sharpe = ret_mkt_neutral_portfolio['excess_return'].mean() / ret_mkt_neutral_portfolio['excess_return'].std()\n",
    "mkt_sharpe = data_FF['Mkt_RF'].mean() / data_FF['Mkt_RF'].std()\n",
    "print(f\"market neutral portfolio sharpe ratio: {round(mkt_neutral_sharpe,4)}\")\n",
    "print(f\"market portfolio sharpe ratio: {round(mkt_sharpe, 4)}\")\n",
    "\n",
    "# correlation of returns\n",
    "ret_mkt_neutral_portfolio['returns_mkt_neutral'] = ret_mkt_neutral_portfolio.T.head(1).T\n",
    "correlation_df = pd.DataFrame([ret_mkt_neutral_portfolio['returns_mkt_neutral'],data_FF['market_return']]).T\n",
    "\n",
    "print('\\n', correlation_df.corr())"
   ]
  },
  {
   "cell_type": "markdown",
   "metadata": {},
   "source": [
    "### h)"
   ]
  },
  {
   "cell_type": "code",
   "execution_count": 10,
   "metadata": {},
   "outputs": [
    {
     "name": "stdout",
     "output_type": "stream",
     "text": [
      "intercept: 0.00980966672692056\n",
      "coefficient: -0.003619321886510892\n"
     ]
    }
   ],
   "source": [
    "ols = LinearRegression()\n",
    "y = ret_mkt_neutral_portfolio['excess_return'].to_numpy().reshape(-1,1)\n",
    "x = data_FF['Mkt_RF'].to_numpy().reshape(-1,1)\n",
    "ols.fit(x, y)\n",
    "print(f\"intercept: {ols.intercept_[0]}\")\n",
    "print(f\"coefficient: {ols.coef_[0][0]}\")"
   ]
  },
  {
   "cell_type": "code",
   "execution_count": 11,
   "metadata": {},
   "outputs": [
    {
     "name": "stdout",
     "output_type": "stream",
     "text": [
      "                            OLS Regression Results                            \n",
      "==============================================================================\n",
      "Dep. Variable:                      y   R-squared:                       0.000\n",
      "Model:                            OLS   Adj. R-squared:                 -0.001\n",
      "Method:                 Least Squares   F-statistic:                  0.002885\n",
      "Date:                Tue, 30 Nov 2021   Prob (F-statistic):              0.957\n",
      "Time:                        20:29:17   Log-Likelihood:                 778.97\n",
      "No. Observations:                 696   AIC:                            -1554.\n",
      "Df Residuals:                     694   BIC:                            -1545.\n",
      "Df Model:                           1                                         \n",
      "Covariance Type:            nonrobust                                         \n",
      "==============================================================================\n",
      "                 coef    std err          t      P>|t|      [0.025      0.975]\n",
      "------------------------------------------------------------------------------\n",
      "const          0.0098      0.003      3.243      0.001       0.004       0.016\n",
      "x1            -0.0036      0.067     -0.054      0.957      -0.136       0.129\n",
      "==============================================================================\n",
      "Omnibus:                       35.058   Durbin-Watson:                   1.910\n",
      "Prob(Omnibus):                  0.000   Jarque-Bera (JB):              101.515\n",
      "Skew:                          -0.143   Prob(JB):                     9.04e-23\n",
      "Kurtosis:                       4.849   Cond. No.                         22.5\n",
      "==============================================================================\n",
      "\n",
      "Notes:\n",
      "[1] Standard Errors assume that the covariance matrix of the errors is correctly specified.\n",
      "intercept: 0.00885473090262708\n",
      "coefficient: [ 0.37796855 -1.40545545  0.77405129]\n"
     ]
    },
    {
     "data": {
      "text/plain": [
       "0.3322714345663649"
      ]
     },
     "execution_count": 11,
     "metadata": {},
     "output_type": "execute_result"
    }
   ],
   "source": [
    "# CAPM regression\n",
    "LR = sm.OLS(\n",
    "    ret_mkt_neutral_portfolio['excess_return'].to_numpy(), \n",
    "    sm.add_constant(data_FF['Mkt_RF'].to_numpy())\n",
    ")\n",
    "LR_results = LR.fit()\n",
    "print(LR_results.summary())\n",
    "\n",
    "from sklearn.metrics import r2_score\n",
    "preds = ols.predict(x)\n",
    "r2_score(y, preds)\n",
    "\n",
    "ols = LinearRegression()\n",
    "y = ret_mkt_neutral_portfolio['excess_return'].to_numpy().reshape(-1,1)\n",
    "x = data_FF[['Mkt_RF', 'SMB', 'HML']].to_numpy()\n",
    "ols.fit(x, y)\n",
    "print(f\"intercept: {ols.intercept_[0]}\")\n",
    "print(f\"coefficient: {ols.coef_[0]}\")\n",
    "\n",
    "preds = ols.predict(x)\n",
    "r2_score(y, preds)"
   ]
  },
  {
   "cell_type": "code",
   "execution_count": 12,
   "metadata": {},
   "outputs": [
    {
     "name": "stdout",
     "output_type": "stream",
     "text": [
      "                            OLS Regression Results                            \n",
      "==============================================================================\n",
      "Dep. Variable:                      y   R-squared:                       0.385\n",
      "Model:                            OLS   Adj. R-squared:                  0.380\n",
      "Method:                 Least Squares   F-statistic:                     86.33\n",
      "Date:                Tue, 30 Nov 2021   Prob (F-statistic):           1.86e-70\n",
      "Time:                        20:29:18   Log-Likelihood:                 948.04\n",
      "No. Observations:                 696   AIC:                            -1884.\n",
      "Df Residuals:                     690   BIC:                            -1857.\n",
      "Df Model:                           5                                         \n",
      "Covariance Type:            nonrobust                                         \n",
      "==============================================================================\n",
      "                 coef    std err          t      P>|t|      [0.025      0.975]\n",
      "------------------------------------------------------------------------------\n",
      "const          0.0044      0.002      1.795      0.073      -0.000       0.009\n",
      "x1             0.5203      0.060      8.651      0.000       0.402       0.638\n",
      "x2            -1.2385      0.086    -14.440      0.000      -1.407      -1.070\n",
      "x3             0.3047      0.112      2.723      0.007       0.085       0.524\n",
      "x4             0.7035      0.119      5.929      0.000       0.471       0.936\n",
      "x5             1.0220      0.172      5.945      0.000       0.685       1.360\n",
      "==============================================================================\n",
      "Omnibus:                        6.629   Durbin-Watson:                   2.008\n",
      "Prob(Omnibus):                  0.036   Jarque-Bera (JB):                8.879\n",
      "Skew:                          -0.058   Prob(JB):                       0.0118\n",
      "Kurtosis:                       3.541   Cond. No.                         82.4\n",
      "==============================================================================\n",
      "\n",
      "Notes:\n",
      "[1] Standard Errors assume that the covariance matrix of the errors is correctly specified.\n",
      "\n",
      "   feature       VIF\n",
      "0  Mkt_RF       inf\n",
      "1     SMB  1.273976\n",
      "2     HML  1.936227\n",
      "3     RMW  1.221339\n",
      "4     CMA  2.129654\n"
     ]
    },
    {
     "name": "stderr",
     "output_type": "stream",
     "text": [
      "/Users/niklaskampe/opt/anaconda3/lib/python3.7/site-packages/statsmodels/stats/outliers_influence.py:193: RuntimeWarning: divide by zero encountered in double_scalars\n",
      "  vif = 1. / (1. - r_squared_i)\n"
     ]
    }
   ],
   "source": [
    "#Fama-French 5-factor regression\n",
    "LR = sm.OLS(\n",
    "    ret_mkt_neutral_portfolio['excess_return'].to_numpy(), \n",
    "    sm.add_constant(data_FF[['Mkt_RF', 'SMB', 'HML', 'RMW', 'CMA']].to_numpy())\n",
    ")\n",
    "LR_results = LR.fit()\n",
    "print(LR_results.summary())\n",
    "\n",
    "from statsmodels.stats.outliers_influence import variance_inflation_factor\n",
    "data_ff1 = data_FF.iloc[60:]\n",
    "data_ff1\n",
    "vif_data = pd.DataFrame()\n",
    "vif_data[\"feature\"] = data_FF.columns[0:5]\n",
    "vif_data[\"VIF\"] = [variance_inflation_factor(data_ff1.values, i) for i in range(len(data_ff1.columns[:5]))]\n",
    "\n",
    "print('\\n', vif_data)"
   ]
  },
  {
   "cell_type": "markdown",
   "metadata": {},
   "source": [
    "### i)"
   ]
  },
  {
   "cell_type": "code",
   "execution_count": 13,
   "metadata": {},
   "outputs": [
    {
     "name": "stdout",
     "output_type": "stream",
     "text": [
      "intercept: 0.0060616073390721776\n",
      "coefficient: [ 0.47605328 -1.26195481  0.26296855  0.63187254  1.11758013]\n",
      "\n",
      "                            OLS Regression Results                            \n",
      "==============================================================================\n",
      "Dep. Variable:                      y   R-squared:                       0.341\n",
      "Model:                            OLS   Adj. R-squared:                  0.336\n",
      "Method:                 Least Squares   F-statistic:                     65.22\n",
      "Date:                Tue, 30 Nov 2021   Prob (F-statistic):           7.29e-55\n",
      "Time:                        20:29:23   Log-Likelihood:                 798.12\n",
      "No. Observations:                 636   AIC:                            -1584.\n",
      "Df Residuals:                     630   BIC:                            -1558.\n",
      "Df Model:                           5                                         \n",
      "Covariance Type:            nonrobust                                         \n",
      "==============================================================================\n",
      "                 coef    std err          t      P>|t|      [0.025      0.975]\n",
      "------------------------------------------------------------------------------\n",
      "const          0.0061      0.003      2.106      0.036       0.000       0.012\n",
      "x1             0.4761      0.068      6.952      0.000       0.342       0.611\n",
      "x2            -1.2620      0.100    -12.588      0.000      -1.459      -1.065\n",
      "x3             0.2630      0.128      2.061      0.040       0.012       0.513\n",
      "x4             0.6319      0.136      4.661      0.000       0.366       0.898\n",
      "x5             1.1176      0.201      5.550      0.000       0.722       1.513\n",
      "==============================================================================\n",
      "Omnibus:                        8.412   Durbin-Watson:                   1.935\n",
      "Prob(Omnibus):                  0.015   Jarque-Bera (JB):               11.159\n",
      "Skew:                           0.125   Prob(JB):                      0.00377\n",
      "Kurtosis:                       3.599   Cond. No.                         82.0\n",
      "==============================================================================\n",
      "\n",
      "Notes:\n",
      "[1] Standard Errors assume that the covariance matrix of the errors is correctly specified.\n"
     ]
    }
   ],
   "source": [
    "data_FF['mkt_rt_var'] = data_FF['market_return'].rolling(window=1*12).var().shift(1)\n",
    "data_FF['beta1'] = data_beta['beta1']\n",
    "data_FF['beta10'] = data_beta['beta10']\n",
    "data_FF['mkt_b1_cov'] = data_FF[['market_return', 'beta1']].rolling(window=5*12).cov().unstack()['market_return']['beta1'].shift(1)\n",
    "data_FF['mkt_b10_cov'] = data_FF[['market_return', 'beta10']].rolling(window=5*12).cov().unstack()['market_return']['beta10'].shift(1)\n",
    "data_FF['beta_b1'] = data_FF['mkt_b1_cov'] / data_FF['mkt_rt_var']\n",
    "data_FF['beta_b10'] = data_FF['mkt_b10_cov'] / data_FF['mkt_rt_var']\n",
    "data_FF['weight_b1'] = data_FF['beta_b10'] / data_FF['beta_b1']\n",
    "data_FF\n",
    "\n",
    "weight_beta10 = -1\n",
    "data_FF['ret_portfolio'] = data_FF['weight_b1'] * data_beta['beta1'] + weight_beta10 * data_beta['beta10']\n",
    "data_FF['excess_ret_portfolio'] = data_FF['ret_portfolio'] - data_FF['RF']\n",
    "\n",
    "ols = LinearRegression()\n",
    "y = data_FF['excess_ret_portfolio'].iloc[5*12:].to_numpy().reshape(-1,1)\n",
    "x = data_FF[['Mkt_RF', 'SMB', 'HML', 'RMW', 'CMA']].iloc[5*12:].to_numpy()\n",
    "ols.fit(x, y)\n",
    "print(f\"intercept: {ols.intercept_[0]}\")\n",
    "print(f\"coefficient: {ols.coef_[0]}\\n\")\n",
    "\n",
    "preds = ols.predict(x)\n",
    "r2_score(y, preds)\n",
    " \n",
    "LR = sm.OLS(\n",
    "    data_FF['excess_ret_portfolio'].iloc[5*12:].to_numpy().reshape(-1,1), \n",
    "    sm.add_constant(data_FF[['Mkt_RF', 'SMB', 'HML', 'RMW', 'CMA']].iloc[5*12:].to_numpy())\n",
    ")\n",
    "LR_results = LR.fit()\n",
    "print(LR_results.summary())\n",
    "\n",
    "trading_returns = pd.DataFrame()\n",
    "trading_returns['excess_return_mkt_nt1'] = ret_mkt_neutral_portfolio['excess_return']\n",
    "trading_returns['excess_return_mkt_rebalanced'] = data_FF['excess_ret_portfolio']\n",
    "trading_returns = trading_returns.iloc[5*12:]\n",
    "\n",
    "# calculating price dev series\n",
    "trading_returns['gross_ret_nt1'] = (trading_returns['excess_return_mkt_nt1'] + 1).shift(fill_value=100)\n",
    "trading_returns['price_dev_nt1'] = trading_returns['gross_ret_nt1'].cumprod()\n",
    "trading_returns['price_dev_log_nt1'] = trading_returns['price_dev_nt1'].apply(np.log)\n",
    "\n",
    "trading_returns['gross_ret_rebalanced'] = (trading_returns['excess_return_mkt_rebalanced'] + 1).shift(fill_value=100)\n",
    "trading_returns['price_dev_rebalanced'] = trading_returns['gross_ret_rebalanced'].cumprod()\n",
    "trading_returns['price_dev_log_rebalanced'] = trading_returns['price_dev_rebalanced'].apply(np.log)  "
   ]
  },
  {
   "cell_type": "code",
   "execution_count": 14,
   "metadata": {},
   "outputs": [
    {
     "data": {
      "image/png": "[encoded data removed]",
      "text/plain": [
       "<Figure size 432x288 with 1 Axes>"
      ]
     },
     "metadata": {
      "needs_background": "light"
     },
     "output_type": "display_data"
    }
   ],
   "source": [
    "plt.plot(trading_returns['price_dev_log_nt1'], label='market neutral portfolio')\n",
    "plt.plot(trading_returns['price_dev_log_rebalanced'], label=\"rebalanced market neutral portfolio\")\n",
    "plt.xlabel('Time')\n",
    "plt.ylabel('Log Price')\n",
    "plt.legend()\n",
    "plt.show()"
   ]
  },
  {
   "cell_type": "markdown",
   "metadata": {},
   "source": [
    "## Task 2: Factor Rotation"
   ]
  },
  {
   "cell_type": "code",
   "execution_count": 15,
   "metadata": {},
   "outputs": [
    {
     "name": "stdout",
     "output_type": "stream",
     "text": [
      "                 BAB     Value     SCMOM       ESG\n",
      "date                                              \n",
      "2007-02-01  0.011585  0.005022 -0.013237 -0.011084\n",
      "2007-03-01  0.000846 -0.005905  0.009177 -0.006934\n",
      "2007-04-01  0.008725 -0.006900  0.023327  0.007987\n",
      "2007-05-01 -0.010261  0.000491  0.030624 -0.000297\n",
      "2007-06-01  0.007980 -0.011853 -0.018795  0.007081\n",
      "2007-07-01 -0.007201 -0.044555 -0.060200  0.007311\n",
      "2007-08-01 -0.029174 -0.017508  0.018057  0.009230\n",
      "2007-09-01  0.014085 -0.028185  0.030332 -0.015039\n",
      "2007-10-01  0.002138 -0.051607  0.040962 -0.012462\n",
      "2007-11-01 -0.040495 -0.017460 -0.083144  0.012921\n"
     ]
    }
   ],
   "source": [
    "data_factors = pd.read_csv('/Users/niklaskampe/Documents/GitHub/Theory_of_Finance/Problem Set 3/PS3 - AQR.csv', delimiter = ',', index_col = 'date')\n",
    "data_factors.index = pd.to_datetime(data_factors.index, format = '%d.%m.%Y', yearfirst = True)\n",
    "print(data_factors.head(n = 10))"
   ]
  },
  {
   "cell_type": "code",
   "execution_count": 16,
   "metadata": {},
   "outputs": [
    {
     "name": "stdout",
     "output_type": "stream",
     "text": [
      "            BAB (log)  Value (log)  SCMOM (log)  ESG (log)\n",
      "date                                                      \n",
      "2007-02-01   0.011519     0.005009    -0.013325  -0.011146\n",
      "2007-03-01   0.000846    -0.005923     0.009135  -0.006959\n",
      "2007-04-01   0.008687    -0.006923     0.023059   0.007955\n",
      "2007-05-01  -0.010314     0.000491     0.030164  -0.000297\n",
      "2007-06-01   0.007948    -0.011923    -0.018974   0.007056\n",
      "2007-07-01  -0.007227    -0.045578    -0.062088   0.007285\n",
      "2007-08-01  -0.029608    -0.017663     0.017896   0.009188\n",
      "2007-09-01   0.013986    -0.028590     0.029881  -0.015153\n",
      "2007-10-01   0.002136    -0.052987     0.040145  -0.012540\n",
      "2007-11-01  -0.041338    -0.017614    -0.086805   0.012838\n"
     ]
    }
   ],
   "source": [
    "data_factors_log = pd.DataFrame(index = data_factors.index)\n",
    "for column in data_factors.columns:\n",
    "    data_factors_log[f'{column} (log)'] = np.log(data_factors[column] + 1)\n",
    "print(data_factors_log.head(n = 10))"
   ]
  },
  {
   "cell_type": "code",
   "execution_count": 19,
   "metadata": {},
   "outputs": [
    {
     "name": "stdout",
     "output_type": "stream",
     "text": [
      "                RF  RF (log)\n",
      "date                        \n",
      "2007-02-01  0.0038  0.003793\n",
      "2007-03-01  0.0043  0.004291\n",
      "2007-04-01  0.0044  0.004390\n",
      "2007-05-01  0.0041  0.004092\n",
      "2007-06-01  0.0040  0.003992\n",
      "2007-07-01  0.0040  0.003992\n",
      "2007-08-01  0.0042  0.004191\n",
      "2007-09-01  0.0032  0.003195\n",
      "2007-10-01  0.0032  0.003195\n",
      "2007-11-01  0.0034  0.003394\n"
     ]
    }
   ],
   "source": [
    "data_rf = pd.read_csv('/Users/niklaskampe/Documents/GitHub/Theory_of_Finance/Problem Set 3/ToF_2021_data_PS-3_FF.csv', delimiter = ',', index_col = 'date')\n",
    "data_rf.index = pd.to_datetime(data_rf.index, format = '%Y-%m-%d', yearfirst = True)\n",
    "data_rf = data_rf[data_rf.index >= data_factors.index[0]]\n",
    "data_rf['RF (log)'] = np.log(data_rf['RF'] + 1)\n",
    "data_rf = data_rf[['RF', 'RF (log)']]\n",
    "print(data_rf.head(n = 10))"
   ]
  },
  {
   "cell_type": "markdown",
   "metadata": {},
   "source": [
    "### a)"
   ]
  },
  {
   "cell_type": "markdown",
   "metadata": {},
   "source": [
    "see solution sheet"
   ]
  },
  {
   "cell_type": "markdown",
   "metadata": {},
   "source": [
    "### b)"
   ]
  },
  {
   "cell_type": "code",
   "execution_count": 20,
   "metadata": {},
   "outputs": [
    {
     "name": "stdout",
     "output_type": "stream",
     "text": [
      "                 BAB     Value     SCMOM       ESG      RF\n",
      "date                                                      \n",
      "2007-02-01  0.011585  0.005022 -0.013237 -0.011084  0.0038\n",
      "2007-03-01  0.000846 -0.005905  0.009177 -0.006934  0.0043\n",
      "2007-04-01  0.008725 -0.006900  0.023327  0.007987  0.0044\n",
      "2007-05-01 -0.010261  0.000491  0.030624 -0.000297  0.0041\n",
      "2007-06-01  0.007980 -0.011853 -0.018795  0.007081  0.0040\n",
      "2007-07-01 -0.007201 -0.044555 -0.060200  0.007311  0.0040\n",
      "2007-08-01 -0.029174 -0.017508  0.018057  0.009230  0.0042\n",
      "2007-09-01  0.014085 -0.028185  0.030332 -0.015039  0.0032\n",
      "2007-10-01  0.002138 -0.051607  0.040962 -0.012462  0.0032\n",
      "2007-11-01 -0.040495 -0.017460 -0.083144  0.012921  0.0034\n",
      "            BAB (log)  Value (log)  SCMOM (log)  ESG (log)  RF (log)\n",
      "date                                                                \n",
      "2007-02-01   0.011519     0.005009    -0.013325  -0.011146  0.003793\n",
      "2007-03-01   0.000846    -0.005923     0.009135  -0.006959  0.004291\n",
      "2007-04-01   0.008687    -0.006923     0.023059   0.007955  0.004390\n",
      "2007-05-01  -0.010314     0.000491     0.030164  -0.000297  0.004092\n",
      "2007-06-01   0.007948    -0.011923    -0.018974   0.007056  0.003992\n",
      "2007-07-01  -0.007227    -0.045578    -0.062088   0.007285  0.003992\n",
      "2007-08-01  -0.029608    -0.017663     0.017896   0.009188  0.004191\n",
      "2007-09-01   0.013986    -0.028590     0.029881  -0.015153  0.003195\n",
      "2007-10-01   0.002136    -0.052987     0.040145  -0.012540  0.003195\n",
      "2007-11-01  -0.041338    -0.017614    -0.086805   0.012838  0.003394\n"
     ]
    }
   ],
   "source": [
    "data_merged_discrete = pd.concat([data_factors, data_rf[['RF']]], axis = 1)\n",
    "print(data_merged_discrete.head(n = 10))\n",
    "data_merged = pd.concat([data_factors_log, data_rf[['RF (log)']]], axis = 1)\n",
    "print(data_merged.head(n = 10))"
   ]
  },
  {
   "cell_type": "code",
   "execution_count": 21,
   "metadata": {},
   "outputs": [],
   "source": [
    "risk_aversion = 50\n",
    "\n",
    "total_weights = np.array([0, 0, 0, 0, 0])\n",
    "dates = []\n",
    "for i in data_factors_log.index:\n",
    "    if i < data_merged.index[0] + relativedelta(years = 2):\n",
    "        continue\n",
    "    else:\n",
    "        dates.append(i)\n",
    "        mu_rf = data_merged.loc[i-relativedelta(years = 2):i,'RF (log)'].mean()\n",
    "        mu_risky_excess = 1/4 * (data_merged.loc[i-relativedelta(years = 2):i,'BAB (log)'].mean() + data_merged.loc[i-relativedelta(years = 2):i,'Value (log)'].mean() + data_merged.loc[i-relativedelta(years = 2):i,'SCMOM (log)'].mean() +data_merged.loc[i-relativedelta(years = 2):i,'ESG (log)'].mean()) - mu_rf\n",
    "        cond_var_cov_matrix = data_merged.loc[i-relativedelta(years = 2):i,'BAB (log)':'ESG (log)'].cov().to_numpy()\n",
    "        cond_var_vector = np.diag(cond_var_cov_matrix)\n",
    "        weights_risky = ((1/risk_aversion) * (np.linalg.pinv(cond_var_cov_matrix)) * ((mu_risky_excess + 0.5*cond_var_vector - mu_rf)))[0]\n",
    "        weight_rf = 1 - np.sum(weights_risky)\n",
    "        weights = np.append(weights_risky, weight_rf)\n",
    "        total_weights = np.vstack((total_weights, weights))\n",
    "total_weights = total_weights[1:]"
   ]
  },
  {
   "cell_type": "code",
   "execution_count": 22,
   "metadata": {},
   "outputs": [
    {
     "data": {
      "image/png": "[encoded data removed]",
      "text/plain": [
       "<Figure size 1152x576 with 1 Axes>"
      ]
     },
     "metadata": {
      "needs_background": "light"
     },
     "output_type": "display_data"
    }
   ],
   "source": [
    "dates_adjusted = []\n",
    "for date in dates:\n",
    "    if date.strftime('%m') == '01':\n",
    "        dates_adjusted.append(date.strftime('%Y'))\n",
    "    else:\n",
    "        dates_adjusted.append('')\n",
    "\n",
    "df = pd.DataFrame(index = dates_adjusted, columns = ['w (BAB)', 'w (Value)', 'w (SCMOM)', 'w (ESG)', 'w (RF)'], data = total_weights)\n",
    "\n",
    "df.plot(kind = 'bar', stacked = True, figsize = (16,8), use_index = True)\n",
    "plt.title('Weight Development', size = 16)\n",
    "plt.ylabel('Weight', size = 14)\n",
    "plt.legend()\n",
    "plt.show()"
   ]
  },
  {
   "cell_type": "markdown",
   "metadata": {},
   "source": [
    "### c)"
   ]
  },
  {
   "cell_type": "code",
   "execution_count": 23,
   "metadata": {},
   "outputs": [
    {
     "name": "stdout",
     "output_type": "stream",
     "text": [
      "Mean Return: 0.45%\n",
      "Volatility: 0.86%\n",
      "Sharpe Ratio: 46.3%\n"
     ]
    }
   ],
   "source": [
    "returns = []\n",
    "excess_returns = []\n",
    "\n",
    "for i in range(0, len(df.index)):\n",
    "    monthly_return = 0\n",
    "    for j in range(0, len(df.columns)):\n",
    "        monthly_return_asset = total_weights[i][j] * data_merged_discrete.iloc[i, j]\n",
    "        monthly_return += monthly_return_asset\n",
    "    monthly_excess_return = monthly_return - data_merged_discrete.iloc[i, 4]\n",
    "    returns.append(monthly_return)\n",
    "    excess_returns.append(monthly_excess_return)\n",
    "\n",
    "mean_return = np.mean(returns)\n",
    "mean_excess_return = np.mean(excess_returns)\n",
    "std = (np.var(returns))**0.5\n",
    "excess_std = (np.var(excess_returns))**0.5 \n",
    "sr = (mean_excess_return)/excess_std\n",
    "\n",
    "print(f'Mean Return: {round(mean_return*100, 2)}%')\n",
    "print(f'Volatility: {round(std*100, 2)}%')\n",
    "print(f'Sharpe Ratio: {round(sr*100, 2)}%') "
   ]
  },
  {
   "cell_type": "code",
   "execution_count": 24,
   "metadata": {},
   "outputs": [
    {
     "name": "stdout",
     "output_type": "stream",
     "text": [
      "                            OLS Regression Results                            \n",
      "==============================================================================\n",
      "Dep. Variable:                      y   R-squared:                       0.068\n",
      "Model:                            OLS   Adj. R-squared:                  0.028\n",
      "Method:                 Least Squares   F-statistic:                     1.694\n",
      "Date:                Tue, 30 Nov 2021   Prob (F-statistic):              0.142\n",
      "Time:                        20:32:20   Log-Likelihood:                 411.08\n",
      "No. Observations:                 122   AIC:                            -810.2\n",
      "Df Residuals:                     116   BIC:                            -793.3\n",
      "Df Model:                           5                                         \n",
      "Covariance Type:            nonrobust                                         \n",
      "==============================================================================\n",
      "                 coef    std err          t      P>|t|      [0.025      0.975]\n",
      "------------------------------------------------------------------------------\n",
      "const          0.0043      0.001      5.168      0.000       0.003       0.006\n",
      "x1            -0.0340      0.022     -1.580      0.117      -0.077       0.009\n",
      "x2             0.0596      0.039      1.543      0.125      -0.017       0.136\n",
      "x3             0.0111      0.034      0.321      0.748      -0.057       0.079\n",
      "x4             0.0388      0.052      0.749      0.455      -0.064       0.141\n",
      "x5            -0.1380      0.060     -2.307      0.023      -0.256      -0.020\n",
      "==============================================================================\n",
      "Omnibus:                       41.547   Durbin-Watson:                   1.533\n",
      "Prob(Omnibus):                  0.000   Jarque-Bera (JB):               90.741\n",
      "Skew:                           1.394   Prob(JB):                     1.98e-20\n",
      "Kurtosis:                       6.174   Cond. No.                         82.7\n",
      "==============================================================================\n",
      "\n",
      "Notes:\n",
      "[1] Standard Errors assume that the covariance matrix of the errors is correctly specified.\n"
     ]
    }
   ],
   "source": [
    "data_FF_adj = data_FF.iloc[574:,:]\n",
    "FF5 = sm.OLS(excess_returns, sm.add_constant(data_FF_adj[['Mkt_RF', 'SMB', 'HML', 'RMW', 'CMA']].to_numpy()))\n",
    "FF5_results = FF5.fit()\n",
    "print(FF5_results.summary())"
   ]
  },
  {
   "cell_type": "code",
   "execution_count": null,
   "metadata": {},
   "outputs": [],
   "source": []
  }
 ],
 "metadata": {
  "kernelspec": {
   "display_name": "Python 3",
   "language": "python",
   "name": "python3"
  },
  "language_info": {
   "codemirror_mode": {
    "name": "ipython",
    "version": 3
   },
   "file_extension": ".py",
   "mimetype": "text/x-python",
   "name": "python",
   "nbconvert_exporter": "python",
   "pygments_lexer": "ipython3",
   "version": "3.7.6"
  }
 },
 "nbformat": 4,
 "nbformat_minor": 4
}
