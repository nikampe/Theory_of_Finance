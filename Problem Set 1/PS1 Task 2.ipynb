{
 "cells": [
  {
   "cell_type": "markdown",
   "id": "19d104dc",
   "metadata": {},
   "source": [
    "# Diversification Effect"
   ]
  },
  {
   "cell_type": "code",
   "execution_count": 2,
   "id": "9e47cd92",
   "metadata": {},
   "outputs": [],
   "source": [
    "import pandas as pd\n",
    "import numpy as np\n",
    "import matplotlib.pyplot as plt"
   ]
  },
  {
   "cell_type": "code",
   "execution_count": 10,
   "id": "83d6fdbe",
   "metadata": {},
   "outputs": [
    {
     "name": "stdout",
     "output_type": "stream",
     "text": [
      "            DEUTSCHE_BANK   ALLIANZ      BASF   SIEMENS       BMW     BAYER  \\\n",
      "Unnamed: 0                                                                    \n",
      "1996-08-23       0.005421  0.035851  0.085921  0.023022  0.018961  0.062685   \n",
      "1996-09-23      -0.029687 -0.004419  0.082109  0.003933  0.011622  0.038204   \n",
      "1996-10-23      -0.004588  0.029361  0.029044  0.011900  0.033911  0.042568   \n",
      "1996-11-23      -0.003359  0.007230  0.085472 -0.104982  0.039467  0.019031   \n",
      "1996-12-23       0.000293 -0.003587  0.113851 -0.001529  0.128339  0.032261   \n",
      "\n",
      "                E_ON       RWE    HENKEL       SAP  \n",
      "Unnamed: 0                                          \n",
      "1996-08-23  0.027119  0.030107  0.015875  0.106914  \n",
      "1996-09-23  0.015450  0.031968  0.015520  0.063693  \n",
      "1996-10-23  0.057710  0.146010  0.027635 -0.176907  \n",
      "1996-11-23  0.035129  0.027803  0.126821 -0.048978  \n",
      "1996-12-23  0.023631 -0.012378 -0.026487  0.075002  \n"
     ]
    }
   ],
   "source": [
    "#Calculate %returns and delete first nan-row\n",
    "returns = df.pct_change()\n",
    "returns = returns.iloc[1:,:]\n",
    "stocks_std = (df.std())\n",
    "print(returns.head(n=5))"
   ]
  },
  {
   "cell_type": "markdown",
   "id": "6d368c08",
   "metadata": {},
   "source": [
    "# b) "
   ]
  },
  {
   "cell_type": "code",
   "execution_count": 6,
   "id": "c988fec2",
   "metadata": {},
   "outputs": [
    {
     "name": "stdout",
     "output_type": "stream",
     "text": [
      "            DEUTSCHE_BANK  ALLIANZ     BASF  SIEMENS      BMW    BAYER  \\\n",
      "Unnamed: 0                                                               \n",
      "1996-07-23         634.54  2343.88   786.42   661.11  1729.32  1228.37   \n",
      "1996-08-23         637.98  2427.91   853.99   676.33  1762.11  1305.37   \n",
      "1996-09-23         619.04  2417.18   924.11   678.99  1782.59  1355.24   \n",
      "1996-10-23         616.20  2488.15   950.95   687.07  1843.04  1412.93   \n",
      "1996-11-23         614.13  2506.14  1032.23   614.94  1915.78  1439.82   \n",
      "\n",
      "               E_ON      RWE  HENKEL      SAP  \n",
      "Unnamed: 0                                     \n",
      "1996-07-23  1560.87  1179.47   92.60  1969.43  \n",
      "1996-08-23  1603.20  1214.98   94.07  2179.99  \n",
      "1996-09-23  1627.97  1253.82   95.53  2318.84  \n",
      "1996-10-23  1721.92  1436.89   98.17  1908.62  \n",
      "1996-11-23  1782.41  1476.84  110.62  1815.14  \n"
     ]
    }
   ],
   "source": [
    "#laod data\n",
    "df = pd.read_csv(r\"C:\\Users\\Cyril\\.spyder-py3\\ps1_data.csv\")\n",
    "df = df.set_index('Unnamed: 0')\n",
    "print(df.head(n=5))\n"
   ]
  },
  {
   "cell_type": "code",
   "execution_count": 26,
   "id": "5e82eb0b",
   "metadata": {},
   "outputs": [
    {
     "name": "stdout",
     "output_type": "stream",
     "text": [
      "DEUTSCHE_BANK    0.123125\n",
      "SAP              0.101566\n",
      "ALLIANZ          0.101044\n",
      "SIEMENS          0.097924\n",
      "BMW              0.093502\n",
      "RWE              0.089498\n",
      "BAYER            0.085710\n",
      "BASF             0.081873\n",
      "E_ON             0.077994\n",
      "HENKEL           0.064351\n",
      "dtype: float64\n"
     ]
    }
   ],
   "source": [
    "#Calculate return standard deviation and sort from high to low\n",
    "return_std = return_std.sort_values(ascending=False)\n",
    "print(return_std)\n",
    "v_return_std = np.array(return_std)"
   ]
  },
  {
   "cell_type": "code",
   "execution_count": 11,
   "id": "93a2bb51",
   "metadata": {},
   "outputs": [],
   "source": [
    "#We create the ten Portfolios and the Returns of the Portfolios\n",
    "#Portfolio Stocks\n",
    "df1 = df[['DEUTSCHE_BANK']]\n",
    "df2 = df[['DEUTSCHE_BANK', \"SAP\"]]\n",
    "df3 = df[['DEUTSCHE_BANK', \"SAP\", \"ALLIANZ\"]]\n",
    "df4 = df[['DEUTSCHE_BANK', \"SAP\", \"ALLIANZ\", \"SIEMENS\"]]\n",
    "df5 = df[['DEUTSCHE_BANK', \"SAP\", \"ALLIANZ\", \"SIEMENS\", \"BMW\"]]\n",
    "df6 = df[['DEUTSCHE_BANK', \"SAP\", \"ALLIANZ\", \"SIEMENS\", \"BMW\", \"RWE\"]]\n",
    "df7 = df[['DEUTSCHE_BANK', \"SAP\", \"ALLIANZ\", \"SIEMENS\", \"BMW\", \"RWE\", \"BAYER\"]]\n",
    "df8 = df[['DEUTSCHE_BANK', \"SAP\", \"ALLIANZ\", \"SIEMENS\", \"BMW\", \"RWE\", \"BAYER\", \"BASF\"]]\n",
    "df9 = df[['DEUTSCHE_BANK', \"SAP\", \"ALLIANZ\", \"SIEMENS\", \"BMW\", \"RWE\", \"BAYER\", \"BASF\", \"E_ON\"]]\n",
    "df10 = df[['DEUTSCHE_BANK', \"SAP\", \"ALLIANZ\", \"SIEMENS\", \"BMW\", \"RWE\", \"BAYER\", \"BASF\", \"E_ON\", \"HENKEL\"]]\n",
    "\n",
    "#Portfolio Stock Returns\n",
    "rdf1 = returns[['DEUTSCHE_BANK']]\n",
    "rdf2 = returns[['DEUTSCHE_BANK', \"SAP\"]]\n",
    "rdf3 = returns[['DEUTSCHE_BANK', \"SAP\", \"ALLIANZ\"]]\n",
    "rdf4 = returns[['DEUTSCHE_BANK', \"SAP\", \"ALLIANZ\", \"SIEMENS\"]]\n",
    "rdf5 = returns[['DEUTSCHE_BANK', \"SAP\", \"ALLIANZ\", \"SIEMENS\", \"BMW\"]]\n",
    "rdf6 = returns[['DEUTSCHE_BANK', \"SAP\", \"ALLIANZ\", \"SIEMENS\", \"BMW\", \"RWE\"]]\n",
    "rdf7 = returns[['DEUTSCHE_BANK', \"SAP\", \"ALLIANZ\", \"SIEMENS\", \"BMW\", \"RWE\", \"BAYER\"]]\n",
    "rdf8 = returns[['DEUTSCHE_BANK', \"SAP\", \"ALLIANZ\", \"SIEMENS\", \"BMW\", \"RWE\", \"BAYER\", \"BASF\"]]\n",
    "rdf9 = returns[['DEUTSCHE_BANK', \"SAP\", \"ALLIANZ\", \"SIEMENS\", \"BMW\", \"RWE\", \"BAYER\", \"BASF\", \"E_ON\"]]\n",
    "rdf10 = returns[['DEUTSCHE_BANK', \"SAP\", \"ALLIANZ\", \"SIEMENS\", \"BMW\", \"RWE\", \"BAYER\", \"BASF\", \"E_ON\", \"HENKEL\"]]"
   ]
  },
  {
   "cell_type": "code",
   "execution_count": 30,
   "id": "1c97e4f8",
   "metadata": {},
   "outputs": [],
   "source": [
    "#Calculation of the Mean Standard Deviation\n",
    "rstd1 = (rdf1.std())\n",
    "rstd1_mean = rstd1\n",
    "rstd2 = (rdf2.std())\n",
    "rstd2_mean = rstd2.mean()\n",
    "rstd3 = (rdf3.std())\n",
    "rstd3_mean = rstd3.mean()\n",
    "rstd4 = (rdf4.std())\n",
    "rstd4_mean = rstd4.mean()\n",
    "rstd5 = (rdf5.std())\n",
    "rstd5_mean = rstd5.mean()\n",
    "rstd6 = (rdf6.std())\n",
    "rstd6_mean = rstd6.mean()\n",
    "rstd7 = (rdf7.std())\n",
    "rstd7_mean = rstd7.mean()\n",
    "rstd8 = (rdf8.std())\n",
    "rstd8_mean = rstd8.mean()\n",
    "rstd9 = (rdf9.std())\n",
    "rstd9_mean = rstd9.mean()\n",
    "rstd10 = (rdf10.std())\n",
    "rstd10_mean = rstd10.mean()"
   ]
  },
  {
   "cell_type": "code",
   "execution_count": 31,
   "id": "87e8fb5c",
   "metadata": {},
   "outputs": [],
   "source": [
    "#Calculation of the Covariance Matrix\n",
    "cov_matrix2 = df2.pct_change().cov()\n",
    "cov_matrix3 = df3.pct_change().cov()\n",
    "cov_matrix4 = df4.pct_change().cov()\n",
    "cov_matrix5 = df5.pct_change().cov()\n",
    "cov_matrix6 = df6.pct_change().cov()\n",
    "cov_matrix7 = df7.pct_change().cov()\n",
    "cov_matrix8 = df8.pct_change().cov()\n",
    "cov_matrix9 = df9.pct_change().cov()\n",
    "cov_matrix10 = df10.pct_change().cov()\n"
   ]
  },
  {
   "cell_type": "code",
   "execution_count": 32,
   "id": "18c1edef",
   "metadata": {},
   "outputs": [],
   "source": [
    "#Adjust weights to create an equally weighted PF\n",
    "\n",
    "w2 = np.array([1/2, 1/2])\n",
    "w3 = np.array([1/3, 1/3, 1/3])\n",
    "w4 = np.array([1/4, 1/4, 1/4, 1/4])\n",
    "w5 = np.array([1/5, 1/5, 1/5, 1/5, 1/5])\n",
    "w6 = np.array([1/6, 1/6, 1/6, 1/6, 1/6, 1/6])\n",
    "w7 = np.array([1/7, 1/7, 1/7, 1/7, 1/7, 1/7, 1/7])\n",
    "w8 = np.array([1/8, 1/8, 1/8, 1/8, 1/8, 1/8, 1/8, 1/8])\n",
    "w9 = np.array([1/9, 1/9, 1/9, 1/9, 1/9, 1/9, 1/9, 1/9, 1/9])\n",
    "w10 = np.array([1/10, 1/10, 1/10, 1/10, 1/10, 1/10, 1/10, 1/10, 1/10, 1/10])\n"
   ]
  },
  {
   "cell_type": "code",
   "execution_count": 33,
   "id": "caed05be",
   "metadata": {},
   "outputs": [],
   "source": [
    "#Calculate the Portfolio Standard Deviation\n",
    "PF2_var = np.dot(w2.T, np.dot(cov_matrix2, w2))\n",
    "PF2_Std = np.sqrt(PF2_var)\n",
    "PF3_var = np.dot(w3.T, np.dot(cov_matrix3, w3))\n",
    "PF3_Std = np.sqrt(PF3_var)\n",
    "PF4_var = np.dot(w4.T, np.dot(cov_matrix4, w4))\n",
    "PF4_Std = np.sqrt(PF4_var)\n",
    "PF5_var = np.dot(w5.T, np.dot(cov_matrix5, w5))\n",
    "PF5_Std = np.sqrt(PF5_var)\n",
    "PF6_var = np.dot(w6.T, np.dot(cov_matrix6, w6))\n",
    "PF6_Std = np.sqrt(PF6_var)\n",
    "PF7_var = np.dot(w7.T, np.dot(cov_matrix7, w7))\n",
    "PF7_Std = np.sqrt(PF7_var)\n",
    "PF8_var = np.dot(w8.T, np.dot(cov_matrix8, w8))\n",
    "PF8_Std = np.sqrt(PF8_var)\n",
    "PF9_var = np.dot(w9.T, np.dot(cov_matrix9, w9))\n",
    "PF9_Std = np.sqrt(PF9_var)\n",
    "PF10_var = np.dot(w10.T, np.dot(cov_matrix10, w10))\n",
    "PF10_Std = np.sqrt(PF10_var)"
   ]
  },
  {
   "cell_type": "markdown",
   "id": "8f3349a6",
   "metadata": {},
   "source": [
    "# c)"
   ]
  },
  {
   "cell_type": "code",
   "execution_count": 34,
   "id": "5095c23d",
   "metadata": {},
   "outputs": [
    {
     "data": {
      "image/png": "[encoded data removed]",
      "text/plain": [
       "<Figure size 432x288 with 1 Axes>"
      ]
     },
     "metadata": {
      "needs_background": "light"
     },
     "output_type": "display_data"
    },
    {
     "data": {
      "image/png": "[encoded data removed]",
      "text/plain": [
       "<Figure size 432x288 with 2 Axes>"
      ]
     },
     "metadata": {
      "needs_background": "light"
     },
     "output_type": "display_data"
    }
   ],
   "source": [
    "x_axis = [1,2,3,4,5,6,7,8,9,10]\n",
    "y_axis_rmean = [rstd1_mean, rstd2_mean, rstd3_mean, rstd4_mean, rstd5_mean, rstd6_mean, rstd7_mean, rstd8_mean, rstd9_mean, rstd10_mean]\n",
    "y_axis_PF_std = [rstd1, PF2_Std_NEW, PF3_Std_NEW, PF4_Std_NEW, PF5_Std_NEW, PF6_Std_NEW, PF7_Std_NEW, PF8_Std_NEW, PF9_Std_NEW, PF10_Std_NEW]\n",
    "\n",
    "\n",
    "fig2 = plt.plot(x_axis, y_axis_rmean, y_axis_PF_std)\n",
    "\n",
    "fig, ax1 = plt.subplots()\n",
    "\n",
    "color = 'tab:red'\n",
    "ax1.set_xlabel('Number of Stocks')\n",
    "ax1.set_ylabel('Portfolio Standard Deviation', color=color)\n",
    "ax1.plot(x_axis, y_axis_PF_std, color = color)\n",
    "ax1.tick_params(axis = 'y', labelcolor=color)\n",
    "\n",
    "ax2 = ax1.twinx()\n",
    "color = 'tab:blue'\n",
    "ax2.set_ylabel('Mean Standard Deviation', color=color)\n",
    "ax2.plot(x_axis, y_axis_rmean, color = color)\n",
    "ax2.tick_params(axis='y', labelcolor=color)\n",
    "\n",
    "fig.tight_layout()\n",
    "plt.show()"
   ]
  },
  {
   "cell_type": "code",
   "execution_count": null,
   "id": "cbe19c81",
   "metadata": {},
   "outputs": [],
   "source": []
  }
 ],
 "metadata": {
  "kernelspec": {
   "display_name": "Python 3",
   "language": "python",
   "name": "python3"
  },
  "language_info": {
   "codemirror_mode": {
    "name": "ipython",
    "version": 3
   },
   "file_extension": ".py",
   "mimetype": "text/x-python",
   "name": "python",
   "nbconvert_exporter": "python",
   "pygments_lexer": "ipython3",
   "version": "3.8.8"
  }
 },
 "nbformat": 4,
 "nbformat_minor": 5
}
