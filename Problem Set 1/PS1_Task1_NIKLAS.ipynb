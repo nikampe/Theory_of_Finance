{
 "cells": [
  {
   "cell_type": "markdown",
   "metadata": {},
   "source": [
    "# Problem 1 - Return Comparison"
   ]
  },
  {
   "cell_type": "code",
   "execution_count": 1,
   "metadata": {},
   "outputs": [],
   "source": [
    "import pandas as pd\n",
    "import numpy as np\n",
    "import matplotlib.pyplot as plt\n",
    "import warnings\n",
    "warnings.filterwarnings(\"ignore\")"
   ]
  },
  {
   "cell_type": "markdown",
   "metadata": {},
   "source": [
    "## a)"
   ]
  },
  {
   "cell_type": "code",
   "execution_count": 10,
   "metadata": {},
   "outputs": [
    {
     "name": "stdout",
     "output_type": "stream",
     "text": [
      "            DEUTSCHE_BANK   ALLIANZ      BASF   SIEMENS       BMW     BAYER  \\\n",
      "1996-08-23       0.005421  0.035851  0.085921  0.023022  0.018961  0.062685   \n",
      "1996-09-23      -0.029687 -0.004419  0.082109  0.003933  0.011622  0.038204   \n",
      "1996-10-23      -0.004588  0.029361  0.029044  0.011900  0.033911  0.042568   \n",
      "1996-11-23      -0.003359  0.007230  0.085472 -0.104982  0.039467  0.019031   \n",
      "1996-12-23       0.000293 -0.003587  0.113851 -0.001529  0.128339  0.032261   \n",
      "\n",
      "                E_ON       RWE    HENKEL       SAP  \n",
      "1996-08-23  0.027119  0.030107  0.015875  0.106914  \n",
      "1996-09-23  0.015450  0.031968  0.015520  0.063693  \n",
      "1996-10-23  0.057710  0.146010  0.027635 -0.176907  \n",
      "1996-11-23  0.035129  0.027803  0.126821 -0.048978  \n",
      "1996-12-23  0.023631 -0.012378 -0.026487  0.075002  \n"
     ]
    }
   ],
   "source": [
    "data = pd.read_csv('PS1 - Data.csv', index_col = 0)\n",
    "# Discrete Monthly Returns\n",
    "for column in data.columns:\n",
    "    data[column] = data[column].pct_change(periods = 1)\n",
    "discrete_returns = data.iloc[1:,:]\n",
    "print(discrete_returns.head(n = 5))"
   ]
  },
  {
   "cell_type": "code",
   "execution_count": 11,
   "metadata": {},
   "outputs": [
    {
     "name": "stdout",
     "output_type": "stream",
     "text": [
      "            DEUTSCHE_BANK   ALLIANZ      BASF   SIEMENS       BMW     BAYER  \\\n",
      "1996-08-23       0.005407  0.035223  0.082428  0.022761  0.018784  0.060798   \n",
      "1996-09-23      -0.030137 -0.004429  0.078912  0.003925  0.011555  0.037492   \n",
      "1996-10-23      -0.004598  0.028938  0.028630  0.011830  0.033349  0.041687   \n",
      "1996-11-23      -0.003365  0.007204  0.082015 -0.110911  0.038708  0.018853   \n",
      "1996-12-23       0.000293 -0.003594  0.107823 -0.001530  0.120747  0.031752   \n",
      "\n",
      "                E_ON       RWE    HENKEL       SAP  \n",
      "1996-08-23  0.026758  0.029662  0.015750  0.101576  \n",
      "1996-09-23  0.015332  0.031467  0.015401  0.061747  \n",
      "1996-10-23  0.056106  0.136286  0.027260 -0.194687  \n",
      "1996-11-23  0.034526  0.027424  0.119400 -0.050218  \n",
      "1996-12-23  0.023356 -0.012455 -0.026844  0.072323  \n"
     ]
    }
   ],
   "source": [
    "log_returns = np.log(1 + discrete_returns)\n",
    "print(log_returns.head(n = 5))"
   ]
  },
  {
   "cell_type": "code",
   "execution_count": 12,
   "metadata": {},
   "outputs": [
    {
     "name": "stdout",
     "output_type": "stream",
     "text": [
      "DEUTSCHE_BANK    0.005781\n",
      "ALLIANZ          0.009765\n",
      "BASF             0.012841\n",
      "SIEMENS          0.012938\n",
      "BMW              0.012715\n",
      "BAYER            0.008714\n",
      "E_ON             0.006305\n",
      "RWE              0.007659\n",
      "HENKEL           0.010174\n",
      "SAP              0.014813\n",
      "dtype: float64\n"
     ]
    }
   ],
   "source": [
    "mean_discrete_returns = discrete_returns.mean()\n",
    "print(mean_discrete_returns)"
   ]
  },
  {
   "cell_type": "code",
   "execution_count": 14,
   "metadata": {},
   "outputs": [
    {
     "name": "stdout",
     "output_type": "stream",
     "text": [
      "DEUTSCHE_BANK   -0.001734\n",
      "ALLIANZ          0.004535\n",
      "BASF             0.009312\n",
      "SIEMENS          0.007988\n",
      "BMW              0.008206\n",
      "BAYER            0.004945\n",
      "E_ON             0.003171\n",
      "RWE              0.003527\n",
      "HENKEL           0.008016\n",
      "SAP              0.009443\n",
      "dtype: float64\n"
     ]
    }
   ],
   "source": [
    "mean_log_returns = log_returns.mean()\n",
    "print(mean_log_returns)"
   ]
  },
  {
   "cell_type": "code",
   "execution_count": 15,
   "metadata": {},
   "outputs": [
    {
     "name": "stdout",
     "output_type": "stream",
     "text": [
      "DEUTSCHE_BANK    0.123125\n",
      "ALLIANZ          0.101044\n",
      "BASF             0.081873\n",
      "SIEMENS          0.097924\n",
      "BMW              0.093502\n",
      "BAYER            0.085710\n",
      "E_ON             0.077994\n",
      "RWE              0.089498\n",
      "HENKEL           0.064351\n",
      "SAP              0.101566\n",
      "dtype: float64\n"
     ]
    }
   ],
   "source": [
    "std_discrete_returns = discrete_returns.std()\n",
    "print(std_discrete_returns)"
   ]
  },
  {
   "cell_type": "code",
   "execution_count": 16,
   "metadata": {},
   "outputs": [
    {
     "name": "stdout",
     "output_type": "stream",
     "text": [
      "DEUTSCHE_BANK    0.123725\n",
      "ALLIANZ          0.103587\n",
      "BASF             0.084579\n",
      "SIEMENS          0.100254\n",
      "BMW              0.095559\n",
      "BAYER            0.087519\n",
      "E_ON             0.079970\n",
      "RWE              0.091935\n",
      "HENKEL           0.065799\n",
      "SAP              0.104463\n",
      "dtype: float64\n"
     ]
    }
   ],
   "source": [
    "std_log_returns = log_returns.std()\n",
    "print(std_log_returns)"
   ]
  },
  {
   "cell_type": "code",
   "execution_count": 17,
   "metadata": {},
   "outputs": [
    {
     "name": "stdout",
     "output_type": "stream",
     "text": [
      "DEUTSCHE_BANK    0.069372\n",
      "ALLIANZ          0.117179\n",
      "BASF             0.154088\n",
      "SIEMENS          0.155251\n",
      "BMW              0.152583\n",
      "BAYER            0.104574\n",
      "E_ON             0.075657\n",
      "RWE              0.091904\n",
      "HENKEL           0.122083\n",
      "SAP              0.177752\n",
      "dtype: float64\n"
     ]
    }
   ],
   "source": [
    "mean_discrete_returns_ann = mean_discrete_returns * 12\n",
    "print(mean_discrete_returns_ann)"
   ]
  },
  {
   "cell_type": "code",
   "execution_count": 18,
   "metadata": {},
   "outputs": [
    {
     "name": "stdout",
     "output_type": "stream",
     "text": [
      "DEUTSCHE_BANK   -0.020805\n",
      "ALLIANZ          0.054416\n",
      "BASF             0.111738\n",
      "SIEMENS          0.095857\n",
      "BMW              0.098470\n",
      "BAYER            0.059340\n",
      "E_ON             0.038057\n",
      "RWE              0.042329\n",
      "HENKEL           0.096194\n",
      "SAP              0.113320\n",
      "dtype: float64\n"
     ]
    }
   ],
   "source": [
    "mean_log_returns_ann = mean_log_returns * 12\n",
    "print(mean_log_returns_ann)"
   ]
  },
  {
   "cell_type": "markdown",
   "metadata": {},
   "source": [
    "## b)"
   ]
  },
  {
   "cell_type": "code",
   "execution_count": null,
   "metadata": {},
   "outputs": [],
   "source": []
  }
 ],
 "metadata": {
  "kernelspec": {
   "display_name": "Python 3",
   "language": "python",
   "name": "python3"
  },
  "language_info": {
   "codemirror_mode": {
    "name": "ipython",
    "version": 3
   },
   "file_extension": ".py",
   "mimetype": "text/x-python",
   "name": "python",
   "nbconvert_exporter": "python",
   "pygments_lexer": "ipython3",
   "version": "3.7.6"
  }
 },
 "nbformat": 4,
 "nbformat_minor": 4
}
