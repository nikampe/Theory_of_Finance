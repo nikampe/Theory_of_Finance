{
 "cells": [
  {
   "cell_type": "markdown",
   "metadata": {},
   "source": [
    "# Problem 1 - Return Comparison"
   ]
  },
  {
   "cell_type": "code",
   "execution_count": 1,
   "metadata": {},
   "outputs": [],
   "source": [
    "import pandas as pd\n",
    "import numpy as np\n",
    "import matplotlib.pyplot as plt\n",
    "import warnings\n",
    "warnings.filterwarnings(\"ignore\")"
   ]
  },
  {
   "cell_type": "markdown",
   "metadata": {},
   "source": [
    "## a)"
   ]
  },
  {
   "cell_type": "code",
   "execution_count": 10,
   "metadata": {},
   "outputs": [
    {
     "name": "stdout",
     "output_type": "stream",
     "text": [
      "            DEUTSCHE_BANK   ALLIANZ      BASF   SIEMENS       BMW     BAYER  \\\n",
      "1996-08-23       0.005421  0.035851  0.085921  0.023022  0.018961  0.062685   \n",
      "1996-09-23      -0.029687 -0.004419  0.082109  0.003933  0.011622  0.038204   \n",
      "1996-10-23      -0.004588  0.029361  0.029044  0.011900  0.033911  0.042568   \n",
      "1996-11-23      -0.003359  0.007230  0.085472 -0.104982  0.039467  0.019031   \n",
      "1996-12-23       0.000293 -0.003587  0.113851 -0.001529  0.128339  0.032261   \n",
      "\n",
      "                E_ON       RWE    HENKEL       SAP  \n",
      "1996-08-23  0.027119  0.030107  0.015875  0.106914  \n",
      "1996-09-23  0.015450  0.031968  0.015520  0.063693  \n",
      "1996-10-23  0.057710  0.146010  0.027635 -0.176907  \n",
      "1996-11-23  0.035129  0.027803  0.126821 -0.048978  \n",
      "1996-12-23  0.023631 -0.012378 -0.026487  0.075002  \n"
     ]
    }
   ],
   "source": [
    "data = pd.read_csv('PS1 - Data.csv', index_col = 0)\n",
    "# Discrete Monthly Returns\n",
    "for column in data.columns:\n",
    "    data[column] = data[column].pct_change(periods = 1)\n",
    "discrete_returns = data.iloc[1:,:]\n",
    "print(discrete_returns.head(n = 5))"
   ]
  },
  {
   "cell_type": "code",
   "execution_count": 11,
   "metadata": {},
   "outputs": [
    {
     "name": "stdout",
     "output_type": "stream",
     "text": [
      "            DEUTSCHE_BANK   ALLIANZ      BASF   SIEMENS       BMW     BAYER  \\\n",
      "1996-08-23       0.005407  0.035223  0.082428  0.022761  0.018784  0.060798   \n",
      "1996-09-23      -0.030137 -0.004429  0.078912  0.003925  0.011555  0.037492   \n",
      "1996-10-23      -0.004598  0.028938  0.028630  0.011830  0.033349  0.041687   \n",
      "1996-11-23      -0.003365  0.007204  0.082015 -0.110911  0.038708  0.018853   \n",
      "1996-12-23       0.000293 -0.003594  0.107823 -0.001530  0.120747  0.031752   \n",
      "\n",
      "                E_ON       RWE    HENKEL       SAP  \n",
      "1996-08-23  0.026758  0.029662  0.015750  0.101576  \n",
      "1996-09-23  0.015332  0.031467  0.015401  0.061747  \n",
      "1996-10-23  0.056106  0.136286  0.027260 -0.194687  \n",
      "1996-11-23  0.034526  0.027424  0.119400 -0.050218  \n",
      "1996-12-23  0.023356 -0.012455 -0.026844  0.072323  \n"
     ]
    }
   ],
   "source": [
    "log_returns = np.log(1 + discrete_returns)\n",
    "print(log_returns.head(n = 5))"
   ]
  },
  {
   "cell_type": "code",
   "execution_count": 12,
   "metadata": {},
   "outputs": [
    {
     "name": "stdout",
     "output_type": "stream",
     "text": [
      "DEUTSCHE_BANK    0.005781\n",
      "ALLIANZ          0.009765\n",
      "BASF             0.012841\n",
      "SIEMENS          0.012938\n",
      "BMW              0.012715\n",
      "BAYER            0.008714\n",
      "E_ON             0.006305\n",
      "RWE              0.007659\n",
      "HENKEL           0.010174\n",
      "SAP              0.014813\n",
      "dtype: float64\n"
     ]
    }
   ],
   "source": [
    "mean_discrete_returns = discrete_returns.mean()\n",
    "print(mean_discrete_returns)"
   ]
  },
  {
   "cell_type": "code",
   "execution_count": 14,
   "metadata": {},
   "outputs": [
    {
     "name": "stdout",
     "output_type": "stream",
     "text": [
      "DEUTSCHE_BANK   -0.001734\n",
      "ALLIANZ          0.004535\n",
      "BASF             0.009312\n",
      "SIEMENS          0.007988\n",
      "BMW              0.008206\n",
      "BAYER            0.004945\n",
      "E_ON             0.003171\n",
      "RWE              0.003527\n",
      "HENKEL           0.008016\n",
      "SAP              0.009443\n",
      "dtype: float64\n"
     ]
    }
   ],
   "source": [
    "mean_log_returns = log_returns.mean()\n",
    "print(mean_log_returns)"
   ]
  },
  {
   "cell_type": "code",
   "execution_count": 15,
   "metadata": {},
   "outputs": [
    {
     "name": "stdout",
     "output_type": "stream",
     "text": [
      "DEUTSCHE_BANK    0.123125\n",
      "ALLIANZ          0.101044\n",
      "BASF             0.081873\n",
      "SIEMENS          0.097924\n",
      "BMW              0.093502\n",
      "BAYER            0.085710\n",
      "E_ON             0.077994\n",
      "RWE              0.089498\n",
      "HENKEL           0.064351\n",
      "SAP              0.101566\n",
      "dtype: float64\n"
     ]
    }
   ],
   "source": [
    "std_discrete_returns = discrete_returns.std()\n",
    "print(std_discrete_returns)"
   ]
  },
  {
   "cell_type": "code",
   "execution_count": 16,
   "metadata": {},
   "outputs": [
    {
     "name": "stdout",
     "output_type": "stream",
     "text": [
      "DEUTSCHE_BANK    0.123725\n",
      "ALLIANZ          0.103587\n",
      "BASF             0.084579\n",
      "SIEMENS          0.100254\n",
      "BMW              0.095559\n",
      "BAYER            0.087519\n",
      "E_ON             0.079970\n",
      "RWE              0.091935\n",
      "HENKEL           0.065799\n",
      "SAP              0.104463\n",
      "dtype: float64\n"
     ]
    }
   ],
   "source": [
    "std_log_returns = log_returns.std()\n",
    "print(std_log_returns)"
   ]
  },
  {
   "cell_type": "code",
   "execution_count": 17,
   "metadata": {},
   "outputs": [
    {
     "name": "stdout",
     "output_type": "stream",
     "text": [
      "DEUTSCHE_BANK    0.069372\n",
      "ALLIANZ          0.117179\n",
      "BASF             0.154088\n",
      "SIEMENS          0.155251\n",
      "BMW              0.152583\n",
      "BAYER            0.104574\n",
      "E_ON             0.075657\n",
      "RWE              0.091904\n",
      "HENKEL           0.122083\n",
      "SAP              0.177752\n",
      "dtype: float64\n"
     ]
    }
   ],
   "source": [
    "mean_discrete_returns_ann = mean_discrete_returns * 12\n",
    "print(mean_discrete_returns_ann)"
   ]
  },
  {
   "cell_type": "code",
   "execution_count": 18,
   "metadata": {},
   "outputs": [
    {
     "name": "stdout",
     "output_type": "stream",
     "text": [
      "DEUTSCHE_BANK   -0.020805\n",
      "ALLIANZ          0.054416\n",
      "BASF             0.111738\n",
      "SIEMENS          0.095857\n",
      "BMW              0.098470\n",
      "BAYER            0.059340\n",
      "E_ON             0.038057\n",
      "RWE              0.042329\n",
      "HENKEL           0.096194\n",
      "SAP              0.113320\n",
      "dtype: float64\n"
     ]
    }
   ],
   "source": [
    "mean_log_returns_ann = mean_log_returns * 12\n",
    "print(mean_log_returns_ann)"
   ]
  },
  {
   "cell_type": "markdown",
   "metadata": {},
   "source": [
    "## b)"
   ]
  },
  {
   "cell_type": "code",
   "execution_count": 55,
   "metadata": {},
   "outputs": [
    {
     "name": "stdout",
     "output_type": "stream",
     "text": [
      "         DEUTSCHE_BANK   ALLIANZ      BASF   SIEMENS      BMW     BAYER  \\\n",
      "max_diff      0.225127  0.133743  0.076351  0.092679  0.09344  0.080488   \n",
      "\n",
      "              E_ON       RWE   HENKEL      SAP  \n",
      "max_diff  0.054059  0.096935  0.07233  0.10342  \n",
      "\n",
      "Largest max discrete-log difference: 0.22512696771345952 (DEUTSCHE_BANK)\n",
      "\n",
      "Smallest max discrete-log difference: 0.05405919751851518 (E_ON)\n"
     ]
    }
   ],
   "source": [
    "stocks = data.columns\n",
    "differences = pd.DataFrame(columns = stocks)\n",
    "max_differences =  pd.DataFrame(columns = stocks, index = ['max_diff'])\n",
    "for stock in stocks:\n",
    "    diff = np.abs(discrete_returns[stock] - log_returns[stock])\n",
    "    max_diff = diff.max()\n",
    "    max_differences.loc['max_diff', stock] = max_diff\n",
    "print(max_differences)\n",
    "print('\\nLargest max discrete-log difference:', max_differences.loc['max_diff',:].max(), '(DEUTSCHE_BANK)')\n",
    "print('\\nSmallest max discrete-log difference:', max_differences.loc['max_diff',:].min(), '(E_ON)')"
   ]
  },
  {
   "cell_type": "code",
   "execution_count": 89,
   "metadata": {},
   "outputs": [
    {
     "data": {
      "image/png": "[encoded data removed]",
      "text/plain": [
       "<Figure size 864x432 with 1 Axes>"
      ]
     },
     "metadata": {
      "needs_background": "light"
     },
     "output_type": "display_data"
    },
    {
     "ename": "AttributeError",
     "evalue": "module 'matplotlib.pyplot' has no attribute 'save'",
     "output_type": "error",
     "traceback": [
      "\u001b[0;31m---------------------------------------------------------------------------\u001b[0m",
      "\u001b[0;31mAttributeError\u001b[0m                            Traceback (most recent call last)",
      "\u001b[0;32m<ipython-input-89-2c834f31dcd6>\u001b[0m in \u001b[0;36m<module>\u001b[0;34m\u001b[0m\n\u001b[1;32m      5\u001b[0m \u001b[0mplt\u001b[0m\u001b[0;34m.\u001b[0m\u001b[0mylabel\u001b[0m\u001b[0;34m(\u001b[0m\u001b[0;34m'Discrete Return'\u001b[0m\u001b[0;34m,\u001b[0m \u001b[0msize\u001b[0m \u001b[0;34m=\u001b[0m \u001b[0;36m14\u001b[0m\u001b[0;34m)\u001b[0m\u001b[0;34m\u001b[0m\u001b[0;34m\u001b[0m\u001b[0m\n\u001b[1;32m      6\u001b[0m \u001b[0mplt\u001b[0m\u001b[0;34m.\u001b[0m\u001b[0mshow\u001b[0m\u001b[0;34m(\u001b[0m\u001b[0;34m)\u001b[0m\u001b[0;34m\u001b[0m\u001b[0;34m\u001b[0m\u001b[0m\n\u001b[0;32m----> 7\u001b[0;31m \u001b[0mplt\u001b[0m\u001b[0;34m.\u001b[0m\u001b[0msave\u001b[0m\u001b[0;34m(\u001b[0m\u001b[0;34m'DB_Plot'\u001b[0m\u001b[0;34m)\u001b[0m\u001b[0;34m\u001b[0m\u001b[0;34m\u001b[0m\u001b[0m\n\u001b[0m",
      "\u001b[0;31mAttributeError\u001b[0m: module 'matplotlib.pyplot' has no attribute 'save'"
     ]
    }
   ],
   "source": [
    "plt.figure(figsize = (12,6))\n",
    "plt.plot(log_returns['DEUTSCHE_BANK'], discrete_returns['DEUTSCHE_BANK'], linestyle = \"None\", marker = 'o', color = 'blue')\n",
    "plt.title('Log- vs. Discrete Returns | DEUTSCHE_BANK', size = 16)\n",
    "plt.xlabel('Log Return', size = 14)\n",
    "plt.ylabel('Discrete Return', size = 14)\n",
    "plt.show()\n",
    "plt.save('DB_Plot')"
   ]
  },
  {
   "cell_type": "code",
   "execution_count": 59,
   "metadata": {},
   "outputs": [
    {
     "data": {
      "image/png": "[encoded data removed]",
      "text/plain": [
       "<Figure size 864x432 with 1 Axes>"
      ]
     },
     "metadata": {
      "needs_background": "light"
     },
     "output_type": "display_data"
    }
   ],
   "source": [
    "plt.figure(figsize = (12,6))\n",
    "plt.plot(log_returns['E_ON'], discrete_returns['E_ON'], linestyle = \"None\", marker = 'o', color = 'red')\n",
    "plt.title('Log- vs. Discrete Returns | E_ON', size = 16)\n",
    "plt.xlabel('Log Return', size = 14)\n",
    "plt.ylabel('Discrete Return', size = 14)\n",
    "plt.show()"
   ]
  },
  {
   "cell_type": "markdown",
   "metadata": {},
   "source": [
    "## c)"
   ]
  },
  {
   "cell_type": "markdown",
   "metadata": {},
   "source": [
    "seen in the solution sheet"
   ]
  },
  {
   "cell_type": "markdown",
   "metadata": {},
   "source": [
    "## d)"
   ]
  },
  {
   "cell_type": "code",
   "execution_count": 84,
   "metadata": {},
   "outputs": [
    {
     "name": "stdout",
     "output_type": "stream",
     "text": [
      "            portfolio_return\n",
      "1996-08-23          0.041188\n",
      "1996-09-23          0.022839\n",
      "1996-10-23          0.019664\n",
      "1996-11-23          0.018364\n",
      "1996-12-23          0.032940\n",
      "...                      ...\n",
      "2021-03-23          0.063548\n",
      "2021-04-23          0.039714\n",
      "2021-05-23          0.031182\n",
      "2021-06-23         -0.031495\n",
      "2021-07-23         -0.001809\n",
      "\n",
      "[300 rows x 1 columns]\n"
     ]
    }
   ],
   "source": [
    "stocks = data.columns\n",
    "weights = [1/10, 1/10, 1/10, 1/10, 1/10, 1/10, 1/10, 1/10, 1/10, 1/10]\n",
    "\n",
    "for stock, weight, i in zip(stocks, weights, range(0, len(stocks))):\n",
    "    weighted_stock_returns = (discrete_returns[stock] * weight).to_numpy()\n",
    "    if i == 0:\n",
    "        portfolio_returns = weighted_stock_returns\n",
    "    else:\n",
    "        portfolio_returns = np.add(portfolio_returns, weighted_stock_returns)\n",
    "portfolio_returns = pd.DataFrame(portfolio_returns, index = data.index[1:], columns = ['portfolio_return'])\n",
    "print(portfolio_returns)                          "
   ]
  },
  {
   "cell_type": "code",
   "execution_count": 88,
   "metadata": {},
   "outputs": [
    {
     "name": "stdout",
     "output_type": "stream",
     "text": [
      "\n",
      " Value of investment in July 2021: 980.76 EUR\n"
     ]
    }
   ],
   "source": [
    "investment = 100\n",
    "for i in portfolio_returns.index:\n",
    "    investment = investment * (1 + portfolio_returns.loc[i, 'portfolio_return'])\n",
    "print('\\n Value of investment in July 2021:', round(investment, 2), 'EUR')"
   ]
  },
  {
   "cell_type": "code",
   "execution_count": null,
   "metadata": {},
   "outputs": [],
   "source": []
  }
 ],
 "metadata": {
  "kernelspec": {
   "display_name": "Python 3",
   "language": "python",
   "name": "python3"
  },
  "language_info": {
   "codemirror_mode": {
    "name": "ipython",
    "version": 3
   },
   "file_extension": ".py",
   "mimetype": "text/x-python",
   "name": "python",
   "nbconvert_exporter": "python",
   "pygments_lexer": "ipython3",
   "version": "3.7.6"
  }
 },
 "nbformat": 4,
 "nbformat_minor": 4
}
