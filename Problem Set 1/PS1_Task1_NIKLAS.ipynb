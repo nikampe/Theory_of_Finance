{
 "cells": [
  {
   "cell_type": "markdown",
   "metadata": {},
   "source": [
    "# Problem 1 - Return Comparison"
   ]
  },
  {
   "cell_type": "code",
   "execution_count": 1,
   "metadata": {},
   "outputs": [],
   "source": [
    "import pandas as pd\n",
    "import numpy as np\n",
    "import matplotlib.pyplot as plt\n",
    "import warnings\n",
    "warnings.filterwarnings(\"ignore\")"
   ]
  },
  {
   "cell_type": "markdown",
   "metadata": {},
   "source": [
    "## a)"
   ]
  },
  {
   "cell_type": "code",
   "execution_count": 6,
   "metadata": {},
   "outputs": [
    {
     "name": "stdout",
     "output_type": "stream",
     "text": [
      "            DEUTSCHE_BANK   ALLIANZ      BASF   SIEMENS       BMW     BAYER  \\\n",
      "1996-08-23       0.005421  0.035851  0.085921  0.023022  0.018961  0.062685   \n",
      "1996-09-23      -0.029687 -0.004419  0.082109  0.003933  0.011622  0.038204   \n",
      "1996-10-23      -0.004588  0.029361  0.029044  0.011900  0.033911  0.042568   \n",
      "1996-11-23      -0.003359  0.007230  0.085472 -0.104982  0.039467  0.019031   \n",
      "1996-12-23       0.000293 -0.003587  0.113851 -0.001529  0.128339  0.032261   \n",
      "\n",
      "                E_ON       RWE    HENKEL       SAP  \n",
      "1996-08-23  0.027119  0.030107  0.015875  0.106914  \n",
      "1996-09-23  0.015450  0.031968  0.015520  0.063693  \n",
      "1996-10-23  0.057710  0.146010  0.027635 -0.176907  \n",
      "1996-11-23  0.035129  0.027803  0.126821 -0.048978  \n",
      "1996-12-23  0.023631 -0.012378 -0.026487  0.075002  \n"
     ]
    }
   ],
   "source": [
    "data = pd.read_csv('PS1 - Data.csv', index_col = 0)\n",
    "# Discrete Monthly Returns\n",
    "for column in data.columns:\n",
    "    data[column] = data[column].pct_change(periods = 1)\n",
    "discrete_returns = data.iloc[1:,:]\n",
    "print(discrete_returns.head(n = 5))"
   ]
  },
  {
   "cell_type": "code",
   "execution_count": 8,
   "metadata": {},
   "outputs": [
    {
     "name": "stdout",
     "output_type": "stream",
     "text": [
      "            DEUTSCHE_BANK   ALLIANZ      BASF   SIEMENS       BMW     BAYER  \\\n",
      "1996-08-23       0.005407  0.035223  0.082428  0.022761  0.018784  0.060798   \n",
      "1996-09-23      -0.030137 -0.004429  0.078912  0.003925  0.011555  0.037492   \n",
      "1996-10-23      -0.004598  0.028938  0.028630  0.011830  0.033349  0.041687   \n",
      "1996-11-23      -0.003365  0.007204  0.082015 -0.110911  0.038708  0.018853   \n",
      "1996-12-23       0.000293 -0.003594  0.107823 -0.001530  0.120747  0.031752   \n",
      "...                   ...       ...       ...       ...       ...       ...   \n",
      "2021-03-23       0.059785  0.067077  0.011524  0.054954  0.192715  0.009116   \n",
      "2021-04-23      -0.064163  0.026271  0.023649  0.040061  0.031730  0.013793   \n",
      "2021-05-23       0.203436  0.036392  0.009802 -0.044465  0.011221  0.059460   \n",
      "2021-06-23      -0.104199 -0.008592 -0.040075  0.007769  0.068525 -0.099229   \n",
      "2021-07-23      -0.027276 -0.020735  0.028235 -0.017379 -0.066420  0.010787   \n",
      "\n",
      "                E_ON       RWE    HENKEL       SAP  \n",
      "1996-08-23  0.026758  0.029662  0.015750  0.101576  \n",
      "1996-09-23  0.015332  0.031467  0.015401  0.061747  \n",
      "1996-10-23  0.056106  0.136286  0.027260 -0.194687  \n",
      "1996-11-23  0.034526  0.027424  0.119400 -0.050218  \n",
      "1996-12-23  0.023356 -0.012455 -0.026844  0.072323  \n",
      "...              ...       ...       ...       ...  \n",
      "2021-03-23  0.046319  0.038246  0.107971  0.014204  \n",
      "2021-04-23  0.110076  0.036837  0.020988  0.136834  \n",
      "2021-05-23  0.053402 -0.015399 -0.009684 -0.019889  \n",
      "2021-06-23 -0.034936 -0.081730 -0.060817  0.019210  \n",
      "2021-07-23  0.054173  0.003653  0.002587  0.009383  \n",
      "\n",
      "[300 rows x 10 columns]\n"
     ]
    }
   ],
   "source": [
    "log_returns = np.log(1 + discrete_returns)\n",
    "print(log_returns)"
   ]
  },
  {
   "cell_type": "code",
   "execution_count": null,
   "metadata": {},
   "outputs": [],
   "source": []
  }
 ],
 "metadata": {
  "kernelspec": {
   "display_name": "Python 3",
   "language": "python",
   "name": "python3"
  },
  "language_info": {
   "codemirror_mode": {
    "name": "ipython",
    "version": 3
   },
   "file_extension": ".py",
   "mimetype": "text/x-python",
   "name": "python",
   "nbconvert_exporter": "python",
   "pygments_lexer": "ipython3",
   "version": "3.7.6"
  }
 },
 "nbformat": 4,
 "nbformat_minor": 4
}
